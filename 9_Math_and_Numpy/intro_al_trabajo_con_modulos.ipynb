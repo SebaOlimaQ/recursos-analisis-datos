{
  "nbformat": 4,
  "nbformat_minor": 0,
  "metadata": {
    "colab": {
      "provenance": []
    },
    "kernelspec": {
      "name": "python3",
      "display_name": "Python 3"
    },
    "language_info": {
      "name": "python"
    }
  },
  "cells": [
    {
      "cell_type": "markdown",
      "source": [
        "#INSTALAR MÓDULOS\n",
        "A la hora de trabajar con módulos es posible que no los tengamos instalados ya que muchos son creados por la comunidad o simplemente no estan incluidos con los archivos base de python.\n",
        "\n",
        "Para ello podemos usar pip:\n",
        "\n",
        "En la terminal (local): pip install <nombre_modulo>\n",
        "En colab ejecutar en una celda: !pip install <nombre_modulo>\n",
        "#MATH\n",
        "El módulo math en Python se utiliza para realizar operaciones matemáticas más avanzadas que las disponibles en el conjunto de funciones y permite utilizar constantes matemáticas básicas para manejar problemas más complejos que requieren operaciones matemáticas avanzadas..\n",
        "\n",
        "Incluye funciones para:\n",
        "\n",
        "Realizar cálculos trigonométricos\n",
        "Operaciones de álgebra lineal\n",
        "Funciones exponenciales y logarítmicas\n",
        "##Ejercicio 1.0\n",
        "Importar el módulo math"
      ],
      "metadata": {
        "id": "R30Z4Z3ZQgca"
      }
    },
    {
      "cell_type": "code",
      "source": [
        "import math"
      ],
      "metadata": {
        "id": "eP6aBYGYQrXl"
      },
      "execution_count": 1,
      "outputs": []
    },
    {
      "cell_type": "markdown",
      "source": [
        "##Ejercicio 1.1\n",
        "Calculadora de Área de un Círculo"
      ],
      "metadata": {
        "id": "e9iUF-roRhBZ"
      }
    },
    {
      "cell_type": "code",
      "source": [
        "radio = float(input(\"Ingrese el radio del círculo: \"))\n",
        "area = math.pi * radio ** 2\n",
        "print(\"El área del círculo es:\", area)"
      ],
      "metadata": {
        "colab": {
          "base_uri": "https://localhost:8080/"
        },
        "id": "DsKTuV3ORm_3",
        "outputId": "9f5e7da8-7cfd-494c-bf09-7c8109fe4c54"
      },
      "execution_count": 2,
      "outputs": [
        {
          "output_type": "stream",
          "name": "stdout",
          "text": [
            "Ingrese el radio del círculo: 56\n",
            "El área del círculo es: 9852.03456165759\n"
          ]
        }
      ]
    },
    {
      "cell_type": "markdown",
      "source": [
        "##Ejercicio 1.2\n",
        "Calculadora de Hipotenusa"
      ],
      "metadata": {
        "id": "Vw1qxdXCR9W5"
      }
    },
    {
      "cell_type": "code",
      "source": [
        "cateto1 = float(input(\"Ingrese la longitud del primer cateto: \"))\n",
        "cateto2 = float(input(\"Ingrese la longitud del segundo cateto: \"))\n",
        "hipotenusa = math.sqrt(cateto1 ** 2 + cateto2 ** 2)\n",
        "print(\"La longitud de la hipotenusa es:\", hipotenusa)"
      ],
      "metadata": {
        "colab": {
          "base_uri": "https://localhost:8080/"
        },
        "id": "LLTDgyMTR_iq",
        "outputId": "0dbc76cd-5bcf-451a-b5e5-5dbd80cfea04"
      },
      "execution_count": 3,
      "outputs": [
        {
          "output_type": "stream",
          "name": "stdout",
          "text": [
            "Ingrese la longitud del primer cateto: 4\n",
            "Ingrese la longitud del segundo cateto: 2\n",
            "La longitud de la hipotenusa es: 4.47213595499958\n"
          ]
        }
      ]
    },
    {
      "cell_type": "markdown",
      "source": [
        "##Ejercicio 1.3\n",
        "Calculadora seno, coseno, tangente"
      ],
      "metadata": {
        "id": "4UurshkyTOXl"
      }
    },
    {
      "cell_type": "code",
      "source": [
        "angulo_grados = float(input(\"Ingrese el ángulo en grados: \"))\n",
        "angulo_radianes = math.radians(angulo_grados)\n",
        "\n",
        "seno = math.sin(angulo_radianes)\n",
        "coseno = math.cos(angulo_radianes)\n",
        "tangente = math.tan(angulo_radianes)\n",
        "\n",
        "print(\"Seno:\", seno)\n",
        "print(\"Coseno:\", coseno)\n",
        "print(\"Tangente:\", tangente)"
      ],
      "metadata": {
        "colab": {
          "base_uri": "https://localhost:8080/"
        },
        "id": "YNYEarqeTQEF",
        "outputId": "2a174200-0ad0-41f7-fade-7370229c22a1"
      },
      "execution_count": 4,
      "outputs": [
        {
          "output_type": "stream",
          "name": "stdout",
          "text": [
            "Ingrese el ángulo en grados: 32\n",
            "Seno: 0.5299192642332049\n",
            "Coseno: 0.848048096156426\n",
            "Tangente: 0.6248693519093275\n"
          ]
        }
      ]
    },
    {
      "cell_type": "markdown",
      "source": [
        "##Ejercicio 1.4\n",
        "Cálculo de Potencias"
      ],
      "metadata": {
        "id": "HUWxa03jTVtW"
      }
    },
    {
      "cell_type": "code",
      "source": [
        "base = float(input(\"Ingrese la base: \"))\n",
        "exponente = float(input(\"Ingrese el exponente: \"))\n",
        "resultado = math.pow(base, exponente)\n",
        "print(\"El resultado de\", base, \"elevado a la\", exponente, \"es:\", resultado)"
      ],
      "metadata": {
        "colab": {
          "base_uri": "https://localhost:8080/"
        },
        "id": "IXNJNUh-TZZY",
        "outputId": "12026ad7-4f5d-4a80-f797-1408811fb8c4"
      },
      "execution_count": 5,
      "outputs": [
        {
          "output_type": "stream",
          "name": "stdout",
          "text": [
            "Ingrese la base: 2\n",
            "Ingrese el exponente: 5\n",
            "El resultado de 2.0 elevado a la 5.0 es: 32.0\n"
          ]
        }
      ]
    },
    {
      "cell_type": "markdown",
      "source": [
        "##Ejercicio 1.5\n",
        "Área de un Triángulo (fórmula de Herón)"
      ],
      "metadata": {
        "id": "p5FgEzBnTh3V"
      }
    },
    {
      "cell_type": "code",
      "source": [
        "lado1 = 5\n",
        "lado2 = 6\n",
        "lado3 = 7\n",
        "\n",
        "s = (lado1 + lado2 + lado3) / 2\n",
        "\n",
        "area = math.sqrt(s * (s - lado1) * (s - lado2) * (s - lado3))\n",
        "print(\"El área del triángulo es:\", area)\n",
        ""
      ],
      "metadata": {
        "colab": {
          "base_uri": "https://localhost:8080/"
        },
        "id": "SzS2QtB2TpH2",
        "outputId": "8ee4da3d-1861-4b6d-a884-cab2a0977883"
      },
      "execution_count": 6,
      "outputs": [
        {
          "output_type": "stream",
          "name": "stdout",
          "text": [
            "El área del triángulo es: 14.696938456699069\n"
          ]
        }
      ]
    },
    {
      "cell_type": "markdown",
      "source": [
        "#NUMPY\n",
        "NumPy es una biblioteca de Python que ayuda a trabajar con matrices y arreglos multidimensionales.\n",
        "\n",
        "Con NumPy se puede realizar:\n",
        "\n",
        "\n",
        "*   Multiplicación de matrices/arregleos\n",
        "*   Inversión de matrices/arregleos\n",
        "*   Cálculo de funciones trigonométricas\n",
        "*   Procesamiento de datos\n",
        "*   Manipulación de matrices grandes de manera rápida y eficiente.\n",
        "\n",
        "\n",
        "\n",
        "En resumen NumPy se usa para trabajar con datos numéricos en Python.\n",
        "\n"
      ],
      "metadata": {
        "id": "N9DWMibaWG-6"
      }
    },
    {
      "cell_type": "markdown",
      "source": [
        "##Ejercicio 2.0\n",
        "Importar Numpy pero usando el alias np"
      ],
      "metadata": {
        "id": "T_-HdFvcSoZh"
      }
    },
    {
      "cell_type": "code",
      "source": [
        "import numpy as np"
      ],
      "metadata": {
        "id": "a20LFr9ESqg4"
      },
      "execution_count": 1,
      "outputs": []
    },
    {
      "cell_type": "markdown",
      "source": [
        "##Ejercicio 2.1\n",
        "Veamos las operaciones basicas con arrays"
      ],
      "metadata": {
        "id": "tlLA2bNIS0oy"
      }
    },
    {
      "cell_type": "code",
      "source": [
        "a = np.array([1,2,3,4,5])\n",
        "b = np.array([6,7,8,9,10])\n",
        "\n",
        "suma = a + b\n",
        "resta = a - b\n",
        "multiplicacion = a * b\n",
        "division = a / b\n",
        "\n",
        "print (\"suma:\", suma)\n",
        "print (\"resta:\", resta)\n",
        "print (\"multiplicacion:\", multiplicacion)\n",
        "print (\"division:\", division)"
      ],
      "metadata": {
        "colab": {
          "base_uri": "https://localhost:8080/"
        },
        "id": "sCDOkgIFS3aj",
        "outputId": "22ca36f4-cca0-481d-a7c5-d4b3bb864d88"
      },
      "execution_count": 4,
      "outputs": [
        {
          "output_type": "stream",
          "name": "stdout",
          "text": [
            "suma: [ 7  9 11 13 15]\n",
            "resta: [-5 -5 -5 -5 -5]\n",
            "multiplicacion: [ 6 14 24 36 50]\n",
            "division: [0.16666667 0.28571429 0.375      0.44444444 0.5       ]\n"
          ]
        }
      ]
    },
    {
      "cell_type": "markdown",
      "source": [
        "##Ejercicio 2.2\n",
        "Con numpy es muy facil crear matrices, por ejemplo la matriz de Identidad"
      ],
      "metadata": {
        "id": "c8ShhqkMUX7E"
      }
    },
    {
      "cell_type": "code",
      "source": [
        "matriz_identidad = np.eye(8)\n",
        "print(matriz_identidad)"
      ],
      "metadata": {
        "colab": {
          "base_uri": "https://localhost:8080/"
        },
        "id": "TkZtt4Q-Uah5",
        "outputId": "3b3bba00-3d05-4876-9bf0-7a79679170a8"
      },
      "execution_count": 9,
      "outputs": [
        {
          "output_type": "stream",
          "name": "stdout",
          "text": [
            "[[1. 0. 0. 0. 0. 0. 0. 0.]\n",
            " [0. 1. 0. 0. 0. 0. 0. 0.]\n",
            " [0. 0. 1. 0. 0. 0. 0. 0.]\n",
            " [0. 0. 0. 1. 0. 0. 0. 0.]\n",
            " [0. 0. 0. 0. 1. 0. 0. 0.]\n",
            " [0. 0. 0. 0. 0. 1. 0. 0.]\n",
            " [0. 0. 0. 0. 0. 0. 1. 0.]\n",
            " [0. 0. 0. 0. 0. 0. 0. 1.]]\n"
          ]
        }
      ]
    },
    {
      "cell_type": "markdown",
      "source": [
        "no admite float y tampoco enteros negativos"
      ],
      "metadata": {
        "id": "Q0ZmElpDVin8"
      }
    },
    {
      "cell_type": "markdown",
      "source": [
        "##Ejercicio 2.3\n",
        "Si trabajamos con vectores podemos calcular el producto escalar de estos"
      ],
      "metadata": {
        "id": "ycfiszXvVteU"
      }
    },
    {
      "cell_type": "code",
      "source": [
        "vector1 = np.array([1, 2, 3])\n",
        "vector2 = np.array([4, 5, 6])\n",
        "\n",
        "producto_escalar = np.dot(vector1, vector2)\n",
        "print(\"Producto escalar:\", producto_escalar)"
      ],
      "metadata": {
        "colab": {
          "base_uri": "https://localhost:8080/"
        },
        "id": "vnnYrexTWPzV",
        "outputId": "41544fc2-1b9f-4bf7-ed13-d94e6c3bfb08"
      },
      "execution_count": 10,
      "outputs": [
        {
          "output_type": "stream",
          "name": "stdout",
          "text": [
            "Producto escalar: 32\n"
          ]
        }
      ]
    },
    {
      "cell_type": "markdown",
      "source": [
        "que hace por detras (1 * 4)+(2 * 5)+(6 * 3) = 4 + 10 + 18 = 32"
      ],
      "metadata": {
        "id": "TF94IM5gi4Cz"
      }
    },
    {
      "cell_type": "markdown",
      "source": [],
      "metadata": {
        "id": "mXZrVHP0jOsr"
      }
    },
    {
      "cell_type": "markdown",
      "source": [
        "##Ejercicio 2.4\n",
        "Otra operación muy común es calcular el vector norma"
      ],
      "metadata": {
        "id": "K5na4MTojahL"
      }
    },
    {
      "cell_type": "code",
      "source": [
        "vector = np.array([3, 4])\n",
        "norma = np.linalg.norm(vector)\n",
        "print(\"Norma del vector:\", norma)"
      ],
      "metadata": {
        "colab": {
          "base_uri": "https://localhost:8080/"
        },
        "id": "D_kBeu2UjcwC",
        "outputId": "ab41e743-efff-48c3-e34b-4dfbb4a0e052"
      },
      "execution_count": 11,
      "outputs": [
        {
          "output_type": "stream",
          "name": "stdout",
          "text": [
            "Norma del vector: 5.0\n"
          ]
        }
      ]
    },
    {
      "cell_type": "markdown",
      "source": [
        "Cómo calcular el módulo de un vector con sus componentes\n",
        "\n",
        "Componentes de un vector\n",
        "\n",
        "u--> = (a, b)\n",
        "\n",
        "Un vector está definido por sus componentes y a partir de ellas podemos calcular su módulo aplicando la siguiente fórmula:\n",
        "\n",
        "||u(vector)|| = (a al cuadrado + b al cuadrado) **1/2\n",
        "\n",
        "Fórmula para calcular el módulo de un vector"
      ],
      "metadata": {
        "id": "P0M82xtNyL8q"
      }
    },
    {
      "cell_type": "markdown",
      "source": [
        "##Ejercicio 2.5\n",
        "De forma similar es posible realizar operaciones entre matrices usando Numpy"
      ],
      "metadata": {
        "id": "Ts9PzuzJ2YfW"
      }
    },
    {
      "cell_type": "code",
      "source": [
        "matriz1 = np.array([[1, 2], [3, 4]])\n",
        "matriz2 = np.array([[5, 6], [7, 8]])\n",
        "\n",
        "producto_matricial = np.matmul(matriz1, matriz2)\n",
        "transpuesta = np.transpose(matriz1)\n",
        "determinante = np.linalg.det(matriz1)\n",
        "\n",
        "print(\"Producto matricial:\")\n",
        "print(producto_matricial)\n",
        "print(\"Transpuesta de la matriz:\")\n",
        "print(transpuesta)\n",
        "print(\"Determinante de la matriz:\")\n",
        "print(determinante)"
      ],
      "metadata": {
        "colab": {
          "base_uri": "https://localhost:8080/"
        },
        "id": "3swL-40S2awO",
        "outputId": "479acfb1-d2f4-47f2-f603-741f2c6cf97a"
      },
      "execution_count": 12,
      "outputs": [
        {
          "output_type": "stream",
          "name": "stdout",
          "text": [
            "Producto matricial:\n",
            "[[19 22]\n",
            " [43 50]]\n",
            "Transpuesta de la matriz:\n",
            "[[1 3]\n",
            " [2 4]]\n",
            "Determinante de la matriz:\n",
            "-2.0000000000000004\n"
          ]
        }
      ]
    },
    {
      "cell_type": "markdown",
      "source": [
        "Este es el resultado del producto matricial de matriz1 y matriz2. Cada elemento de la matriz resultante se calcula como se describió anteriormente. Por ejemplo, el primer elemento de la matriz resultante es 19, que se calcula como:\n",
        "\n",
        "1\n",
        "×\n",
        "5\n",
        "+\n",
        "2\n",
        "×\n",
        "7\n",
        "=\n",
        "19\n",
        "\n",
        "\n",
        "El segundo elemento de la matriz resultante es 22, que se calcula como:\n",
        "\n",
        "1\n",
        "×\n",
        "6\n",
        "+\n",
        "2\n",
        "×\n",
        "8\n",
        "=\n",
        "22\n",
        "\n",
        "\n",
        "Y así sucesivamente para los elementos restantes."
      ],
      "metadata": {
        "id": "LK5NLRN8AT63"
      }
    },
    {
      "cell_type": "markdown",
      "source": [
        "En resumen, dot tiene un comportamiento más general que matmul, ya que también puede realizar el producto punto de matrices multidimensionales, mientras que matmul está diseñado específicamente para el producto matricial y es más restrictivo en cuanto a las dimensiones de las matrices de entrada. Para operaciones de producto matricial, se recomienda utilizar matmul, ya que es más claro en su intención y puede ser más eficiente en ciertos casos."
      ],
      "metadata": {
        "id": "zEv4SAnyAHw2"
      }
    },
    {
      "cell_type": "markdown",
      "source": [
        ".la transpuesta de una matriz es una operación en la que las filas de la matriz original se convierten en columnas en la matriz transpuesta y viceversa. En numpy, puedes obtener la transpuesta de una matriz utilizando el atributo T o la función transpose().\n",
        "\n",
        "los elementos de las filas de la matriz original se convierten en columnas en la matriz transpuesta y viceversa."
      ],
      "metadata": {
        "id": "CZHqvrsgZlpQ"
      }
    },
    {
      "cell_type": "markdown",
      "source": [
        "La determinante de una matriz cuadrada es un número especial que se calcula a partir de los elementos de la matriz. En el caso de una matriz 2x2 como las que tenemos en nuestro ejemplo, la determinante se calcula mediante la fórmula:\n",
        "\n",
        "|a  b|\n",
        "\n",
        "|c  d|  = ad - bc"
      ],
      "metadata": {
        "id": "9V8ZeXHiZ24s"
      }
    },
    {
      "cell_type": "markdown",
      "source": [
        "##Ejercicio 2.6\n",
        "Numpy tiene una función especifica para resolver ecuaciones lineales"
      ],
      "metadata": {
        "id": "KqJa4U6Fa9k1"
      }
    },
    {
      "cell_type": "code",
      "source": [
        "coeficientes = np.array([[2, 3], [4, -1]])\n",
        "constantes = np.array([5, 2])\n",
        "\n",
        "solucion = np.linalg.solve(coeficientes, constantes)\n",
        "print(\"Solución del sistema de ecuaciones:\")\n",
        "print(\"x =\", solucion[0])\n",
        "print(\"y =\", solucion[1])"
      ],
      "metadata": {
        "colab": {
          "base_uri": "https://localhost:8080/"
        },
        "id": "PNJwt82qa_Rl",
        "outputId": "8b1b7bf3-9ff3-45f8-f656-abae70c73c75"
      },
      "execution_count": 13,
      "outputs": [
        {
          "output_type": "stream",
          "name": "stdout",
          "text": [
            "Solución del sistema de ecuaciones:\n",
            "x = 0.7857142857142857\n",
            "y = 1.1428571428571428\n"
          ]
        }
      ]
    },
    {
      "cell_type": "markdown",
      "source": [
        "2x + 3y = 5\n",
        "\n",
        "4x -  y = 2\n",
        "\n",
        "\n",
        "Se define un vector constantes que contiene los términos constantes de las ecuaciones del sistema. En este caso, el vector es [5, 2], lo que representa los términos constantes de las ecuaciones anteriores.\n",
        "\n",
        "Se utiliza la función numpy.linalg.solve(coeficientes, constantes) para encontrar la solución del sistema de ecuaciones representado por la matriz de coeficientes y el vector de constantes. Esta función resuelve el sistema de ecuaciones lineales de la forma coeficientes * x = constantes, donde x es el vector de incógnitas.\n",
        "\n",
        "La solución se almacena en la variable solucion. La solución es un vector que contiene los valores de las incógnitas que satisfacen todas las ecuaciones del sistema.\n",
        "\n",
        "Finalmente, se imprime la solución del sistema de ecuaciones, mostrando los valores de las incógnitas x e y.\n",
        "\n",
        "En resumen, este código calcula y muestra la solución de un sistema de ecuaciones lineales dados los coeficientes y los términos constantes de las ecuaciones."
      ],
      "metadata": {
        "id": "OtFW-yfQguRD"
      }
    },
    {
      "cell_type": "markdown",
      "source": [],
      "metadata": {
        "id": "1zi3l9aBZpV2"
      }
    }
  ]
}