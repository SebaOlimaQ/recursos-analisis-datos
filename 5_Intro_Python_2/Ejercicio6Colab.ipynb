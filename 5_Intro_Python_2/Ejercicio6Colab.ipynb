{
  "nbformat": 4,
  "nbformat_minor": 0,
  "metadata": {
    "colab": {
      "provenance": []
    },
    "kernelspec": {
      "name": "python3",
      "display_name": "Python 3"
    },
    "language_info": {
      "name": "python"
    }
  },
  "cells": [
    {
      "cell_type": "markdown",
      "source": [
        "# Ejercicio N°6 en Colab"
      ],
      "metadata": {
        "id": "PUWbQkaEFgF2"
      }
    },
    {
      "cell_type": "markdown",
      "source": [
        "## IF ELIF ELSE"
      ],
      "metadata": {
        "id": "8dPW2N7IG-1H"
      }
    },
    {
      "cell_type": "markdown",
      "source": [
        "### El if else en Python es una estructura de control que permite ejecutar bloques de código diferentes dependiendo de si una condición es verdadera o falsa. Si la condición dada es verdadera, se ejecuta el bloque de código dentro del if; de lo contrario, se ejecuta el bloque de código dentro del else."
      ],
      "metadata": {
        "id": "SU-tEg5RHW7b"
      }
    },
    {
      "cell_type": "markdown",
      "source": [],
      "metadata": {
        "id": "SvNHxHmL82kx"
      }
    },
    {
      "cell_type": "markdown",
      "source": [
        "## Ejercicio 1.1"
      ],
      "metadata": {
        "id": "Xt7mkXHjHl9D"
      }
    },
    {
      "cell_type": "markdown",
      "source": [
        "Veamos una demo comparando dos valores numericos"
      ],
      "metadata": {
        "id": "5132M4xAHxhy"
      }
    },
    {
      "cell_type": "code",
      "execution_count": 3,
      "metadata": {
        "id": "hzu0z3fI6vLG"
      },
      "outputs": [],
      "source": [
        "primer_valor = 10 #Defino la primer variable\n",
        "segundo_valor =  12 #Defino la segunda variable\n",
        "\n",
        "if primer_valor > segundo_valor: #Defino mi IF -> if <primer_termino> <lógica> <segundo_termino>:\n",
        "    print(\"El primer valor es grande que el segundo\") #Que hacer si la condición es afirmativa (verdadera) osea True"
      ]
    },
    {
      "cell_type": "markdown",
      "source": [
        "## Ejercicio 1.2"
      ],
      "metadata": {
        "id": "9K-RM8ZAJFff"
      }
    },
    {
      "cell_type": "markdown",
      "source": [
        "Creemos un código que detecte cuando una persona es mayor de edad, ahora definamos usando else que hacer cuando no se cumple mi if"
      ],
      "metadata": {
        "id": "hSPl80u-JLX9"
      }
    },
    {
      "cell_type": "markdown",
      "source": [],
      "metadata": {
        "id": "GoiuQAxcHr7y"
      }
    },
    {
      "cell_type": "code",
      "source": [
        "edad = 17  #Definimos la edad\n",
        "if edad >= 18 : #Definimos la condición if\n",
        "    print(\"Es mayor de edad\") #Que hacer cuando se cumple el if\n",
        "else: # Defino else que es la palabra que se usa para el bloque que indica que hacer cuando el if no se cumplio\n",
        "    print(\"Es menor de edad\") #Que hacer cuando \"caemos\" en el else"
      ],
      "metadata": {
        "colab": {
          "base_uri": "https://localhost:8080/"
        },
        "id": "1nRinnDGJdwO",
        "outputId": "32610c8e-1340-413b-eb00-a7448c86a967"
      },
      "execution_count": 5,
      "outputs": [
        {
          "output_type": "stream",
          "name": "stdout",
          "text": [
            "Es menor de edad\n"
          ]
        }
      ]
    },
    {
      "cell_type": "markdown",
      "source": [
        "## Ejercicio 1.3"
      ],
      "metadata": {
        "id": "kgyHYQacJq_j"
      }
    },
    {
      "cell_type": "markdown",
      "source": [
        "Podemos usar booleanos con los if"
      ],
      "metadata": {
        "id": "yQJO6cA_JwYH"
      }
    },
    {
      "cell_type": "code",
      "source": [
        "profesor = False\n",
        "\n",
        "if profesor != True:\n",
        "    print(\"Buenos dias profesor\")\n",
        "else :\n",
        "    print(\"Usted no es el profesor\")"
      ],
      "metadata": {
        "colab": {
          "base_uri": "https://localhost:8080/"
        },
        "id": "HTi4sxxpJy4R",
        "outputId": "0ee4b4c6-9bfb-4c67-e49d-6b4f278fdc09"
      },
      "execution_count": 9,
      "outputs": [
        {
          "output_type": "stream",
          "name": "stdout",
          "text": [
            "Buenos dias profesor\n"
          ]
        }
      ]
    },
    {
      "cell_type": "markdown",
      "source": [
        "## Ejercicio 1.5"
      ],
      "metadata": {
        "id": "3jxTbdITKTzo"
      }
    },
    {
      "cell_type": "markdown",
      "source": [
        "Tambien podemos aplicar los if en conjunto con strings"
      ],
      "metadata": {
        "id": "5-fQMcOjKX6I"
      }
    },
    {
      "cell_type": "code",
      "source": [
        "nacionalidad = \"argentina\"\n",
        "\n",
        "\n",
        "if nacionalidad == \"argentina\"  :\n",
        "    print(\"Usted  es argentino\")\n",
        "else:\n",
        "    print(\"Usted no es argentino\")"
      ],
      "metadata": {
        "colab": {
          "base_uri": "https://localhost:8080/"
        },
        "id": "Ca8-bnSMKan4",
        "outputId": "81063ffc-82bb-45de-cc87-72db56c10fa8"
      },
      "execution_count": 28,
      "outputs": [
        {
          "output_type": "stream",
          "name": "stdout",
          "text": [
            "Usted  es argentino\n"
          ]
        }
      ]
    },
    {
      "cell_type": "markdown",
      "source": [
        "## Ejercicio 1.6"
      ],
      "metadata": {
        "id": "HV8-V3hxLsMZ"
      }
    },
    {
      "cell_type": "markdown",
      "source": [
        "Analicemos que pasa con los strings, recordemos que el termino case sensitive"
      ],
      "metadata": {
        "id": "8yGH_VkRLvQh"
      }
    },
    {
      "cell_type": "code",
      "source": [
        "nacionalidad = \"Argentina\"\n",
        "\n",
        "if nacionalidad == \"argentina\":\n",
        "    print(\"Usted es argentino\")\n",
        "else:\n",
        "    print(\"Usted no es argentino\")"
      ],
      "metadata": {
        "colab": {
          "base_uri": "https://localhost:8080/"
        },
        "id": "ISwUIGAZLySa",
        "outputId": "71c3f376-ecfd-4e7f-cedd-4c8ef5c684c8"
      },
      "execution_count": 15,
      "outputs": [
        {
          "output_type": "stream",
          "name": "stdout",
          "text": [
            "Usted no es argentino\n"
          ]
        }
      ]
    },
    {
      "cell_type": "markdown",
      "source": [
        "## Ejercicio 1.7"
      ],
      "metadata": {
        "id": "gJX7pgOWL317"
      }
    },
    {
      "cell_type": "markdown",
      "source": [
        "Podemos aplicar diferentes condiciones, que se vallan ejecutando cuando la anterior fue rechazada.\n",
        "\n",
        "Para ello utilizaremos elif que seria como un nuevo if (es decir una nueva condición lógica) despues de otra anterior"
      ],
      "metadata": {
        "id": "9Zn9Qns6L6n1"
      }
    },
    {
      "cell_type": "code",
      "source": [
        "tipo_animal = \"puma\"\n",
        "\n",
        "if tipo_animal == \"perro\": #Condicion if inicial\n",
        "    print(\"En esta veterinaria si atendemos perros\") #Ejecución código if\n",
        "elif tipo_animal == \"gato\": #Condición elif\n",
        "    print(\"En esta veterinaria si atendemos gatos\") #Ejecución código elif\n",
        "else: #Deino else\n",
        "    print(\"En esta veterinaria solo atendemos perros y gatos\") #Ejecución código else"
      ],
      "metadata": {
        "colab": {
          "base_uri": "https://localhost:8080/"
        },
        "id": "PcK6rzubMAjd",
        "outputId": "857f9b7e-24d7-4d4b-d98f-964439a8c8f2"
      },
      "execution_count": 17,
      "outputs": [
        {
          "output_type": "stream",
          "name": "stdout",
          "text": [
            "En esta veterinaria solo atendemos perros y gatos\n"
          ]
        }
      ]
    },
    {
      "cell_type": "markdown",
      "source": [
        "## Ejercicio 1.8"
      ],
      "metadata": {
        "id": "hNcTGXQAMQ4I"
      }
    },
    {
      "cell_type": "markdown",
      "source": [
        "No hay límite de elif a utilizar, por lo que podemos aplicar varios"
      ],
      "metadata": {
        "id": "gLlOcMyKMTfx"
      }
    },
    {
      "cell_type": "code",
      "source": [
        "color_primario = \"azul\"\n",
        "\n",
        "if color_primario == \"azul\": #Condicion if inicial\n",
        "    print(\"Color primario seleccionado: azul\") #Ejecución código if\n",
        "elif color_primario == \"rojo\": #Condición elif\n",
        "    print(\"Color primario seleccionado: rojo\") #Ejecución código elif\n",
        "elif color_primario == \"amarillo\": #Condición elif\n",
        "    print(\"Color primario seleccionado: amarillo\") #Ejecución código elif\n",
        "else: #Deino else\n",
        "    print(\"No a seleccionado un color primario\") #Ejecución código else"
      ],
      "metadata": {
        "colab": {
          "base_uri": "https://localhost:8080/"
        },
        "id": "cml4jIGwMVWB",
        "outputId": "a2b142dc-3763-4fd5-8ee3-318337882181"
      },
      "execution_count": 21,
      "outputs": [
        {
          "output_type": "stream",
          "name": "stdout",
          "text": [
            "Color primario seleccionado: azul\n"
          ]
        }
      ]
    },
    {
      "cell_type": "markdown",
      "source": [
        "## Ejercicio 1.9"
      ],
      "metadata": {
        "id": "DL3rjNzXMpsU"
      }
    },
    {
      "cell_type": "markdown",
      "source": [
        "Puedo anidar condiciones if una adentro de otra si es necesario"
      ],
      "metadata": {
        "id": "j4PwtMGpMsJn"
      }
    },
    {
      "cell_type": "code",
      "source": [
        "edad = 70\n",
        "\n",
        "if edad > 18:\n",
        "    print(\"Usted es mayor de edad\")\n",
        "\n",
        "    if edad < 65:\n",
        "        print(\"Se encuentra en edad laboral\")\n",
        "    else:\n",
        "        print(\"Se encuentra en edad jubilatoria\")\n",
        "\n",
        "else:\n",
        "    print(\"Usted es menor de edad\")"
      ],
      "metadata": {
        "colab": {
          "base_uri": "https://localhost:8080/"
        },
        "id": "DWpBwM47Mw6n",
        "outputId": "7c33074b-dcb1-48c7-b506-22e75a58b796"
      },
      "execution_count": 22,
      "outputs": [
        {
          "output_type": "stream",
          "name": "stdout",
          "text": [
            "Usted es mayor de edad\n",
            "Se encuentra en edad jubilatoria\n"
          ]
        }
      ]
    },
    {
      "cell_type": "markdown",
      "source": [
        "## Ejercicio 1.10"
      ],
      "metadata": {
        "id": "0ZkLFV0yOVQl"
      }
    },
    {
      "cell_type": "markdown",
      "source": [
        "Otra posibilidad es utilizar el operado lógico AND -> &\n",
        "\n",
        "Recordemos que & obliga a que los dos miembros a cada lado obtengan una condición verdadera"
      ],
      "metadata": {
        "id": "a2S8JEZ8OXyo"
      }
    },
    {
      "cell_type": "code",
      "source": [
        "edad = 70\n",
        "genero = \"M\"\n",
        "\n",
        "if (edad >= 65) & (genero == \"M\"): #Defino if el cual debe cumplir 2 condiciones\n",
        "    print(\"usted se encuentra en edad jubilatoria\") #Código a ejecutar cuando se cumpla el if\n",
        "elif (edad >= 62) & (genero == \"F\"): #Defino elif el cual debe cumplir 2 condiciones\n",
        "    print(\"usted se encuentra en edad jubilatoria\") #Código a ejecutar cuando se cumpla el elif\n",
        "else: #Defino else\n",
        "    print(\"no se encuentra en edad jubilatoria\") #Código a ejecutar en el else"
      ],
      "metadata": {
        "colab": {
          "base_uri": "https://localhost:8080/"
        },
        "id": "vFPvdeR0OaVr",
        "outputId": "21079ce5-f916-4d37-fb06-ead530f84ccc"
      },
      "execution_count": 29,
      "outputs": [
        {
          "output_type": "stream",
          "name": "stdout",
          "text": [
            "usted se encuentra en edad jubilatoria\n"
          ]
        }
      ]
    },
    {
      "cell_type": "markdown",
      "source": [
        "## Ejercicio 1.11"
      ],
      "metadata": {
        "id": "nMJPfqZuOhIH"
      }
    },
    {
      "cell_type": "markdown",
      "source": [
        "Otra posibilidad es utilizar el operador lógico OR -> |\n",
        "\n",
        "Recordemos que | obliga solamente que una condición se cumpla para obtener una condición verdadera"
      ],
      "metadata": {
        "id": "RhTAjnNGOj-_"
      }
    },
    {
      "cell_type": "code",
      "source": [
        "cargo = \"profesor\"\n",
        "\n",
        "if (cargo == \"profesor\") | (cargo == \"coordinador\" ):\n",
        "    print(\"Es empleado\")\n",
        "else:\n",
        "    print(\"Es alumno\")"
      ],
      "metadata": {
        "colab": {
          "base_uri": "https://localhost:8080/"
        },
        "id": "MCBBKLXeOm39",
        "outputId": "c6668f3a-87d9-4339-b9bb-cd7958018916"
      },
      "execution_count": 30,
      "outputs": [
        {
          "output_type": "stream",
          "name": "stdout",
          "text": [
            "Es empleado\n"
          ]
        }
      ]
    },
    {
      "cell_type": "markdown",
      "source": [
        "## Ejercicio 1.12"
      ],
      "metadata": {
        "id": "I6p2t2JrOzO7"
      }
    },
    {
      "cell_type": "markdown",
      "source": [
        "Otra posibilidad es utilizar el operador lógico NOT\n",
        "\n",
        "Recordemos que not se utiliza para negar o ver la condición contraria a lo que preguntamos"
      ],
      "metadata": {
        "id": "uC0Q5nhWO1ve"
      }
    },
    {
      "cell_type": "code",
      "source": [
        "numero_entero = 1\n",
        "\n",
        "if  type(numero_entero) != int: #Defino una condición if que solo se active cuando el tipo de dato no es integer\n",
        "    print(\"Por favor cambie el típo de dato a entero\")"
      ],
      "metadata": {
        "id": "SOAPsLaCO-Gd"
      },
      "execution_count": 36,
      "outputs": []
    },
    {
      "cell_type": "markdown",
      "source": [
        "# FUNCIONES NATIVAS"
      ],
      "metadata": {
        "id": "srSm8TbVTaOZ"
      }
    },
    {
      "cell_type": "markdown",
      "source": [
        "Dentro de todas las funciones nativas de python veamos algunas que podemos utilizar facilmente"
      ],
      "metadata": {
        "id": "_fGIb9eSTfPR"
      }
    },
    {
      "cell_type": "markdown",
      "source": [
        "## Ejercicio 2.1"
      ],
      "metadata": {
        "id": "wAIksWOITigK"
      }
    },
    {
      "cell_type": "markdown",
      "source": [
        "La mas simple es print()"
      ],
      "metadata": {
        "id": "9KCMTzNDTloD"
      }
    },
    {
      "cell_type": "code",
      "source": [
        "nombre = \"Juan\"\n",
        "edad = 25\n",
        "print(\"Nombre:\", nombre,\"\\n\" \"Edad:\",edad) # Ejemplo de uso de print() con \\n para poner saltos de linea"
      ],
      "metadata": {
        "colab": {
          "base_uri": "https://localhost:8080/"
        },
        "id": "Pnbc3u6nTora",
        "outputId": "3741164b-82c0-404c-e504-8bb457670349"
      },
      "execution_count": 37,
      "outputs": [
        {
          "output_type": "stream",
          "name": "stdout",
          "text": [
            "Nombre: Juan \n",
            "Edad: 25\n"
          ]
        }
      ]
    },
    {
      "cell_type": "markdown",
      "source": [
        "## Ejercicio 2.2"
      ],
      "metadata": {
        "id": "1F4qLKASTz0v"
      }
    },
    {
      "cell_type": "markdown",
      "source": [
        "Repasemos type()"
      ],
      "metadata": {
        "id": "mIggBU4BT3Hu"
      }
    },
    {
      "cell_type": "code",
      "source": [
        "verdadero_string, verdadero_bool  = \"True\", True\n",
        "\n",
        "type(verdadero_string), type(verdadero_bool)"
      ],
      "metadata": {
        "colab": {
          "base_uri": "https://localhost:8080/"
        },
        "id": "qRNKIClyT5n_",
        "outputId": "23a6568a-a241-4789-d91b-74286a0d2194"
      },
      "execution_count": 38,
      "outputs": [
        {
          "output_type": "execute_result",
          "data": {
            "text/plain": [
              "(str, bool)"
            ]
          },
          "metadata": {},
          "execution_count": 38
        }
      ]
    },
    {
      "cell_type": "markdown",
      "source": [
        "## Ejercicio 2.3"
      ],
      "metadata": {
        "id": "pf2AGClkUElk"
      }
    },
    {
      "cell_type": "markdown",
      "source": [
        "Con exec() podemos ejecutar una variable string que tenga un comando de pythono"
      ],
      "metadata": {
        "id": "Y9qp8YBKUHOL"
      }
    },
    {
      "cell_type": "code",
      "source": [
        "codigo = 'print(\"Hola mundo\")'\n",
        "codigo, type(codigo)"
      ],
      "metadata": {
        "colab": {
          "base_uri": "https://localhost:8080/"
        },
        "id": "zMT9_3YCUJtg",
        "outputId": "dd2c43d0-896e-44c0-eac4-f2d4428fa6f5"
      },
      "execution_count": 39,
      "outputs": [
        {
          "output_type": "execute_result",
          "data": {
            "text/plain": [
              "('print(\"Hola mundo\")', str)"
            ]
          },
          "metadata": {},
          "execution_count": 39
        }
      ]
    },
    {
      "cell_type": "code",
      "source": [
        "exec(codigo)"
      ],
      "metadata": {
        "colab": {
          "base_uri": "https://localhost:8080/"
        },
        "id": "6bn8LyrqUQuR",
        "outputId": "867b51db-a65f-4f4b-87ad-02d102467b2b"
      },
      "execution_count": 40,
      "outputs": [
        {
          "output_type": "stream",
          "name": "stdout",
          "text": [
            "Hola mundo\n"
          ]
        }
      ]
    },
    {
      "cell_type": "markdown",
      "source": [
        "## Ejercicio 2.4"
      ],
      "metadata": {
        "id": "LKQ8RC53UXfe"
      }
    },
    {
      "cell_type": "markdown",
      "source": [
        "format() es muy util para mostrar valores cuando hacemos un print"
      ],
      "metadata": {
        "id": "V7TFg8GUUboK"
      }
    },
    {
      "cell_type": "code",
      "source": [
        "nombre = \"sebastian\"\n",
        "edad = 37\n",
        "es_profesor = False\n",
        "mensaje = \"Mi nombre es {} y tengo {} años. \\n¿Soy el profesor? = {}\".format(nombre, edad, es_profesor)\n",
        "print(mensaje)"
      ],
      "metadata": {
        "colab": {
          "base_uri": "https://localhost:8080/"
        },
        "id": "PmfBHJo1Udve",
        "outputId": "e0a58ba1-15d3-4c41-ff98-59b3c7f138fa"
      },
      "execution_count": 43,
      "outputs": [
        {
          "output_type": "stream",
          "name": "stdout",
          "text": [
            "Mi nombre es sebastian y tengo 37 años. \n",
            "¿Soy el profesor? = False\n"
          ]
        }
      ]
    },
    {
      "cell_type": "markdown",
      "source": [
        "## Ejercicio 2.5"
      ],
      "metadata": {
        "id": "KeioIBCWU4_Y"
      }
    },
    {
      "cell_type": "markdown",
      "source": [
        "Con input podemos ingresar un parametro directamente"
      ],
      "metadata": {
        "id": "bsnB-743U8Dn"
      }
    },
    {
      "cell_type": "code",
      "source": [
        "nombre = input(\"Por favor, introduce tu nombre: \")\n",
        "print(\"Hola,\", nombre)"
      ],
      "metadata": {
        "colab": {
          "base_uri": "https://localhost:8080/"
        },
        "id": "Qg0IVCwJU-dP",
        "outputId": "e139e3c5-a5d6-4937-f403-42346d09ae75"
      },
      "execution_count": 54,
      "outputs": [
        {
          "output_type": "stream",
          "name": "stdout",
          "text": [
            "Por favor, introduce tu nombre: Seba\n",
            "Hola, Seba\n"
          ]
        }
      ]
    },
    {
      "cell_type": "code",
      "source": [
        "type(nombre)"
      ],
      "metadata": {
        "colab": {
          "base_uri": "https://localhost:8080/"
        },
        "id": "Y4KnW2G4VRvQ",
        "outputId": "79e646d7-af78-42f3-eb68-13e89e2a69ef"
      },
      "execution_count": 55,
      "outputs": [
        {
          "output_type": "execute_result",
          "data": {
            "text/plain": [
              "str"
            ]
          },
          "metadata": {},
          "execution_count": 55
        }
      ]
    },
    {
      "cell_type": "markdown",
      "source": [
        "## Ejercicio 2.6"
      ],
      "metadata": {
        "id": "tKxxf-qzaNiY"
      }
    },
    {
      "cell_type": "markdown",
      "source": [
        "isinstance() nos va a ser util cuando queramos chequear el tipo de dato de una variable"
      ],
      "metadata": {
        "id": "1AABmxxEaQa5"
      }
    },
    {
      "cell_type": "code",
      "source": [
        "numero_pi = 3.14\n",
        "print(isinstance(numero_pi, float)) #Si mi condición se cumple retorna True, caso contrario False"
      ],
      "metadata": {
        "colab": {
          "base_uri": "https://localhost:8080/"
        },
        "id": "OJPY0uSmaUFf",
        "outputId": "b102deb7-0d19-4279-f09d-1c83ec342fdf"
      },
      "execution_count": 57,
      "outputs": [
        {
          "output_type": "stream",
          "name": "stdout",
          "text": [
            "True\n"
          ]
        }
      ]
    },
    {
      "cell_type": "markdown",
      "source": [
        "## Ejercicio 2.7"
      ],
      "metadata": {
        "id": "ZMz1py86aoKN"
      }
    },
    {
      "cell_type": "markdown",
      "source": [
        "Cuando se trata de reducir o redondear la cantidad de decimales round() es la función que debemos usar"
      ],
      "metadata": {
        "id": "AfBR3nw4artd"
      }
    },
    {
      "cell_type": "code",
      "source": [
        "pi = 3.14159\n",
        "print(round(pi, 3)) #Redondeo y muestro a 2 decimales"
      ],
      "metadata": {
        "colab": {
          "base_uri": "https://localhost:8080/"
        },
        "id": "12RnIi-LauuV",
        "outputId": "def77d39-03e1-41bf-b7aa-2e8d045afbef"
      },
      "execution_count": 60,
      "outputs": [
        {
          "output_type": "stream",
          "name": "stdout",
          "text": [
            "3.142\n"
          ]
        }
      ]
    },
    {
      "cell_type": "code",
      "source": [
        "type(pi) #Veamos el tipo de dato"
      ],
      "metadata": {
        "colab": {
          "base_uri": "https://localhost:8080/"
        },
        "id": "IrWCW8f1a5fD",
        "outputId": "beb28c7f-5967-43d6-9468-3336c1db593d"
      },
      "execution_count": 61,
      "outputs": [
        {
          "output_type": "execute_result",
          "data": {
            "text/plain": [
              "float"
            ]
          },
          "metadata": {},
          "execution_count": 61
        }
      ]
    },
    {
      "cell_type": "code",
      "source": [
        "numero_sin_transformar = 6.68\n",
        "numero_transformardo = round(numero_sin_transformar,0) #Redondeo sin decimales\n",
        "numero_transformardo, type(numero_transformardo) #Veamos como quedo y su tipo de dato"
      ],
      "metadata": {
        "colab": {
          "base_uri": "https://localhost:8080/"
        },
        "id": "2Jsvm8GMa9JU",
        "outputId": "f1d62c9d-0f58-415c-c988-acee0d144015"
      },
      "execution_count": 62,
      "outputs": [
        {
          "output_type": "execute_result",
          "data": {
            "text/plain": [
              "(7.0, float)"
            ]
          },
          "metadata": {},
          "execution_count": 62
        }
      ]
    },
    {
      "cell_type": "code",
      "source": [
        "numero_transformardo_integer = int(numero_transformardo) #Ahora transformo a integer despues de redondear\n",
        "numero_transformardo_integer, type(numero_transformardo_integer)"
      ],
      "metadata": {
        "colab": {
          "base_uri": "https://localhost:8080/"
        },
        "id": "Z7oJTTkya_-1",
        "outputId": "72a3264f-ae3a-4409-e7ec-c0926c64abcc"
      },
      "execution_count": 63,
      "outputs": [
        {
          "output_type": "execute_result",
          "data": {
            "text/plain": [
              "(7, int)"
            ]
          },
          "metadata": {},
          "execution_count": 63
        }
      ]
    },
    {
      "cell_type": "code",
      "source": [
        "numero_transformardo_integer = str(numero_transformardo) #Ahora transformo a string despues de redondear\n",
        "numero_transformardo_integer, type(numero_transformardo_integer)"
      ],
      "metadata": {
        "colab": {
          "base_uri": "https://localhost:8080/"
        },
        "id": "3UTKP6uZbdTW",
        "outputId": "2ccef798-531a-4aba-a823-87fe15859516"
      },
      "execution_count": 64,
      "outputs": [
        {
          "output_type": "execute_result",
          "data": {
            "text/plain": [
              "('7.0', str)"
            ]
          },
          "metadata": {},
          "execution_count": 64
        }
      ]
    },
    {
      "cell_type": "code",
      "source": [
        "numero_transformardo_integer = bool(numero_transformardo) #Ahora transformo a booleano despues de redondear\n",
        "numero_transformardo_integer, type(numero_transformardo_integer)"
      ],
      "metadata": {
        "colab": {
          "base_uri": "https://localhost:8080/"
        },
        "id": "lDe1GwtAbrdX",
        "outputId": "100b699f-7f45-43e4-bb57-9c1097f4adcf"
      },
      "execution_count": 65,
      "outputs": [
        {
          "output_type": "execute_result",
          "data": {
            "text/plain": [
              "(True, bool)"
            ]
          },
          "metadata": {},
          "execution_count": 65
        }
      ]
    },
    {
      "cell_type": "markdown",
      "source": [
        "# FUNCIONES DEFINIDAS POR EL USUARIO"
      ],
      "metadata": {
        "id": "HaFmE4Kub5Jm"
      }
    },
    {
      "cell_type": "markdown",
      "source": [
        "En Python es posible crear nuestra propias funciones, para ello asi como con los bloques if else debemos seguir un cierto orden y estructura.\n",
        "\n",
        "def nombre_de_la_funcion(parametro1, parametro2, ...):\n",
        "    \"\"\"\n",
        "    Opcional: Descripción opcional de la función.\n",
        "    Puede incluir información sobre los parámetros y el valor de retorno.\n",
        "    \"\"\"\n",
        "\n",
        "    # Cuerpo de la función donde vamos a tener nuestro código\n",
        "    return valor_de_retorno # Opcional: uso de la palabra clave return para devolver un valor"
      ],
      "metadata": {
        "id": "7W0awCMWb834"
      }
    },
    {
      "cell_type": "markdown",
      "source": [
        "## Ejericio 3.1"
      ],
      "metadata": {
        "id": "ROqjL_2wcFru"
      }
    },
    {
      "cell_type": "markdown",
      "source": [
        "Veamos una función definida por nosotros muy sencilla, del tipo sin retorno y sin parametros"
      ],
      "metadata": {
        "id": "W2CvIk_BcJ3u"
      }
    },
    {
      "cell_type": "code",
      "source": [
        "def saludar_sin_retorno(): # Función sin retorno y sin parametros\n",
        "    print(\"¡Hola! Bienvenido a su asistente de data analitycs\")"
      ],
      "metadata": {
        "id": "YySgdYpxcMxl"
      },
      "execution_count": 67,
      "outputs": []
    },
    {
      "cell_type": "code",
      "source": [
        "# Llamada a la función sin retorno\n",
        "saludar_sin_retorno()"
      ],
      "metadata": {
        "colab": {
          "base_uri": "https://localhost:8080/"
        },
        "id": "4F1kL29lcQSI",
        "outputId": "c1216c40-edcf-4a31-92a9-7e2ea4adf4eb"
      },
      "execution_count": 68,
      "outputs": [
        {
          "output_type": "stream",
          "name": "stdout",
          "text": [
            "¡Hola! Bienvenido a su asistente de data analitycs\n"
          ]
        }
      ]
    },
    {
      "cell_type": "markdown",
      "source": [
        "## Ejercicio 3.2"
      ],
      "metadata": {
        "id": "Xb5hK-9JccWG"
      }
    },
    {
      "cell_type": "markdown",
      "source": [
        "Ahora veamos una función sin retorno y con parametros\n",
        "\n",
        "En python podemos pasarle parametros (informacion) a la función para poder despues utilizarlos adentro"
      ],
      "metadata": {
        "id": "JTUq3adnce3Y"
      }
    },
    {
      "cell_type": "code",
      "source": [
        "def saludar_usuario(nombre):\n",
        "    print(\"Bienvenido:\", nombre)"
      ],
      "metadata": {
        "id": "Mpgah8MFchFW"
      },
      "execution_count": 69,
      "outputs": []
    },
    {
      "cell_type": "code",
      "source": [
        "usuario = \"Sebastian Olima\"\n",
        "\n",
        "saludar_usuario(usuario)"
      ],
      "metadata": {
        "colab": {
          "base_uri": "https://localhost:8080/"
        },
        "id": "GSBhEWhscjQf",
        "outputId": "c255ccfb-1cbb-4c46-f014-cf88f6d66fe3"
      },
      "execution_count": 70,
      "outputs": [
        {
          "output_type": "stream",
          "name": "stdout",
          "text": [
            "Bienvenido: Sebastian Olima\n"
          ]
        }
      ]
    },
    {
      "cell_type": "markdown",
      "source": [
        "## Ejercicio 3.3"
      ],
      "metadata": {
        "id": "Bk_ln78-c6Vm"
      }
    },
    {
      "cell_type": "markdown",
      "source": [
        "Ahora veamos una función con retorno y con parametros"
      ],
      "metadata": {
        "id": "8yi2Un1Zc87H"
      }
    },
    {
      "cell_type": "code",
      "source": [
        "def sumar(a, b): # Función con retorno y con parametros\n",
        "    return a + b"
      ],
      "metadata": {
        "id": "fHKVZSEIc_Tu"
      },
      "execution_count": 75,
      "outputs": []
    },
    {
      "cell_type": "code",
      "source": [
        "# Llamada a la función con retorno\n",
        "resultado_suma = sumar(3, 5)\n",
        "print(\"El resultado de la suma es:\", resultado_suma)"
      ],
      "metadata": {
        "colab": {
          "base_uri": "https://localhost:8080/"
        },
        "id": "Rbmo3DJZdBWX",
        "outputId": "cc56ca92-d56a-4e60-ba91-8ae8aa74f987"
      },
      "execution_count": 76,
      "outputs": [
        {
          "output_type": "stream",
          "name": "stdout",
          "text": [
            "El resultado de la suma es: 8\n"
          ]
        }
      ]
    },
    {
      "cell_type": "markdown",
      "source": [
        "## Ejericio 3.4"
      ],
      "metadata": {
        "id": "moud9xrNdQLp"
      }
    },
    {
      "cell_type": "markdown",
      "source": [
        "Mucho cuidado porque el orden de los argumentos al llamar a una función con parámetros debe coincidir con el orden de los parámetros definidos en la función."
      ],
      "metadata": {
        "id": "S9b5MYDbdS1h"
      }
    },
    {
      "cell_type": "code",
      "source": [
        "def resta(a, b): # Función con parámetros y retorno\n",
        "    return a - b"
      ],
      "metadata": {
        "id": "jYcSMbUDdVH-"
      },
      "execution_count": 77,
      "outputs": []
    },
    {
      "cell_type": "code",
      "source": [
        "# Llamada a la función con los argumentos en orden\n",
        "resultado_resta = resta(10, 5)\n",
        "print(\"El resultado de la resta es:\", resultado_resta)"
      ],
      "metadata": {
        "colab": {
          "base_uri": "https://localhost:8080/"
        },
        "id": "m5VRBjDEdXWm",
        "outputId": "94a4b75b-7711-415e-8c8d-398993bd2519"
      },
      "execution_count": 78,
      "outputs": [
        {
          "output_type": "stream",
          "name": "stdout",
          "text": [
            "El resultado de la resta es: 5\n"
          ]
        }
      ]
    },
    {
      "cell_type": "code",
      "source": [
        "#Si invertimos el orden vamos a obtener otro resultado obviamente\n",
        "resultado_resta = resta(5, 10)\n",
        "print(\"El resultado de la resta es:\", resultado_resta)"
      ],
      "metadata": {
        "colab": {
          "base_uri": "https://localhost:8080/"
        },
        "id": "HiOdlAOIdiUm",
        "outputId": "fcd12fd6-ea47-4037-926a-7d17f7510c52"
      },
      "execution_count": 79,
      "outputs": [
        {
          "output_type": "stream",
          "name": "stdout",
          "text": [
            "El resultado de la resta es: -5\n"
          ]
        }
      ]
    },
    {
      "cell_type": "code",
      "source": [
        "# Llamada a la función con los argumentos en diferente orden\n",
        "resultado_resta_otro_orden = resta(b=5, a=10) # Aunque el orden cambia, la función toma los argumentos en la misma posición que fueron definidos\n",
        "print(\"El resultado de la resta (con otro orden de argumentos) es:\", resultado_resta_otro_orden)"
      ],
      "metadata": {
        "colab": {
          "base_uri": "https://localhost:8080/"
        },
        "id": "45UWAJ8XdqC5",
        "outputId": "462983c2-2de6-41e0-faac-c33c448593e4"
      },
      "execution_count": 80,
      "outputs": [
        {
          "output_type": "stream",
          "name": "stdout",
          "text": [
            "El resultado de la resta (con otro orden de argumentos) es: 5\n"
          ]
        }
      ]
    }
  ]
}