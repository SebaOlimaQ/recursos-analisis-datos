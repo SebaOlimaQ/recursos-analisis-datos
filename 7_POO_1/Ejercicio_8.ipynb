{
  "nbformat": 4,
  "nbformat_minor": 0,
  "metadata": {
    "colab": {
      "provenance": []
    },
    "kernelspec": {
      "name": "python3",
      "display_name": "Python 3"
    },
    "language_info": {
      "name": "python"
    }
  },
  "cells": [
    {
      "cell_type": "markdown",
      "source": [
        "#Ejercicios plataforma Alkemy"
      ],
      "metadata": {
        "id": "0oRJvMIr_CL6"
      }
    },
    {
      "cell_type": "code",
      "source": [
        "sumatoria = 0\n",
        "numero = 1\n",
        "\n",
        "while numero <= 100:\n",
        "  sumatoria = sumatoria + numero\n",
        "  numero += 1\n",
        "\n",
        "\n",
        "print (sumatoria)"
      ],
      "metadata": {
        "colab": {
          "base_uri": "https://localhost:8080/"
        },
        "id": "1IE96xHI9QQa",
        "outputId": "7ab8288a-b6bb-4900-852b-11922da1ea68"
      },
      "execution_count": 3,
      "outputs": [
        {
          "output_type": "stream",
          "name": "stdout",
          "text": [
            "5050\n"
          ]
        }
      ]
    },
    {
      "cell_type": "code",
      "source": [
        "lista = [1,2,3,4,5]\n",
        "\n",
        "print(lista[4])"
      ],
      "metadata": {
        "colab": {
          "base_uri": "https://localhost:8080/"
        },
        "id": "9-g-NHkfmb-q",
        "outputId": "b57ac7c4-d0e7-4ca7-caa8-32254a33f06b"
      },
      "execution_count": 20,
      "outputs": [
        {
          "output_type": "stream",
          "name": "stdout",
          "text": [
            "5\n"
          ]
        }
      ]
    },
    {
      "cell_type": "code",
      "source": [
        "lista [2] = 10\n",
        "print(lista)"
      ],
      "metadata": {
        "colab": {
          "base_uri": "https://localhost:8080/"
        },
        "id": "bqgn4ElvmwEJ",
        "outputId": "1eb0f44c-9c94-4ad6-e277-bce8b28d6090"
      },
      "execution_count": 21,
      "outputs": [
        {
          "output_type": "stream",
          "name": "stdout",
          "text": [
            "[1, 2, 10, 4, 5]\n"
          ]
        }
      ]
    },
    {
      "cell_type": "code",
      "source": [
        "lista.append(6)\n",
        "lista.append(7)\n",
        "lista"
      ],
      "metadata": {
        "colab": {
          "base_uri": "https://localhost:8080/"
        },
        "id": "zSGwaiSdn9BU",
        "outputId": "45a35a61-f188-49cb-f8d9-18280646bc9f"
      },
      "execution_count": 22,
      "outputs": [
        {
          "output_type": "execute_result",
          "data": {
            "text/plain": [
              "[1, 2, 10, 4, 5, 6, 7]"
            ]
          },
          "metadata": {},
          "execution_count": 22
        }
      ]
    },
    {
      "cell_type": "code",
      "source": [
        "lista.pop(0)\n",
        "lista"
      ],
      "metadata": {
        "colab": {
          "base_uri": "https://localhost:8080/"
        },
        "id": "OXad9K1xoYFA",
        "outputId": "8a21ab56-d56f-4c9b-db6d-21c985932476"
      },
      "execution_count": 23,
      "outputs": [
        {
          "output_type": "execute_result",
          "data": {
            "text/plain": [
              "[2, 10, 4, 5, 6, 7]"
            ]
          },
          "metadata": {},
          "execution_count": 23
        }
      ]
    },
    {
      "cell_type": "code",
      "source": [
        " def verificar_calificacion (nota1, nota2, nota3):\n",
        "      promedio = (nota1 + nota2 + nota3) /3\n",
        "\n",
        "      if promedio >=6:\n",
        "        return(\"Felicitaciones Aprobaste la materia\")\n",
        "      else:\n",
        "        return(\"segui participando\")\n",
        "\n",
        "\n",
        "\n",
        "resultado = verificar_calificacion(4,10,6)\n",
        "\n",
        "\n",
        "print(resultado)\n",
        "\n",
        "\n"
      ],
      "metadata": {
        "colab": {
          "base_uri": "https://localhost:8080/"
        },
        "id": "c8lMMYlIo5N8",
        "outputId": "153c2c1b-241a-4947-a29e-5e283b86e08d"
      },
      "execution_count": 37,
      "outputs": [
        {
          "output_type": "stream",
          "name": "stdout",
          "text": [
            "Felicitaciones Aprobaste la materia\n"
          ]
        }
      ]
    },
    {
      "cell_type": "markdown",
      "source": [
        "#ejercicos Clase 7"
      ],
      "metadata": {
        "id": "10_CRC_F_PLp"
      }
    },
    {
      "cell_type": "markdown",
      "source": [
        "##POO"
      ],
      "metadata": {
        "id": "kgU_ttjI_Uev"
      }
    },
    {
      "cell_type": "markdown",
      "source": [
        "## ejercicio 1.0"
      ],
      "metadata": {
        "id": "VT5mZvnY_YuZ"
      }
    },
    {
      "cell_type": "markdown",
      "source": [
        "Práctiquemos con otro ejercicio mas:\n",
        "\n",
        "Vamos a crear una clase llamada Vehiculo que represente un vehículo con atributos como marca, modelo, color y velocidad. Implementar métodos para acelerar, girar, frenar y estacionar el vehículo.\n",
        "\n",
        "Recordemos que hay que seguir estos pasos\n",
        "\n",
        "Define la clase Vehiculo con un constructor init.\n",
        "Definamos como queremos que se muestre nuestro print\n",
        "Implementa métodos acelerar, girar, frenar y estacionar.\n",
        "En caso de frenar hay que tener en cuenta si el vehiculo se mueve o no\n",
        "Crea dos instancias de Vehiculo con diferentes características. Utiliza los métodos de cada instancia para simular acciones de manejo."
      ],
      "metadata": {
        "id": "F4ClxHnY_qU4"
      }
    },
    {
      "cell_type": "code",
      "source": [
        "class Vehiculo :\n",
        "  def __init__(self,marca ,modelo ,color , velocidad=0):\n",
        "    self.marca = marca\n",
        "    self.modelo = modelo\n",
        "    self.color = color\n",
        "    self.velocidad = velocidad\n",
        "\n",
        "  def __str__(self):\n",
        "    return f\"marca:{self.marca} modelo:{self.modelo} color:{self.color}\"\n",
        "\n",
        "  def acelerar(self,aceleracion):\n",
        "    self.velocidad += aceleracion\n",
        "    print(f\"El vehículo {self.marca} {self.modelo} acelera a {self.velocidad} km/h.\")\n",
        "\n",
        "  def frenar(self,desaceleracion):\n",
        "    if self.velocidad - desaceleracion > 0:\n",
        "       self.velocidad -= desaceleracion\n",
        "       print(f\"El vehículo {self.marca} {self.modelo} frena a {self.velocidad} km/h.\")\n",
        "    else:\n",
        "       print(\"el vehiculo ya se detuvo\")\n",
        "\n",
        "\n",
        "  def girar(self,giro):\n",
        "    print(f\"El vehículo {self.marca} {self.modelo} gira a {giro}\")\n",
        "\n",
        "  def parking(self):\n",
        "     print(f\"El vehículo {self.marca} {self.modelo}  esta por estacionar\")\n",
        "\n",
        "\n",
        "\n",
        "\n",
        "\n",
        "\n",
        "\n",
        "\n"
      ],
      "metadata": {
        "id": "GPVXIfQ7_rbV"
      },
      "execution_count": 95,
      "outputs": []
    },
    {
      "cell_type": "code",
      "source": [
        "coche = Vehiculo(\"fiat\", \"cronos\", \"rojo\" )\n",
        "print(coche)\n",
        "coche.acelerar(100)\n",
        "coche.girar(\"izquierda\")\n",
        "coche.frenar(110)\n",
        "\n"
      ],
      "metadata": {
        "colab": {
          "base_uri": "https://localhost:8080/"
        },
        "id": "SuPQlFrGFcyk",
        "outputId": "b8e20906-f3ef-4649-8069-356c89f2ce3d"
      },
      "execution_count": 98,
      "outputs": [
        {
          "output_type": "stream",
          "name": "stdout",
          "text": [
            "marca:fiat modelo:cronos color:rojo\n",
            "El vehículo fiat cronos acelera a 100 km/h.\n",
            "El vehículo fiat cronos gira a izquierda\n",
            "el vehiculo ya se detuvo\n"
          ]
        }
      ]
    },
    {
      "cell_type": "markdown",
      "source": [
        "##Ejercicio 1.1\n",
        "En el caso de que queramos que los atributos de nuestra clase no puedan ser ni accedidos ni modificados una vez nuestro objeto sea creado debemos aplicar los principios del encampsulamiento. Los cuales simplemente requieren usar __ adelante de los valores de nuestros atributos en la funcion init()\n",
        "\n",
        "Creemos una clase Empleado el cual siga los principios de encapsulamieto para sus atributos nombre, apellido, puesto y activo. Recordemos que podemos crear metodos en caso de querer mostrar los atributos uno a uno o directamente con str."
      ],
      "metadata": {
        "id": "yccJyMk7TkNR"
      }
    },
    {
      "cell_type": "code",
      "source": [
        "class Empleado():\n",
        "  def __init__(self,nombre, apellido, puesto ,activo= True):\n",
        "    self.__nombre = nombre\n",
        "    self.__apellido = apellido\n",
        "    self.__puesto = puesto\n",
        "    self.activo = activo\n",
        "\n",
        "  def __str__(self):\n",
        "    return f\"nombre: {self.__nombre} apellido:{self.__apellido} puesto:{self.__puesto} activo: {self.activo}\"\n",
        "\n",
        "  def nombre(self):\n",
        "    print(self.__nombre)\n",
        "\n",
        "  def apellido(self):\n",
        "    print(self.__apellido)\n",
        "\n",
        "  def puesto(self):\n",
        "    print(self.puesto)\n",
        "\n",
        "  empleado_a = Empleado(\"sebastian\",\"olima\", \"estudiante\")\n",
        "  print(empleado_a)"
      ],
      "metadata": {
        "colab": {
          "base_uri": "https://localhost:8080/"
        },
        "id": "gRmaCmJXTtVs",
        "outputId": "64307ce9-3303-4b3e-82d7-8f6d0b0724ff"
      },
      "execution_count": 106,
      "outputs": [
        {
          "output_type": "stream",
          "name": "stdout",
          "text": [
            "nombre: sebastian apellido:olima puesto:estudiante activo: True\n"
          ]
        }
      ]
    },
    {
      "cell_type": "markdown",
      "source": [
        "comprobamos que los datos encapsulados no se pueden modificar"
      ],
      "metadata": {
        "id": "V1yyx1gpHZ_Q"
      }
    },
    {
      "cell_type": "code",
      "source": [
        "empleado_a.nombre = \"pablo\""
      ],
      "metadata": {
        "id": "qdi1akEKXQnA"
      },
      "execution_count": 108,
      "outputs": []
    },
    {
      "cell_type": "code",
      "source": [
        "print(empleado_a)"
      ],
      "metadata": {
        "colab": {
          "base_uri": "https://localhost:8080/"
        },
        "id": "CghH5lMoXgob",
        "outputId": "c8f881a6-87d5-48d5-fca4-08e68fb82d2f"
      },
      "execution_count": 109,
      "outputs": [
        {
          "output_type": "stream",
          "name": "stdout",
          "text": [
            "nombre: sebastian apellido:olima puesto:estudiante activo: True\n"
          ]
        }
      ]
    },
    {
      "cell_type": "markdown",
      "source": [
        "##Ejercicio 1.2\n",
        "En Python se puede usar la herencia entre clases, la cual nos permite crear clases a partir de otras clases heredando sus metodos y atributos; pudiendo sobreescribirlos.\n",
        "\n",
        "Creemos una clase padre llamada Animal con atributos:\n",
        "\n",
        "\n",
        "\n",
        "*   Clase\n",
        "*   Especie\n",
        "*   Tipo\n",
        "\n",
        "\n",
        "\n",
        "Una clase hija llamada Perro la cual tambien tenga los atributos:\n",
        "\n",
        "\n",
        "*   Nombre\n",
        "\n",
        "\n",
        "Y un metodo:\n",
        "\n",
        "\n",
        "\n",
        "*   Dar la pata\n",
        "\n",
        "\n"
      ],
      "metadata": {
        "id": "62jiRNGUHtct"
      }
    },
    {
      "cell_type": "code",
      "source": [
        "class Animal :\n",
        "  def __init__(self, clase, especie, tipo):\n",
        "    self.clase = clase\n",
        "    self.especie = especie\n",
        "    self.tipo = tipo\n",
        "\n",
        "  def __str__(self):\n",
        "    return f\"clase:{self.clase}, especie:{self.especie}, tipo:{self.tipo}\""
      ],
      "metadata": {
        "id": "yBOn9hVeIX8g"
      },
      "execution_count": 9,
      "outputs": []
    },
    {
      "cell_type": "code",
      "source": [
        "perro = Animal(\"mamifero\", \"canino\", \"domestico\")\n",
        "print(perro)"
      ],
      "metadata": {
        "colab": {
          "base_uri": "https://localhost:8080/"
        },
        "id": "0RljPo_sJgAZ",
        "outputId": "160888f1-6997-4e4c-8332-3384da977e2c"
      },
      "execution_count": 10,
      "outputs": [
        {
          "output_type": "stream",
          "name": "stdout",
          "text": [
            "clase:mamifero, especie:canino, tipo:domestico\n"
          ]
        }
      ]
    },
    {
      "cell_type": "code",
      "source": [
        "class Gato(Animal):\n",
        "  def __init__(self,clase, especie, tipo, pelaje):\n",
        "    super().__init__(clase, especie, tipo)\n",
        "    self.pelaje = pelaje\n",
        "\n",
        "  def __str__(self):\n",
        "    return f\"clase:{self.clase}, especie:{self.especie}, tipo:{self.tipo}, pelaje:{self.pelaje}\"\n",
        "\n",
        "  def ronronear(self):\n",
        "    return f\"{self.pelaje} Ronronea\""
      ],
      "metadata": {
        "id": "HOBaAdMQKJ9J"
      },
      "execution_count": 24,
      "outputs": []
    },
    {
      "cell_type": "code",
      "source": [
        "gato = Gato( \"Mamífero\",\"Felino\", \"Doméstico\", \"corto\")\n",
        "print(gato)"
      ],
      "metadata": {
        "colab": {
          "base_uri": "https://localhost:8080/"
        },
        "id": "lyxyG13BLMsM",
        "outputId": "7bf0601c-ca28-4b22-fb00-155f4188665b"
      },
      "execution_count": 25,
      "outputs": [
        {
          "output_type": "stream",
          "name": "stdout",
          "text": [
            "clase:Mamífero, especie:Felino, tipo:Doméstico, pelaje:corto\n"
          ]
        }
      ]
    },
    {
      "cell_type": "code",
      "source": [
        "gato.ronronear()"
      ],
      "metadata": {
        "colab": {
          "base_uri": "https://localhost:8080/",
          "height": 35
        },
        "id": "7doiDR2oOD8u",
        "outputId": "1c7290ed-864c-4346-8060-38c9591d1ea2"
      },
      "execution_count": 27,
      "outputs": [
        {
          "output_type": "execute_result",
          "data": {
            "text/plain": [
              "'corto Ronronea'"
            ],
            "application/vnd.google.colaboratory.intrinsic+json": {
              "type": "string"
            }
          },
          "metadata": {},
          "execution_count": 27
        }
      ]
    },
    {
      "cell_type": "markdown",
      "source": [
        "##Ejercicio 1.3\n",
        "El polimorfismo en Python permite que objetos de diferentes clases respondan al mismo método o función de manera diferente.\n",
        "\n",
        "Podemos usar un método con el mismo nombre en diferentes clases y cada una lo implementará de manera específica según sus necesidades.\n",
        "\n",
        "Veamos un ejemplo usando figuras geometricas"
      ],
      "metadata": {
        "id": "gN4CCYWqOsCK"
      }
    },
    {
      "cell_type": "code",
      "source": [
        "class Rectangulo:\n",
        "    def __init__(self, base, altura):\n",
        "        self.base = base\n",
        "        self.altura = altura\n",
        "\n",
        "    def calcular_area(self):\n",
        "        return self.base * self.altura"
      ],
      "metadata": {
        "id": "qvq9tUpDOzoo"
      },
      "execution_count": 4,
      "outputs": []
    },
    {
      "cell_type": "code",
      "source": [
        "class Triangulo:\n",
        "    def __init__(self, base, altura):\n",
        "        self.base = base\n",
        "        self.altura = altura\n",
        "\n",
        "    def calcular_area(self):\n",
        "        return 0.5 * self.base * self.altura"
      ],
      "metadata": {
        "id": "optXUyOlPs20"
      },
      "execution_count": 5,
      "outputs": []
    },
    {
      "cell_type": "code",
      "source": [
        "class Circulo:\n",
        "    def __init__(self, radio):\n",
        "        self.radio = radio\n",
        "\n",
        "    def calcular_area(self):\n",
        "        return 3.14 * self.radio ** 2"
      ],
      "metadata": {
        "id": "AVCZhf2TPv_i"
      },
      "execution_count": 6,
      "outputs": []
    },
    {
      "cell_type": "code",
      "source": [
        "def imprimir_area(calculo):\n",
        "    print(f\"El área de la forma geométrica es: {calculo.calcular_area()}\")"
      ],
      "metadata": {
        "id": "03xROIvcPztR"
      },
      "execution_count": 7,
      "outputs": []
    },
    {
      "cell_type": "code",
      "source": [
        "rectangulo = Rectangulo(5, 10)\n",
        "triangulo = Triangulo(6, 8)\n",
        "circulo = Circulo(4)\n",
        "\n",
        "imprimir_area(rectangulo)\n",
        "imprimir_area(triangulo)\n",
        "imprimir_area(circulo)"
      ],
      "metadata": {
        "colab": {
          "base_uri": "https://localhost:8080/"
        },
        "id": "W2UNZQfXP337",
        "outputId": "a2b71447-6677-4cc9-a9c8-7ae20e9aee46"
      },
      "execution_count": 8,
      "outputs": [
        {
          "output_type": "stream",
          "name": "stdout",
          "text": [
            "El área de la forma geométrica es: 50\n",
            "El área de la forma geométrica es: 24.0\n",
            "El área de la forma geométrica es: 50.24\n"
          ]
        }
      ]
    },
    {
      "cell_type": "markdown",
      "source": [
        "##Ejercicio 1.4\n",
        "Creemos el código correspondiente la consigna del ejercicio propuesto en la ppt de la clase de hoy.\n",
        "\n",
        "Nota: getter y setter es una convencion utilizada para decir que son los atributos que permiten:\n",
        "\n",
        "\n",
        "\n",
        "*   getter -> retornar el valor de un atributo\n",
        "*   setter -> editar el valor de un atributo\n",
        "\n",
        "\n"
      ],
      "metadata": {
        "id": "O1wStI8sQp_F"
      }
    },
    {
      "cell_type": "code",
      "source": [
        "class MaterialBibliografico:\n",
        "  def __init__(self, titulo, autor, anio_publicacion):\n",
        "    self.__titulo = titulo\n",
        "    self.__autor = autor\n",
        "    self.__anio_publicacion = anio_publicacion\n",
        "\n",
        "  def get_titulo(self):\n",
        "    return self.__titulo\n",
        "\n",
        "  def set_titutlo(self):\n",
        "    return self.__titulo\n",
        "\n",
        "  def get_autor(self):\n",
        "    return self.__autor\n",
        "\n",
        "  def set_autor(self):\n",
        "    return self.__autor\n",
        "\n",
        "  def get_anio_publicacion(self):\n",
        "    return self.__anio_publicacion\n",
        "\n",
        "  def set_anio_publicacion(self):\n",
        "    return self.__anio_publicacion\n",
        "\n"
      ],
      "metadata": {
        "id": "8759wKgX26ZI"
      },
      "execution_count": 2,
      "outputs": []
    },
    {
      "cell_type": "code",
      "source": [
        "class Libro(MaterialBibliografico):\n",
        "  def __init__(self, titulo, autor, anio_publicacion, isbn):\n",
        "    super().__init__(titulo, autor, anio_publicacion)\n",
        "    self.__isbn = isbn\n",
        "\n",
        "    def get_isbn(self):\n",
        "      return self.__isbn\n",
        "\n",
        "    def set_isbn(self):\n",
        "      return self.__isbn"
      ],
      "metadata": {
        "id": "YlXz61gO5Z8K"
      },
      "execution_count": 4,
      "outputs": []
    },
    {
      "cell_type": "code",
      "source": [
        "class Revista(MaterialBibliografico):\n",
        "  def __init__(self, titulo, autor, anio_publicacion, categoria):\n",
        "    super().__init__(titulo, autor, anio_publicacion)\n",
        "    self.__categoria = categoria\n",
        "\n",
        "    def get_categoria(self):\n",
        "      return self.__categoria\n",
        "\n",
        "    def set_categoria(self):\n",
        "      return self.__categoria"
      ],
      "metadata": {
        "id": "PCyQG8pP7COH"
      },
      "execution_count": 5,
      "outputs": []
    },
    {
      "cell_type": "code",
      "source": [
        "class DVD(MaterialBibliografico):\n",
        "  def __init__(self, titulo, autor, anio_publicacion, blue_ray=False):\n",
        "    super().__init__(titulo, autor, anio_publicacion)\n",
        "    self.__blue_ray = blue_ray\n",
        "\n",
        "    def get_blue_ray(self):\n",
        "      return self.__blue_ray\n",
        "\n",
        "    def set_blue_ray(self):\n",
        "      return self.__blue_ray"
      ],
      "metadata": {
        "id": "D3HIcwYI7pT3"
      },
      "execution_count": 6,
      "outputs": []
    },
    {
      "cell_type": "code",
      "source": [
        "class BibliotecaItem: #Creamos nuestra biblioteca\n",
        "    def __init__(self, material_bibliografico):\n",
        "        self.material_bibliografico = material_bibliografico"
      ],
      "metadata": {
        "id": "Mksi4Gms8NCg"
      },
      "execution_count": 7,
      "outputs": []
    },
    {
      "cell_type": "code",
      "source": [
        "# Crear objetos de Libro, Revista y DVD\n",
        "libro1 = Libro(\"El código Da Vinci\", \"Dan Brown\", 2003, \"9780307474278\")\n",
        "revista1 = Revista(\"Hola\", \"La nacion\", 2024, \"Moda\")\n",
        "DVD1 = DVD(\"Shrek\",\"Andrew Adamson\", 2021, True)"
      ],
      "metadata": {
        "id": "It0dj5iI8Tl-"
      },
      "execution_count": 8,
      "outputs": []
    },
    {
      "cell_type": "code",
      "source": [
        "# Agregar los objetos a una lista de BibliotecaItem\n",
        "biblioteca = [\n",
        "  BibliotecaItem(libro1),\n",
        "  BibliotecaItem(revista1),\n",
        "  BibliotecaItem(DVD1)\n",
        "]"
      ],
      "metadata": {
        "id": "zO2PUcBF8XS5"
      },
      "execution_count": 9,
      "outputs": []
    },
    {
      "cell_type": "code",
      "source": [
        "for item in biblioteca:\n",
        "  material = item.material_bibliografico\n",
        "  print(f\"Título: {material.get_titulo()}, Autor: {material.get_autor()}, Año de Publicación: {material.get_anio_publicacion()}\")"
      ],
      "metadata": {
        "colab": {
          "base_uri": "https://localhost:8080/"
        },
        "id": "NaprRxgl8cFH",
        "outputId": "571b8366-3a87-4829-a03c-e7bed67283e6"
      },
      "execution_count": 10,
      "outputs": [
        {
          "output_type": "stream",
          "name": "stdout",
          "text": [
            "Título: El código Da Vinci, Autor: Dan Brown, Año de Publicación: 2003\n",
            "Título: Hola, Autor: La nacion, Año de Publicación: 2024\n",
            "Título: Shrek, Autor: Andrew Adamson, Año de Publicación: 2021\n"
          ]
        }
      ]
    }
  ]
}