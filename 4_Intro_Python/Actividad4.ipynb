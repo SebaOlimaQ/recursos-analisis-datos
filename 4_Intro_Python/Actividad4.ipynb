{
 "cells": [
  {
   "cell_type": "code",
   "execution_count": 1,
   "id": "05261e2e-50e9-4ef1-a4a9-171f12a5fe57",
   "metadata": {},
   "outputs": [],
   "source": [
    "# Creamos una variable del tipo int\n",
    "variable_integer = 15"
   ]
  },
  {
   "cell_type": "code",
   "execution_count": 2,
   "id": "73f94613-ca5c-4f7f-80a1-1fe43ea9cea5",
   "metadata": {},
   "outputs": [
    {
     "name": "stdout",
     "output_type": "stream",
     "text": [
      "15\n"
     ]
    }
   ],
   "source": [
    "#Podemos usar la funcion print() para ver que ontiene nuestra variable_integer\n",
    "print(variable_integer)"
   ]
  },
  {
   "cell_type": "code",
   "execution_count": 3,
   "id": "8a4c76eb-319e-4736-b670-14e10fa5e80c",
   "metadata": {},
   "outputs": [
    {
     "data": {
      "text/plain": [
       "15"
      ]
     },
     "execution_count": 3,
     "metadata": {},
     "output_type": "execute_result"
    }
   ],
   "source": [
    "#O directamente escribir el nombre de la variable y imprimira automaticamente\n",
    "variable_integer"
   ]
  },
  {
   "cell_type": "code",
   "execution_count": 4,
   "id": "575aeb59-d28a-4490-859a-d2163480130d",
   "metadata": {},
   "outputs": [],
   "source": [
    "#Variable flotante mediante la notacion de camelcase\n",
    "variableDecimal = 2.65"
   ]
  },
  {
   "cell_type": "code",
   "execution_count": 5,
   "id": "01f8f412-726c-41ba-98a6-b5fe847db9cc",
   "metadata": {},
   "outputs": [
    {
     "data": {
      "text/plain": [
       "2.65"
      ]
     },
     "execution_count": 5,
     "metadata": {},
     "output_type": "execute_result"
    }
   ],
   "source": [
    "#Imprimimos direcatmente con el nombre de la variable\n",
    "variableDecimal"
   ]
  },
  {
   "cell_type": "code",
   "execution_count": 6,
   "id": "158c66bd-e4e1-4b78-827f-9546a8a8610e",
   "metadata": {},
   "outputs": [
    {
     "data": {
      "text/plain": [
       "'soy un string'"
      ]
     },
     "execution_count": 6,
     "metadata": {},
     "output_type": "execute_result"
    }
   ],
   "source": [
    "# Creamos una variable Float y la mostramos en un mismo paso\n",
    "VariableTexto = \"soy un string\"\n",
    "VariableTexto"
   ]
  },
  {
   "cell_type": "code",
   "execution_count": 7,
   "id": "5dcb60a0-5d85-49f0-8bf9-eefafbd59bf8",
   "metadata": {},
   "outputs": [
    {
     "name": "stdout",
     "output_type": "stream",
     "text": [
      "hola clase\n"
     ]
    }
   ],
   "source": [
    "#Con print() ademas de mostrar variables (que normalmente lo vamos a hacer poniendo el nombre directamente) \n",
    "#podemos mostrar mensajes sin estar adentro de variables\n",
    "print(\"hola clase\")"
   ]
  },
  {
   "cell_type": "code",
   "execution_count": 8,
   "id": "d3190a75-a22b-4b79-8eb6-aa9a147227db",
   "metadata": {},
   "outputs": [
    {
     "name": "stdout",
     "output_type": "stream",
     "text": [
      "variable_A 50 60.32\n"
     ]
    }
   ],
   "source": [
    "#Otra forma es creando varias variables de una sola vez\n",
    "variable_a, variable_b, variable_c = \"variable_A\", 50, 60.32\n",
    "print(variable_a , variable_b, variable_c)"
   ]
  },
  {
   "cell_type": "code",
   "execution_count": 9,
   "id": "6ecac02a-ded1-4478-ba7e-5d8b120b1286",
   "metadata": {},
   "outputs": [
    {
     "data": {
      "text/plain": [
       "('variable_A', 50, 60.32)"
      ]
     },
     "execution_count": 9,
     "metadata": {},
     "output_type": "execute_result"
    }
   ],
   "source": [
    "#O aplicando el feature de los notebook\n",
    "variable_a, variable_b, variable_c"
   ]
  },
  {
   "cell_type": "code",
   "execution_count": 10,
   "id": "d3f7ccf3-3bc8-49dd-b51f-2fbd0dc08448",
   "metadata": {},
   "outputs": [],
   "source": [
    "#Defino una variable boolena True y una False\n",
    "\n",
    "esto_es_python = True\n",
    "esto_es_excel = False"
   ]
  },
  {
   "cell_type": "code",
   "execution_count": 11,
   "id": "c7bc11d7-b388-4435-a904-b23cb54726aa",
   "metadata": {},
   "outputs": [
    {
     "name": "stdout",
     "output_type": "stream",
     "text": [
      "¿Esto es Python?: True\n",
      "¿Esto es Excel?: False\n"
     ]
    }
   ],
   "source": [
    "#Podemos imprimirlas para ver como se ven, ademas podemos agregarle un mensaje a nuestro print\n",
    "print(\"¿Esto es Python?:\", esto_es_python)\n",
    "print(\"¿Esto es Excel?:\", esto_es_excel)"
   ]
  },
  {
   "cell_type": "code",
   "execution_count": 12,
   "id": "b168fb85-f115-4fb2-b488-6a5a5d830d5d",
   "metadata": {},
   "outputs": [
    {
     "data": {
      "text/plain": [
       "int"
      ]
     },
     "execution_count": 12,
     "metadata": {},
     "output_type": "execute_result"
    }
   ],
   "source": [
    "#Tipos de datos\n",
    "#Vimos que habia diferentes tipos de datos y trabajamos con los 3 mas comunes y básicos. Usando type()\n",
    "#podemos ver que tipo de dato tiene asignado una variable.\n",
    "type(variable_integer)"
   ]
  },
  {
   "cell_type": "code",
   "execution_count": 13,
   "id": "ff053877-036d-476b-80e9-4097df103159",
   "metadata": {},
   "outputs": [
    {
     "data": {
      "text/plain": [
       "float"
      ]
     },
     "execution_count": 13,
     "metadata": {},
     "output_type": "execute_result"
    }
   ],
   "source": [
    "type(variableDecimal)"
   ]
  },
  {
   "cell_type": "code",
   "execution_count": 14,
   "id": "8844201c-4056-4c31-add5-136ca0351173",
   "metadata": {},
   "outputs": [
    {
     "data": {
      "text/plain": [
       "str"
      ]
     },
     "execution_count": 14,
     "metadata": {},
     "output_type": "execute_result"
    }
   ],
   "source": [
    "type(VariableTexto)"
   ]
  },
  {
   "cell_type": "code",
   "execution_count": 15,
   "id": "550a49d6-d292-4d2e-b13d-b2d489f586e0",
   "metadata": {},
   "outputs": [
    {
     "data": {
      "text/plain": [
       "bool"
      ]
     },
     "execution_count": 15,
     "metadata": {},
     "output_type": "execute_result"
    }
   ],
   "source": [
    "type(esto_es_python)"
   ]
  },
  {
   "cell_type": "code",
   "execution_count": 16,
   "id": "b6e35346-9e9d-41dc-bdaf-07ed1075757c",
   "metadata": {},
   "outputs": [
    {
     "data": {
      "text/plain": [
       "(1, int)"
      ]
     },
     "execution_count": 16,
     "metadata": {},
     "output_type": "execute_result"
    }
   ],
   "source": [
    "#CAST\n",
    "#Una forma muy sencilla de especificar o transformar (siempre que sea posible) una variable de un tipo a otro es usando cast. Veamos ejemplos\n",
    "numero_uno_entero = int(1)   # Especifico que mi variable va a ser del tipo integer\n",
    "numero_uno_entero, type(numero_uno_entero) #Veo el dato y el típo de dato"
   ]
  },
  {
   "cell_type": "code",
   "execution_count": 23,
   "id": "bd4231e2-57f3-462d-86b8-63c7c94b11da",
   "metadata": {},
   "outputs": [
    {
     "data": {
      "text/plain": [
       "(2.65, 2, int)"
      ]
     },
     "execution_count": 23,
     "metadata": {},
     "output_type": "execute_result"
    }
   ],
   "source": [
    "cast_variableDecimal = int(variableDecimal)#Voy a transformar y por lo tanto eliminar los decimales de mi variableDecimal\n",
    "variableDecimal, cast_variableDecimal, type(cast_variableDecimal)#Veo el dato original, mi variable despues de cast "
   ]
  },
  {
   "cell_type": "code",
   "execution_count": 22,
   "id": "88ce827d-86b6-4ea1-b2bd-a4024531a53b",
   "metadata": {},
   "outputs": [
    {
     "data": {
      "text/plain": [
       "('10', str, 10, int)"
      ]
     },
     "execution_count": 22,
     "metadata": {},
     "output_type": "execute_result"
    }
   ],
   "source": [
    "numero_string = \"10\" #Creamos una variable String a para el valor \"10\"\n",
    "cast_numero_string = int (numero_string)\n",
    "# Veo el dato original, su tipo de dato, mi variable despues de cast y el típo de dato final\n",
    "numero_string, type(numero_string), cast_numero_string, type(cast_numero_string)"
   ]
  },
  {
   "cell_type": "code",
   "execution_count": 19,
   "id": "db2a890b-d889-42f8-b13b-d45d6a0d177c",
   "metadata": {},
   "outputs": [
    {
     "data": {
      "text/plain": [
       "(1.0, float)"
      ]
     },
     "execution_count": 19,
     "metadata": {},
     "output_type": "execute_result"
    }
   ],
   "source": [
    "numero_uno_decimal = float(1)# Especifico que mi variable va a ser del tipo decimal\n",
    "numero_uno_decimal, type(numero_uno_decimal)#Veo el dato y el típo de dato"
   ]
  },
  {
   "cell_type": "code",
   "execution_count": 21,
   "id": "a62e3718-bd3d-4b30-92d0-9a25471df9fc",
   "metadata": {},
   "outputs": [
    {
     "data": {
      "text/plain": [
       "('3.14', str, 3.14, float)"
      ]
     },
     "execution_count": 21,
     "metadata": {},
     "output_type": "execute_result"
    }
   ],
   "source": [
    "numero_pi_string = \"3.14\"#Creamos una variable String a para el valor \"3.14\"\n",
    "cast_numero_pi_string = float(numero_pi_string) # Voy a transformar mi numero_pi_string\n",
    "# Veo el dato original, su tipo de dato, mi variable despues de cast y el típo de dato final\n",
    "numero_pi_string, type(numero_pi_string), cast_numero_pi_string, type(cast_numero_pi_string)"
   ]
  },
  {
   "cell_type": "code",
   "execution_count": 25,
   "id": "522e4ece-eec0-4b8d-a943-153d4ed0d8ae",
   "metadata": {},
   "outputs": [
    {
     "data": {
      "text/plain": [
       "(True, bool, 'True', str)"
      ]
     },
     "execution_count": 25,
     "metadata": {},
     "output_type": "execute_result"
    }
   ],
   "source": [
    "bool_curso_data_analitics = True\n",
    "cast_bool_curso_data_analitics = str(bool_curso_data_analitics)#Puedo transforma un booleano a String\n",
    "# Veo el dato original, su tipo de dato, mi variable despues de cast y el típo de dato final\n",
    "bool_curso_data_analitics, type(bool_curso_data_analitics), cast_bool_curso_data_analitics , type(cast_bool_curso_data_analitics )"
   ]
  },
  {
   "cell_type": "code",
   "execution_count": 27,
   "id": "b3c46ce8-059a-4e66-b1bd-67c66301e030",
   "metadata": {},
   "outputs": [
    {
     "data": {
      "text/plain": [
       "8"
      ]
     },
     "execution_count": 27,
     "metadata": {},
     "output_type": "execute_result"
    }
   ],
   "source": [
    "#Siendo mis variables A y B del tipo entero voy a utilizar los siguientes operadores aritmeticos\n",
    "#Aritméticos: Suma +, Resta -, Multiplicación *, División /, Exponente **, Módulo % División entera //\n",
    "A = 5\n",
    "B = 3\n",
    "#Suma +\n",
    "A + B\n",
    "\n"
   ]
  },
  {
   "cell_type": "code",
   "execution_count": 28,
   "id": "057f25b5-e6a4-44cc-8305-65f74664585a",
   "metadata": {},
   "outputs": [
    {
     "data": {
      "text/plain": [
       "2"
      ]
     },
     "execution_count": 28,
     "metadata": {},
     "output_type": "execute_result"
    }
   ],
   "source": [
    "# Resta -\n",
    "A - B\n"
   ]
  },
  {
   "cell_type": "code",
   "execution_count": 29,
   "id": "61315f5d-a3aa-4c41-a41b-1af19bcada0d",
   "metadata": {},
   "outputs": [
    {
     "data": {
      "text/plain": [
       "15"
      ]
     },
     "execution_count": 29,
     "metadata": {},
     "output_type": "execute_result"
    }
   ],
   "source": [
    "# Multiplicación *\n",
    "A * B\n"
   ]
  },
  {
   "cell_type": "code",
   "execution_count": 30,
   "id": "21e9ac32-8b78-4e90-9c04-9ca0deb48cef",
   "metadata": {},
   "outputs": [
    {
     "data": {
      "text/plain": [
       "1.6666666666666667"
      ]
     },
     "execution_count": 30,
     "metadata": {},
     "output_type": "execute_result"
    }
   ],
   "source": [
    "#División /\n",
    "A / B\n"
   ]
  },
  {
   "cell_type": "code",
   "execution_count": 31,
   "id": "5c55c034-8858-4c50-b254-f6c858230c52",
   "metadata": {},
   "outputs": [
    {
     "data": {
      "text/plain": [
       "125"
      ]
     },
     "execution_count": 31,
     "metadata": {},
     "output_type": "execute_result"
    }
   ],
   "source": [
    "#Exponente **\n",
    "A ** B\n"
   ]
  },
  {
   "cell_type": "code",
   "execution_count": 33,
   "id": "34d52d02-2a6a-4873-98d8-1168d5d5e014",
   "metadata": {},
   "outputs": [
    {
     "data": {
      "text/plain": [
       "2"
      ]
     },
     "execution_count": 33,
     "metadata": {},
     "output_type": "execute_result"
    }
   ],
   "source": [
    "#Módulo % Ó Resto\n",
    "A % B\n"
   ]
  },
  {
   "cell_type": "code",
   "execution_count": 34,
   "id": "14748c29-7ee8-413a-bd55-82a185fb0ca8",
   "metadata": {},
   "outputs": [
    {
     "data": {
      "text/plain": [
       "1"
      ]
     },
     "execution_count": 34,
     "metadata": {},
     "output_type": "execute_result"
    }
   ],
   "source": [
    "#División entera //\n",
    "A // B"
   ]
  },
  {
   "cell_type": "code",
   "execution_count": 37,
   "id": "219dd34d-ebf6-4c3f-a4c0-062e3a4abf43",
   "metadata": {},
   "outputs": [
    {
     "data": {
      "text/plain": [
       "615.44"
      ]
     },
     "execution_count": 37,
     "metadata": {},
     "output_type": "execute_result"
    }
   ],
   "source": [
    "# Tambien tenemos multiplicaciones\n",
    "radio = 14 \n",
    "numero_pi = 3.14\n",
    "area = numero_pi * radio**2\n",
    "\n",
    "area"
   ]
  },
  {
   "cell_type": "code",
   "execution_count": 38,
   "id": "1d770a2c-05b0-4689-a1b5-6048fae5a301",
   "metadata": {},
   "outputs": [
    {
     "data": {
      "text/plain": [
       "87.92"
      ]
     },
     "execution_count": 38,
     "metadata": {},
     "output_type": "execute_result"
    }
   ],
   "source": [
    "#perimetro\n",
    "2*numero_pi*radio"
   ]
  },
  {
   "cell_type": "code",
   "execution_count": 39,
   "id": "ebd706ad-e7b1-4919-a44b-734c82ec415a",
   "metadata": {},
   "outputs": [
    {
     "data": {
      "text/plain": [
       "False"
      ]
     },
     "execution_count": 39,
     "metadata": {},
     "output_type": "execute_result"
    }
   ],
   "source": [
    "#Con comparciones puedo ver relaciones entre términos\n",
    "\n",
    "variable_pais_minuscula = \"argentina\"\n",
    "variable_pais_mayuscula = \"ARGENTINA\"\n",
    "\n",
    "variable_pais_mayuscula == variable_pais_minuscula"
   ]
  },
  {
   "cell_type": "code",
   "execution_count": 40,
   "id": "87d98aff-0a6c-4add-b2dd-cf226b578631",
   "metadata": {},
   "outputs": [
    {
     "data": {
      "text/plain": [
       "True"
      ]
     },
     "execution_count": 40,
     "metadata": {},
     "output_type": "execute_result"
    }
   ],
   "source": [
    "#Pueden ser entre numeros\n",
    "ventas_totales = 243090\n",
    "ventas_esperadas = 243080\n",
    "\n",
    "ventas_totales >= ventas_esperadas"
   ]
  },
  {
   "cell_type": "code",
   "execution_count": 41,
   "id": "49e96adf-f477-4068-8ebe-3d4032e6fb25",
   "metadata": {},
   "outputs": [],
   "source": [
    "# Ademas puedo incrementar valores o dismuirlos con cada ejecución\n",
    "valor_creciente, valor_decreciente = 0, 0 #Defino mis puntos de inicio"
   ]
  },
  {
   "cell_type": "code",
   "execution_count": 43,
   "id": "40bb4102-8f08-497c-9df6-7d25082e4cfb",
   "metadata": {},
   "outputs": [
    {
     "data": {
      "text/plain": [
       "(2, -2)"
      ]
     },
     "execution_count": 43,
     "metadata": {},
     "output_type": "execute_result"
    }
   ],
   "source": [
    "#incremento con cada ejecución\n",
    "\n",
    "valor_creciente += 1 \n",
    "valor_decreciente -= 1\n",
    "\n",
    "valor_creciente, valor_decreciente"
   ]
  },
  {
   "cell_type": "code",
   "execution_count": 45,
   "id": "0c1379b3-c1e7-4133-bdae-26cb2325a1c1",
   "metadata": {},
   "outputs": [],
   "source": [
    "#Eje#Podemos incrementar 2 a dos en 2 tambien\n",
    "numeros_pares, cantidad_ejecuciones = 0, 0 #Defino mis puntos de inicio"
   ]
  },
  {
   "cell_type": "code",
   "execution_count": 48,
   "id": "ad73a651-ecc8-415a-98b2-e4a7cd3f3d32",
   "metadata": {},
   "outputs": [
    {
     "name": "stdout",
     "output_type": "stream",
     "text": [
      "numero: 6\n",
      "veces ejecutado: 3\n"
     ]
    }
   ],
   "source": [
    "#Ejecuto\n",
    "\n",
    "numeros_pares +=2\n",
    "cantidad_ejecuciones += 1\n",
    "\n",
    "print(\"numero:\",numeros_pares)\n",
    "print(\"veces ejecutado:\",cantidad_ejecuciones)"
   ]
  },
  {
   "cell_type": "code",
   "execution_count": null,
   "id": "f38dfdf9-b6b6-4f37-9e76-19eb739f1dab",
   "metadata": {},
   "outputs": [],
   "source": []
  }
 ],
 "metadata": {
  "kernelspec": {
   "display_name": "Python 3 (ipykernel)",
   "language": "python",
   "name": "python3"
  },
  "language_info": {
   "codemirror_mode": {
    "name": "ipython",
    "version": 3
   },
   "file_extension": ".py",
   "mimetype": "text/x-python",
   "name": "python",
   "nbconvert_exporter": "python",
   "pygments_lexer": "ipython3",
   "version": "3.11.7"
  }
 },
 "nbformat": 4,
 "nbformat_minor": 5
}
