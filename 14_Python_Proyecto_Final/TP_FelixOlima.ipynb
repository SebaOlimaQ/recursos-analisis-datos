{
 "cells": [
  {
   "cell_type": "code",
   "execution_count": 1,
   "id": "54f94c17-0672-4590-9aaa-c2d36b634d36",
   "metadata": {},
   "outputs": [
    {
     "name": "stdout",
     "output_type": "stream",
     "text": [
      "Requirement already satisfied: notebook in c:\\anaconda\\lib\\site-packages (6.5.4)Note: you may need to restart the kernel to use updated packages.\n",
      "\n",
      "Requirement already satisfied: jinja2 in c:\\anaconda\\lib\\site-packages (from notebook) (3.1.3)\n",
      "Requirement already satisfied: tornado>=6.1 in c:\\anaconda\\lib\\site-packages (from notebook) (6.3.3)\n",
      "Requirement already satisfied: pyzmq>=17 in c:\\anaconda\\lib\\site-packages (from notebook) (24.0.1)\n",
      "Requirement already satisfied: argon2-cffi in c:\\anaconda\\lib\\site-packages (from notebook) (21.3.0)\n",
      "Requirement already satisfied: traitlets>=4.2.1 in c:\\anaconda\\lib\\site-packages (from notebook) (5.7.1)\n",
      "Requirement already satisfied: jupyter-core>=4.6.1 in c:\\anaconda\\lib\\site-packages (from notebook) (5.5.0)\n",
      "Requirement already satisfied: jupyter-client>=5.3.4 in c:\\anaconda\\lib\\site-packages (from notebook) (7.4.9)\n",
      "Requirement already satisfied: ipython-genutils in c:\\anaconda\\lib\\site-packages (from notebook) (0.2.0)\n",
      "Requirement already satisfied: nbformat in c:\\anaconda\\lib\\site-packages (from notebook) (5.9.2)\n",
      "Requirement already satisfied: nbconvert>=5 in c:\\anaconda\\lib\\site-packages (from notebook) (7.10.0)\n",
      "Requirement already satisfied: nest-asyncio>=1.5 in c:\\anaconda\\lib\\site-packages (from notebook) (1.6.0)\n",
      "Requirement already satisfied: ipykernel in c:\\anaconda\\lib\\site-packages (from notebook) (6.28.0)\n",
      "Requirement already satisfied: Send2Trash>=1.8.0 in c:\\anaconda\\lib\\site-packages (from notebook) (1.8.2)\n",
      "Requirement already satisfied: terminado>=0.8.3 in c:\\anaconda\\lib\\site-packages (from notebook) (0.17.1)\n",
      "Requirement already satisfied: prometheus-client in c:\\anaconda\\lib\\site-packages (from notebook) (0.14.1)\n",
      "Requirement already satisfied: nbclassic>=0.4.7 in c:\\anaconda\\lib\\site-packages (from notebook) (1.0.0)\n",
      "Requirement already satisfied: entrypoints in c:\\anaconda\\lib\\site-packages (from jupyter-client>=5.3.4->notebook) (0.4)\n",
      "Requirement already satisfied: python-dateutil>=2.8.2 in c:\\anaconda\\lib\\site-packages (from jupyter-client>=5.3.4->notebook) (2.8.2)\n",
      "Requirement already satisfied: platformdirs>=2.5 in c:\\anaconda\\lib\\site-packages (from jupyter-core>=4.6.1->notebook) (3.10.0)\n",
      "Requirement already satisfied: pywin32>=300 in c:\\anaconda\\lib\\site-packages (from jupyter-core>=4.6.1->notebook) (305.1)\n",
      "Requirement already satisfied: jupyter-server>=1.8 in c:\\anaconda\\lib\\site-packages (from nbclassic>=0.4.7->notebook) (2.10.0)\n",
      "Requirement already satisfied: notebook-shim>=0.2.3 in c:\\anaconda\\lib\\site-packages (from nbclassic>=0.4.7->notebook) (0.2.3)\n",
      "Requirement already satisfied: beautifulsoup4 in c:\\anaconda\\lib\\site-packages (from nbconvert>=5->notebook) (4.12.2)\n",
      "Requirement already satisfied: bleach!=5.0.0 in c:\\anaconda\\lib\\site-packages (from nbconvert>=5->notebook) (4.1.0)\n",
      "Requirement already satisfied: defusedxml in c:\\anaconda\\lib\\site-packages (from nbconvert>=5->notebook) (0.7.1)\n",
      "Requirement already satisfied: jupyterlab-pygments in c:\\anaconda\\lib\\site-packages (from nbconvert>=5->notebook) (0.1.2)\n",
      "Requirement already satisfied: markupsafe>=2.0 in c:\\anaconda\\lib\\site-packages (from nbconvert>=5->notebook) (2.1.3)\n",
      "Requirement already satisfied: mistune<4,>=2.0.3 in c:\\anaconda\\lib\\site-packages (from nbconvert>=5->notebook) (2.0.4)\n",
      "Requirement already satisfied: nbclient>=0.5.0 in c:\\anaconda\\lib\\site-packages (from nbconvert>=5->notebook) (0.8.0)\n",
      "Requirement already satisfied: packaging in c:\\anaconda\\lib\\site-packages (from nbconvert>=5->notebook) (23.1)\n",
      "Requirement already satisfied: pandocfilters>=1.4.1 in c:\\anaconda\\lib\\site-packages (from nbconvert>=5->notebook) (1.5.0)\n",
      "Requirement already satisfied: pygments>=2.4.1 in c:\\anaconda\\lib\\site-packages (from nbconvert>=5->notebook) (2.15.1)\n",
      "Requirement already satisfied: tinycss2 in c:\\anaconda\\lib\\site-packages (from nbconvert>=5->notebook) (1.2.1)\n",
      "Requirement already satisfied: fastjsonschema in c:\\anaconda\\lib\\site-packages (from nbformat->notebook) (2.16.2)\n",
      "Requirement already satisfied: jsonschema>=2.6 in c:\\anaconda\\lib\\site-packages (from nbformat->notebook) (4.19.2)\n",
      "Requirement already satisfied: pywinpty>=1.1.0 in c:\\anaconda\\lib\\site-packages (from terminado>=0.8.3->notebook) (2.0.10)\n",
      "Requirement already satisfied: argon2-cffi-bindings in c:\\anaconda\\lib\\site-packages (from argon2-cffi->notebook) (21.2.0)\n",
      "Requirement already satisfied: comm>=0.1.1 in c:\\anaconda\\lib\\site-packages (from ipykernel->notebook) (0.1.2)\n",
      "Requirement already satisfied: debugpy>=1.6.5 in c:\\anaconda\\lib\\site-packages (from ipykernel->notebook) (1.6.7)\n",
      "Requirement already satisfied: ipython>=7.23.1 in c:\\anaconda\\lib\\site-packages (from ipykernel->notebook) (8.20.0)\n",
      "Requirement already satisfied: matplotlib-inline>=0.1 in c:\\anaconda\\lib\\site-packages (from ipykernel->notebook) (0.1.6)\n",
      "Requirement already satisfied: psutil in c:\\anaconda\\lib\\site-packages (from ipykernel->notebook) (5.9.0)\n",
      "Requirement already satisfied: six>=1.9.0 in c:\\anaconda\\lib\\site-packages (from bleach!=5.0.0->nbconvert>=5->notebook) (1.16.0)\n",
      "Requirement already satisfied: webencodings in c:\\anaconda\\lib\\site-packages (from bleach!=5.0.0->nbconvert>=5->notebook) (0.5.1)\n",
      "Requirement already satisfied: decorator in c:\\anaconda\\lib\\site-packages (from ipython>=7.23.1->ipykernel->notebook) (5.1.1)\n",
      "Requirement already satisfied: jedi>=0.16 in c:\\anaconda\\lib\\site-packages (from ipython>=7.23.1->ipykernel->notebook) (0.18.1)\n",
      "Requirement already satisfied: prompt-toolkit<3.1.0,>=3.0.41 in c:\\anaconda\\lib\\site-packages (from ipython>=7.23.1->ipykernel->notebook) (3.0.43)\n",
      "Requirement already satisfied: stack-data in c:\\anaconda\\lib\\site-packages (from ipython>=7.23.1->ipykernel->notebook) (0.2.0)\n",
      "Requirement already satisfied: colorama in c:\\anaconda\\lib\\site-packages (from ipython>=7.23.1->ipykernel->notebook) (0.4.6)\n",
      "Requirement already satisfied: attrs>=22.2.0 in c:\\anaconda\\lib\\site-packages (from jsonschema>=2.6->nbformat->notebook) (23.1.0)\n",
      "Requirement already satisfied: jsonschema-specifications>=2023.03.6 in c:\\anaconda\\lib\\site-packages (from jsonschema>=2.6->nbformat->notebook) (2023.7.1)\n",
      "Requirement already satisfied: referencing>=0.28.4 in c:\\anaconda\\lib\\site-packages (from jsonschema>=2.6->nbformat->notebook) (0.30.2)\n",
      "Requirement already satisfied: rpds-py>=0.7.1 in c:\\anaconda\\lib\\site-packages (from jsonschema>=2.6->nbformat->notebook) (0.10.6)\n",
      "Requirement already satisfied: anyio>=3.1.0 in c:\\anaconda\\lib\\site-packages (from jupyter-server>=1.8->nbclassic>=0.4.7->notebook) (4.2.0)\n",
      "Requirement already satisfied: jupyter-events>=0.6.0 in c:\\anaconda\\lib\\site-packages (from jupyter-server>=1.8->nbclassic>=0.4.7->notebook) (0.8.0)\n",
      "Requirement already satisfied: jupyter-server-terminals in c:\\anaconda\\lib\\site-packages (from jupyter-server>=1.8->nbclassic>=0.4.7->notebook) (0.4.4)\n",
      "Requirement already satisfied: overrides in c:\\anaconda\\lib\\site-packages (from jupyter-server>=1.8->nbclassic>=0.4.7->notebook) (7.4.0)\n",
      "Requirement already satisfied: websocket-client in c:\\anaconda\\lib\\site-packages (from jupyter-server>=1.8->nbclassic>=0.4.7->notebook) (0.58.0)\n",
      "Requirement already satisfied: cffi>=1.0.1 in c:\\anaconda\\lib\\site-packages (from argon2-cffi-bindings->argon2-cffi->notebook) (1.16.0)\n",
      "Requirement already satisfied: soupsieve>1.2 in c:\\anaconda\\lib\\site-packages (from beautifulsoup4->nbconvert>=5->notebook) (2.5)\n",
      "Requirement already satisfied: idna>=2.8 in c:\\anaconda\\lib\\site-packages (from anyio>=3.1.0->jupyter-server>=1.8->nbclassic>=0.4.7->notebook) (3.4)\n",
      "Requirement already satisfied: sniffio>=1.1 in c:\\anaconda\\lib\\site-packages (from anyio>=3.1.0->jupyter-server>=1.8->nbclassic>=0.4.7->notebook) (1.3.0)\n",
      "Requirement already satisfied: pycparser in c:\\anaconda\\lib\\site-packages (from cffi>=1.0.1->argon2-cffi-bindings->argon2-cffi->notebook) (2.21)\n",
      "Requirement already satisfied: parso<0.9.0,>=0.8.0 in c:\\anaconda\\lib\\site-packages (from jedi>=0.16->ipython>=7.23.1->ipykernel->notebook) (0.8.3)\n",
      "Requirement already satisfied: python-json-logger>=2.0.4 in c:\\anaconda\\lib\\site-packages (from jupyter-events>=0.6.0->jupyter-server>=1.8->nbclassic>=0.4.7->notebook) (2.0.7)\n",
      "Requirement already satisfied: pyyaml>=5.3 in c:\\anaconda\\lib\\site-packages (from jupyter-events>=0.6.0->jupyter-server>=1.8->nbclassic>=0.4.7->notebook) (6.0.1)\n",
      "Requirement already satisfied: rfc3339-validator in c:\\anaconda\\lib\\site-packages (from jupyter-events>=0.6.0->jupyter-server>=1.8->nbclassic>=0.4.7->notebook) (0.1.4)\n",
      "Requirement already satisfied: rfc3986-validator>=0.1.1 in c:\\anaconda\\lib\\site-packages (from jupyter-events>=0.6.0->jupyter-server>=1.8->nbclassic>=0.4.7->notebook) (0.1.1)\n",
      "Requirement already satisfied: wcwidth in c:\\anaconda\\lib\\site-packages (from prompt-toolkit<3.1.0,>=3.0.41->ipython>=7.23.1->ipykernel->notebook) (0.2.5)\n",
      "Requirement already satisfied: executing in c:\\anaconda\\lib\\site-packages (from stack-data->ipython>=7.23.1->ipykernel->notebook) (0.8.3)\n",
      "Requirement already satisfied: asttokens in c:\\anaconda\\lib\\site-packages (from stack-data->ipython>=7.23.1->ipykernel->notebook) (2.0.5)\n",
      "Requirement already satisfied: pure-eval in c:\\anaconda\\lib\\site-packages (from stack-data->ipython>=7.23.1->ipykernel->notebook) (0.2.2)\n",
      "Collecting fqdn (from jsonschema[format-nongpl]>=4.18.0->jupyter-events>=0.6.0->jupyter-server>=1.8->nbclassic>=0.4.7->notebook)\n",
      "  Downloading fqdn-1.5.1-py3-none-any.whl.metadata (1.4 kB)\n",
      "Collecting isoduration (from jsonschema[format-nongpl]>=4.18.0->jupyter-events>=0.6.0->jupyter-server>=1.8->nbclassic>=0.4.7->notebook)\n",
      "  Downloading isoduration-20.11.0-py3-none-any.whl.metadata (5.7 kB)\n",
      "Requirement already satisfied: jsonpointer>1.13 in c:\\anaconda\\lib\\site-packages (from jsonschema[format-nongpl]>=4.18.0->jupyter-events>=0.6.0->jupyter-server>=1.8->nbclassic>=0.4.7->notebook) (2.1)\n",
      "Collecting uri-template (from jsonschema[format-nongpl]>=4.18.0->jupyter-events>=0.6.0->jupyter-server>=1.8->nbclassic>=0.4.7->notebook)\n",
      "  Downloading uri_template-1.3.0-py3-none-any.whl.metadata (8.8 kB)\n",
      "Collecting webcolors>=1.11 (from jsonschema[format-nongpl]>=4.18.0->jupyter-events>=0.6.0->jupyter-server>=1.8->nbclassic>=0.4.7->notebook)\n",
      "  Downloading webcolors-1.13-py3-none-any.whl.metadata (2.6 kB)\n",
      "Requirement already satisfied: arrow>=0.15.0 in c:\\anaconda\\lib\\site-packages (from isoduration->jsonschema[format-nongpl]>=4.18.0->jupyter-events>=0.6.0->jupyter-server>=1.8->nbclassic>=0.4.7->notebook) (1.2.3)\n",
      "Downloading webcolors-1.13-py3-none-any.whl (14 kB)\n",
      "Downloading fqdn-1.5.1-py3-none-any.whl (9.1 kB)\n",
      "Downloading isoduration-20.11.0-py3-none-any.whl (11 kB)\n",
      "Downloading uri_template-1.3.0-py3-none-any.whl (11 kB)\n",
      "Installing collected packages: webcolors, uri-template, fqdn, isoduration\n",
      "Successfully installed fqdn-1.5.1 isoduration-20.11.0 uri-template-1.3.0 webcolors-1.13\n"
     ]
    }
   ],
   "source": [
    "pip install notebook"
   ]
  },
  {
   "cell_type": "markdown",
   "id": "ead836bc-2905-47a7-8148-d43859b59712",
   "metadata": {},
   "source": [
    "Público objetivo 󰚒\n",
    "📌Premisa\n",
    "Hoy día, los datos se han convertido en el mayor activo que poseen las\n",
    "organizaciones para fundamentar sus decisiones y dirigir estrategias\n",
    "empresariales efectivas; esto va desde poder analizar patrones de\n",
    "comportamiento hasta prever tendencias futuras.\n",
    "En este contexto, entra InnovateTech, una empresa líder en tecnología que, con\n",
    "nuestra ayuda, busca construir y mantener su plataforma de datos. Esta\n",
    "plataforma no solo respalda la toma de decisiones estratégicas a través del\n",
    "análisis e interpretación de datos, sino que también permite que la empresa pueda\n",
    "examinar y organizar su información con diferentes propósitos: ajustar sus\n",
    "productos y servicios, detectar nichos de mercado, expandirse, mejorar su atención\n",
    "al cliente, entre otros.\n",
    "En este caso, el desafío al que se enfrentan es comprender mejor a su público\n",
    "objetivo. Están buscando, con nuestro apoyo, entender a fondo a sus\n",
    "consumidores: a qué se dedican, qué hacen, qué edad tienen, qué les gusta, qué les\n",
    "duele, y qué necesitan. Esto les permitirá optimizar, contextualizar y personalizar\n",
    "los mensajes hacia sus clientes lo que a su vez les ayudará a definir mejores\n",
    "campañas y obtener leads de mayor calidad, es decir, potenciales clientes más\n",
    "alineados con sus productos y servicios.\n",
    "Como miembro del equipo de Ingeniería de Datos de la empresa y aplicando los\n",
    "conocimientos adquiridos en la unidad de Excel, Python y análisis de datos, te\n",
    "enfocarás en extraer, analizar y gestionar datos clave.\n",
    "🎯 Propósito general\n",
    "Manipulación de Datos con Python:\n",
    "● Utiliza la biblioteca Pandas en Python para cargar un archivo CSV que\n",
    "contiene datos de ventas de diferentes sucursales de la empresa.\n",
    "● Limpia y prepara los datos utilizando funciones de manipulación de datos en\n",
    "Python, como la eliminación de filas duplicadas y el manejo de valores nulos.\n",
    "\n",
    "2\n",
    "\n",
    "Análisis de Datos con Python:\n",
    "● Utiliza NumPy para realizar cálculos de álgebra lineal, como la multiplicación\n",
    "de matrices y el cálculo de determinantes.\n",
    "● Utiliza Pandas para generar un reporte descriptivo que incluya estadísticas\n",
    "descriptivas básicas y tablas dinámicas sobre las ventas de las diferentes\n",
    "sucursales.\n",
    "Presentación de Informes con Excel:\n",
    "● Exporta los datos limpios y el reporte descriptivo generado en Python a un\n",
    "archivo Excel.\n",
    "● Utiliza fórmulas y funciones de Excel para calcular métricas adicionales,\n",
    "como el total de ventas y el promedio de ventas por sucursal.\n",
    "● Aplica formatos personalizados y estilos visuales para mejorar la\n",
    "presentación de la información en el archivo Excel.\n",
    "📭Entregables\n",
    "➢ Archivo Excel que contiene los datos limpios, el reporte descriptivo y las\n",
    "métricas adicionales calculadas.\n",
    "➢ Archivo .py con el código utilizado para el análisis de datos en Python.\n",
    "📝¿Qué vamos a validar?\n",
    "Estos son algunos puntos que vamos a validar:\n",
    "A. Cumplimiento de lo requerido por archivo:\n",
    "✓ Utiliza Pandas: para cargar y limpiar los datos de ventas.\n",
    "✓ Utiliza NumPy: para realizar cálculos de álgebra lineal según sea\n",
    "necesario.\n",
    "✓ Utiliza Pandas: para generar el reporte descriptivo de ventas.\n",
    "✓ Exporta los datos y el reporte a un archivo Excel.\n",
    "\n",
    "3\n",
    "\n",
    "✓ Utiliza Excel: para calcular métricas adicionales y mejorar la\n",
    "presentación del informe.\n",
    "\n",
    "B. Calidad del código: Programación en Python\n",
    "✓ Modularización: Revisar si el código está organizado en módulos o\n",
    "funciones de manera lógica, facilitando su comprensión,\n",
    "mantenimiento y reutilización.\n",
    "✓ Documentación: Comprobar que el código esté adecuadamente\n",
    "documentado, incluyendo comentarios explicativos, descripciones de\n",
    "funciones y notas sobre la lógica utilizada.\n",
    "✓ Buenas prácticas: Evaluar si se siguen las buenas prácticas de\n",
    "programación, como nombramiento coherente de variables,\n",
    "estructuras de código limpias, y uso eficiente de recursos.\n",
    "\n",
    "C. Eficiencia y optimización:\n",
    "✓ Rendimiento del Código: Revisar el código en busca de posibles\n",
    "ineficiencias que puedan ralentizar la ejecución o consumir recursos\n",
    "innecesarios.\n",
    "✓ Optimización de Consultas: Asegurar que las consultas SQL y las\n",
    "operaciones de Pandas se realicen de manera eficiente,\n",
    "especialmente en el manejo de grandes volúmenes de datos.\n",
    "\n",
    "D. Seguridad y privacidad:\n",
    "✓ Manejo de Datos Sensibles: Verificar que se respeten las prácticas de\n",
    "seguridad y privacidad de datos, especialmente si se manejan datos\n",
    "personales o confidenciales.\n",
    "✓ Protección contra Vulnerabilidades: Asegurarse de que el código esté\n",
    "libre de vulnerabilidades comunes, como inyecciones SQL en las\n",
    "consultas.\n",
    "\n",
    "E. Presentación y reporte de resultados:\n",
    "✓ Claridad en los Informes: Comprobar que los informes generados sean\n",
    "claros, bien estructurados y que presenten los hallazgos de manera\n",
    "comprensible.\n",
    "\n",
    "4\n",
    "\n",
    "✓ Fundamentación de Conclusiones: Asegurarse de que las\n",
    "conclusiones y recomendaciones estén bien fundamentadas y\n",
    "basadas en los datos y análisis realizados.\n",
    "\n",
    "📄Requerimientos\n",
    "→ Analizar los archivos proporcionados para comprender su estructura y los\n",
    "datos que contienen🗄 :\n",
    "■ ecommerce_customers_dataset.csv\n",
    "■ ecommerce_orders_dataset.csv\n",
    "■ ecommerce_order_items_dataset.csv\n",
    "■ ecommerce_products_dataset.csv\n",
    "■ ecommerce_order_payments_dataset.csv\n",
    "→ Realizar las siguientes actividades con pandas 🐼:\n",
    "■ Cargar los archivos CSV en DataFrames de Pandas\n",
    "■ Establecer la columna índices de las tablas como la clave primaria en\n",
    "el DataFrame, ejemplo para customers la clave será customer_id.\n",
    "■ Obtener el número total de clientes únicos en el conjunto de datos\n",
    "■ Calcular el promedio de valor de pago por pedido\n",
    "■ Determinar la categoría de producto más vendida\n",
    "■ Calcular el número total de pedidos realizadoslds in line 3, saw 1290"
   ]
  },
  {
   "cell_type": "markdown",
   "id": "bea2b38e-b6c4-4dd7-9999-aa90162e897a",
   "metadata": {},
   "source": [
    "procedemos a la instalación e importacion de librerias"
   ]
  },
  {
   "cell_type": "code",
   "execution_count": 1,
   "id": "e7d2528f-a737-443a-b708-da90a3d4a2a3",
   "metadata": {},
   "outputs": [
    {
     "name": "stdout",
     "output_type": "stream",
     "text": [
      "Requirement already satisfied: pandas in c:\\anaconda\\lib\\site-packages (2.1.4)\n",
      "Requirement already satisfied: numpy<2,>=1.23.2 in c:\\anaconda\\lib\\site-packages (from pandas) (1.26.4)\n",
      "Requirement already satisfied: python-dateutil>=2.8.2 in c:\\anaconda\\lib\\site-packages (from pandas) (2.8.2)\n",
      "Requirement already satisfied: pytz>=2020.1 in c:\\anaconda\\lib\\site-packages (from pandas) (2023.3.post1)\n",
      "Requirement already satisfied: tzdata>=2022.1 in c:\\anaconda\\lib\\site-packages (from pandas) (2023.3)\n",
      "Requirement already satisfied: six>=1.5 in c:\\anaconda\\lib\\site-packages (from python-dateutil>=2.8.2->pandas) (1.16.0)\n",
      "Note: you may need to restart the kernel to use updated packages.\n"
     ]
    }
   ],
   "source": [
    "pip install pandas"
   ]
  },
  {
   "cell_type": "code",
   "execution_count": 4,
   "id": "f6529a62-b7b3-4f17-93ee-607cbe019dd2",
   "metadata": {},
   "outputs": [],
   "source": [
    "import pandas as pd"
   ]
  },
  {
   "cell_type": "code",
   "execution_count": 5,
   "id": "915514c9-bf6c-471e-ac51-de923c7e56ed",
   "metadata": {},
   "outputs": [],
   "source": [
    "import os"
   ]
  },
  {
   "cell_type": "code",
   "execution_count": 6,
   "id": "ac0ca748-0847-46c4-9119-b7fd44bc6026",
   "metadata": {},
   "outputs": [
    {
     "data": {
      "text/html": [
       "<div>\n",
       "<style scoped>\n",
       "    .dataframe tbody tr th:only-of-type {\n",
       "        vertical-align: middle;\n",
       "    }\n",
       "\n",
       "    .dataframe tbody tr th {\n",
       "        vertical-align: top;\n",
       "    }\n",
       "\n",
       "    .dataframe thead th {\n",
       "        text-align: right;\n",
       "    }\n",
       "</style>\n",
       "<table border=\"1\" class=\"dataframe\">\n",
       "  <thead>\n",
       "    <tr style=\"text-align: right;\">\n",
       "      <th></th>\n",
       "      <th>order_id</th>\n",
       "      <th>customer_id</th>\n",
       "      <th>order_status</th>\n",
       "      <th>order_purchase_timestamp</th>\n",
       "      <th>order_approved_at</th>\n",
       "      <th>order_delivered_carrier_date</th>\n",
       "      <th>order_delivered_customer_date</th>\n",
       "      <th>order_estimated_delivery_date</th>\n",
       "    </tr>\n",
       "  </thead>\n",
       "  <tbody>\n",
       "    <tr>\n",
       "      <th>0</th>\n",
       "      <td>e481f51cbdc54678b7cc49136f2d6af7</td>\n",
       "      <td>9ef432eb6251297304e76186b10a928d</td>\n",
       "      <td>delivered</td>\n",
       "      <td>2017-10-02 10:56:33</td>\n",
       "      <td>2017-10-02 11:07:15</td>\n",
       "      <td>2017-10-04 19:55:00</td>\n",
       "      <td>2017-10-10 21:25:13</td>\n",
       "      <td>2017-10-18 00:00:00</td>\n",
       "    </tr>\n",
       "    <tr>\n",
       "      <th>1</th>\n",
       "      <td>53cdb2fc8bc7dce0b6741e2150273451</td>\n",
       "      <td>b0830fb4747a6c6d20dea0b8c802d7ef</td>\n",
       "      <td>delivered</td>\n",
       "      <td>2018-07-24 20:41:37</td>\n",
       "      <td>2018-07-26 03:24:27</td>\n",
       "      <td>2018-07-26 14:31:00</td>\n",
       "      <td>2018-08-07 15:27:45</td>\n",
       "      <td>2018-08-13 00:00:00</td>\n",
       "    </tr>\n",
       "    <tr>\n",
       "      <th>2</th>\n",
       "      <td>47770eb9100c2d0c44946d9cf07ec65d</td>\n",
       "      <td>41ce2a54c0b03bf3443c3d931a367089</td>\n",
       "      <td>delivered</td>\n",
       "      <td>2018-08-08 08:38:49</td>\n",
       "      <td>2018-08-08 08:55:23</td>\n",
       "      <td>2018-08-08 13:50:00</td>\n",
       "      <td>2018-08-17 18:06:29</td>\n",
       "      <td>2018-09-04 00:00:00</td>\n",
       "    </tr>\n",
       "    <tr>\n",
       "      <th>3</th>\n",
       "      <td>949d5b44dbf5de918fe9c16f97b45f8a</td>\n",
       "      <td>f88197465ea7920adcdbec7375364d82</td>\n",
       "      <td>delivered</td>\n",
       "      <td>2017-11-18 19:28:06</td>\n",
       "      <td>2017-11-18 19:45:59</td>\n",
       "      <td>2017-11-22 13:39:59</td>\n",
       "      <td>2017-12-02 00:28:42</td>\n",
       "      <td>2017-12-15 00:00:00</td>\n",
       "    </tr>\n",
       "    <tr>\n",
       "      <th>4</th>\n",
       "      <td>ad21c59c0840e6cb83a9ceb5573f8159</td>\n",
       "      <td>8ab97904e6daea8866dbdbc4fb7aad2c</td>\n",
       "      <td>delivered</td>\n",
       "      <td>2018-02-13 21:18:39</td>\n",
       "      <td>2018-02-13 22:20:29</td>\n",
       "      <td>2018-02-14 19:46:34</td>\n",
       "      <td>2018-02-16 18:17:02</td>\n",
       "      <td>2018-02-26 00:00:00</td>\n",
       "    </tr>\n",
       "  </tbody>\n",
       "</table>\n",
       "</div>"
      ],
      "text/plain": [
       "                           order_id                       customer_id  \\\n",
       "0  e481f51cbdc54678b7cc49136f2d6af7  9ef432eb6251297304e76186b10a928d   \n",
       "1  53cdb2fc8bc7dce0b6741e2150273451  b0830fb4747a6c6d20dea0b8c802d7ef   \n",
       "2  47770eb9100c2d0c44946d9cf07ec65d  41ce2a54c0b03bf3443c3d931a367089   \n",
       "3  949d5b44dbf5de918fe9c16f97b45f8a  f88197465ea7920adcdbec7375364d82   \n",
       "4  ad21c59c0840e6cb83a9ceb5573f8159  8ab97904e6daea8866dbdbc4fb7aad2c   \n",
       "\n",
       "  order_status order_purchase_timestamp    order_approved_at  \\\n",
       "0    delivered      2017-10-02 10:56:33  2017-10-02 11:07:15   \n",
       "1    delivered      2018-07-24 20:41:37  2018-07-26 03:24:27   \n",
       "2    delivered      2018-08-08 08:38:49  2018-08-08 08:55:23   \n",
       "3    delivered      2017-11-18 19:28:06  2017-11-18 19:45:59   \n",
       "4    delivered      2018-02-13 21:18:39  2018-02-13 22:20:29   \n",
       "\n",
       "  order_delivered_carrier_date order_delivered_customer_date  \\\n",
       "0          2017-10-04 19:55:00           2017-10-10 21:25:13   \n",
       "1          2018-07-26 14:31:00           2018-08-07 15:27:45   \n",
       "2          2018-08-08 13:50:00           2018-08-17 18:06:29   \n",
       "3          2017-11-22 13:39:59           2017-12-02 00:28:42   \n",
       "4          2018-02-14 19:46:34           2018-02-16 18:17:02   \n",
       "\n",
       "  order_estimated_delivery_date  \n",
       "0           2017-10-18 00:00:00  \n",
       "1           2018-08-13 00:00:00  \n",
       "2           2018-09-04 00:00:00  \n",
       "3           2017-12-15 00:00:00  \n",
       "4           2018-02-26 00:00:00  "
      ]
     },
     "execution_count": 6,
     "metadata": {},
     "output_type": "execute_result"
    }
   ],
   "source": [
    "df_orders = pd.read_csv(\"https://raw.githubusercontent.com/Andresmup/recursos-analisis-datos/main/14_Datasets_Originales/ecommerce_orders_dataset.csv\")\n",
    "df_orders.head()"
   ]
  },
  {
   "cell_type": "code",
   "execution_count": 7,
   "id": "1e4f3605-88cd-4c65-bc32-49cf913b3bcd",
   "metadata": {},
   "outputs": [
    {
     "data": {
      "text/html": [
       "<div>\n",
       "<style scoped>\n",
       "    .dataframe tbody tr th:only-of-type {\n",
       "        vertical-align: middle;\n",
       "    }\n",
       "\n",
       "    .dataframe tbody tr th {\n",
       "        vertical-align: top;\n",
       "    }\n",
       "\n",
       "    .dataframe thead th {\n",
       "        text-align: right;\n",
       "    }\n",
       "</style>\n",
       "<table border=\"1\" class=\"dataframe\">\n",
       "  <thead>\n",
       "    <tr style=\"text-align: right;\">\n",
       "      <th></th>\n",
       "      <th>order_id</th>\n",
       "      <th>order_item_id</th>\n",
       "      <th>product_id</th>\n",
       "      <th>seller_id</th>\n",
       "      <th>shipping_limit_date</th>\n",
       "      <th>price</th>\n",
       "      <th>freight_value</th>\n",
       "    </tr>\n",
       "  </thead>\n",
       "  <tbody>\n",
       "    <tr>\n",
       "      <th>0</th>\n",
       "      <td>00010242fe8c5a6d1ba2dd792cb16214</td>\n",
       "      <td>1</td>\n",
       "      <td>4244733e06e7ecb4970a6e2683c13e61</td>\n",
       "      <td>48436dade18ac8b2bce089ec2a041202</td>\n",
       "      <td>2017-09-19 09:45:35</td>\n",
       "      <td>58.90</td>\n",
       "      <td>13.29</td>\n",
       "    </tr>\n",
       "    <tr>\n",
       "      <th>1</th>\n",
       "      <td>00018f77f2f0320c557190d7a144bdd3</td>\n",
       "      <td>1</td>\n",
       "      <td>e5f2d52b802189ee658865ca93d83a8f</td>\n",
       "      <td>dd7ddc04e1b6c2c614352b383efe2d36</td>\n",
       "      <td>2017-05-03 11:05:13</td>\n",
       "      <td>239.90</td>\n",
       "      <td>19.93</td>\n",
       "    </tr>\n",
       "    <tr>\n",
       "      <th>2</th>\n",
       "      <td>000229ec398224ef6ca0657da4fc703e</td>\n",
       "      <td>1</td>\n",
       "      <td>c777355d18b72b67abbeef9df44fd0fd</td>\n",
       "      <td>5b51032eddd242adc84c38acab88f23d</td>\n",
       "      <td>2018-01-18 14:48:30</td>\n",
       "      <td>199.00</td>\n",
       "      <td>17.87</td>\n",
       "    </tr>\n",
       "    <tr>\n",
       "      <th>3</th>\n",
       "      <td>00024acbcdf0a6daa1e931b038114c75</td>\n",
       "      <td>1</td>\n",
       "      <td>7634da152a4610f1595efa32f14722fc</td>\n",
       "      <td>9d7a1d34a5052409006425275ba1c2b4</td>\n",
       "      <td>2018-08-15 10:10:18</td>\n",
       "      <td>12.99</td>\n",
       "      <td>12.79</td>\n",
       "    </tr>\n",
       "    <tr>\n",
       "      <th>4</th>\n",
       "      <td>00042b26cf59d7ce69dfabb4e55b4fd9</td>\n",
       "      <td>1</td>\n",
       "      <td>ac6c3623068f30de03045865e4e10089</td>\n",
       "      <td>df560393f3a51e74553ab94004ba5c87</td>\n",
       "      <td>2017-02-13 13:57:51</td>\n",
       "      <td>199.90</td>\n",
       "      <td>18.14</td>\n",
       "    </tr>\n",
       "  </tbody>\n",
       "</table>\n",
       "</div>"
      ],
      "text/plain": [
       "                           order_id  order_item_id  \\\n",
       "0  00010242fe8c5a6d1ba2dd792cb16214              1   \n",
       "1  00018f77f2f0320c557190d7a144bdd3              1   \n",
       "2  000229ec398224ef6ca0657da4fc703e              1   \n",
       "3  00024acbcdf0a6daa1e931b038114c75              1   \n",
       "4  00042b26cf59d7ce69dfabb4e55b4fd9              1   \n",
       "\n",
       "                         product_id                         seller_id  \\\n",
       "0  4244733e06e7ecb4970a6e2683c13e61  48436dade18ac8b2bce089ec2a041202   \n",
       "1  e5f2d52b802189ee658865ca93d83a8f  dd7ddc04e1b6c2c614352b383efe2d36   \n",
       "2  c777355d18b72b67abbeef9df44fd0fd  5b51032eddd242adc84c38acab88f23d   \n",
       "3  7634da152a4610f1595efa32f14722fc  9d7a1d34a5052409006425275ba1c2b4   \n",
       "4  ac6c3623068f30de03045865e4e10089  df560393f3a51e74553ab94004ba5c87   \n",
       "\n",
       "   shipping_limit_date   price  freight_value  \n",
       "0  2017-09-19 09:45:35   58.90          13.29  \n",
       "1  2017-05-03 11:05:13  239.90          19.93  \n",
       "2  2018-01-18 14:48:30  199.00          17.87  \n",
       "3  2018-08-15 10:10:18   12.99          12.79  \n",
       "4  2017-02-13 13:57:51  199.90          18.14  "
      ]
     },
     "execution_count": 7,
     "metadata": {},
     "output_type": "execute_result"
    }
   ],
   "source": [
    "df_order_items = pd.read_csv(\"https://raw.githubusercontent.com/Andresmup/recursos-analisis-datos/main/14_Datasets_Originales/ecommerce_order_items_dataset.csv\")\n",
    "df_order_items.head()"
   ]
  },
  {
   "cell_type": "code",
   "execution_count": 8,
   "id": "2ad17154-abee-4ada-982e-f766cb0e5fad",
   "metadata": {},
   "outputs": [
    {
     "data": {
      "text/html": [
       "<div>\n",
       "<style scoped>\n",
       "    .dataframe tbody tr th:only-of-type {\n",
       "        vertical-align: middle;\n",
       "    }\n",
       "\n",
       "    .dataframe tbody tr th {\n",
       "        vertical-align: top;\n",
       "    }\n",
       "\n",
       "    .dataframe thead th {\n",
       "        text-align: right;\n",
       "    }\n",
       "</style>\n",
       "<table border=\"1\" class=\"dataframe\">\n",
       "  <thead>\n",
       "    <tr style=\"text-align: right;\">\n",
       "      <th></th>\n",
       "      <th>product_id</th>\n",
       "      <th>product_category_name</th>\n",
       "      <th>product_name_lenght</th>\n",
       "      <th>product_description_lenght</th>\n",
       "      <th>product_photos_qty</th>\n",
       "      <th>product_weight_g</th>\n",
       "      <th>product_length_cm</th>\n",
       "      <th>product_height_cm</th>\n",
       "      <th>product_width_cm</th>\n",
       "    </tr>\n",
       "  </thead>\n",
       "  <tbody>\n",
       "    <tr>\n",
       "      <th>0</th>\n",
       "      <td>1e9e8ef04dbcff4541ed26657ea517e5</td>\n",
       "      <td>perfumaria</td>\n",
       "      <td>40.0</td>\n",
       "      <td>287.0</td>\n",
       "      <td>1.0</td>\n",
       "      <td>225.0</td>\n",
       "      <td>16.0</td>\n",
       "      <td>10.0</td>\n",
       "      <td>14.0</td>\n",
       "    </tr>\n",
       "    <tr>\n",
       "      <th>1</th>\n",
       "      <td>3aa071139cb16b67ca9e5dea641aaa2f</td>\n",
       "      <td>artes</td>\n",
       "      <td>44.0</td>\n",
       "      <td>276.0</td>\n",
       "      <td>1.0</td>\n",
       "      <td>1000.0</td>\n",
       "      <td>30.0</td>\n",
       "      <td>18.0</td>\n",
       "      <td>20.0</td>\n",
       "    </tr>\n",
       "    <tr>\n",
       "      <th>2</th>\n",
       "      <td>96bd76ec8810374ed1b65e291975717f</td>\n",
       "      <td>esporte_lazer</td>\n",
       "      <td>46.0</td>\n",
       "      <td>250.0</td>\n",
       "      <td>1.0</td>\n",
       "      <td>154.0</td>\n",
       "      <td>18.0</td>\n",
       "      <td>9.0</td>\n",
       "      <td>15.0</td>\n",
       "    </tr>\n",
       "    <tr>\n",
       "      <th>3</th>\n",
       "      <td>cef67bcfe19066a932b7673e239eb23d</td>\n",
       "      <td>bebes</td>\n",
       "      <td>27.0</td>\n",
       "      <td>261.0</td>\n",
       "      <td>1.0</td>\n",
       "      <td>371.0</td>\n",
       "      <td>26.0</td>\n",
       "      <td>4.0</td>\n",
       "      <td>26.0</td>\n",
       "    </tr>\n",
       "    <tr>\n",
       "      <th>4</th>\n",
       "      <td>9dc1a7de274444849c219cff195d0b71</td>\n",
       "      <td>utilidades_domesticas</td>\n",
       "      <td>37.0</td>\n",
       "      <td>402.0</td>\n",
       "      <td>4.0</td>\n",
       "      <td>625.0</td>\n",
       "      <td>20.0</td>\n",
       "      <td>17.0</td>\n",
       "      <td>13.0</td>\n",
       "    </tr>\n",
       "  </tbody>\n",
       "</table>\n",
       "</div>"
      ],
      "text/plain": [
       "                         product_id  product_category_name  \\\n",
       "0  1e9e8ef04dbcff4541ed26657ea517e5             perfumaria   \n",
       "1  3aa071139cb16b67ca9e5dea641aaa2f                  artes   \n",
       "2  96bd76ec8810374ed1b65e291975717f          esporte_lazer   \n",
       "3  cef67bcfe19066a932b7673e239eb23d                  bebes   \n",
       "4  9dc1a7de274444849c219cff195d0b71  utilidades_domesticas   \n",
       "\n",
       "   product_name_lenght  product_description_lenght  product_photos_qty  \\\n",
       "0                 40.0                       287.0                 1.0   \n",
       "1                 44.0                       276.0                 1.0   \n",
       "2                 46.0                       250.0                 1.0   \n",
       "3                 27.0                       261.0                 1.0   \n",
       "4                 37.0                       402.0                 4.0   \n",
       "\n",
       "   product_weight_g  product_length_cm  product_height_cm  product_width_cm  \n",
       "0             225.0               16.0               10.0              14.0  \n",
       "1            1000.0               30.0               18.0              20.0  \n",
       "2             154.0               18.0                9.0              15.0  \n",
       "3             371.0               26.0                4.0              26.0  \n",
       "4             625.0               20.0               17.0              13.0  "
      ]
     },
     "execution_count": 8,
     "metadata": {},
     "output_type": "execute_result"
    }
   ],
   "source": [
    "df_products = pd.read_csv(\"https://raw.githubusercontent.com/Andresmup/recursos-analisis-datos/main/14_Datasets_Originales/ecommerce_products_dataset.csv\")\n",
    "df_products.head()"
   ]
  },
  {
   "cell_type": "code",
   "execution_count": 9,
   "id": "cf010ca8-9be9-4987-92fd-69061077d322",
   "metadata": {},
   "outputs": [
    {
     "data": {
      "text/html": [
       "<div>\n",
       "<style scoped>\n",
       "    .dataframe tbody tr th:only-of-type {\n",
       "        vertical-align: middle;\n",
       "    }\n",
       "\n",
       "    .dataframe tbody tr th {\n",
       "        vertical-align: top;\n",
       "    }\n",
       "\n",
       "    .dataframe thead th {\n",
       "        text-align: right;\n",
       "    }\n",
       "</style>\n",
       "<table border=\"1\" class=\"dataframe\">\n",
       "  <thead>\n",
       "    <tr style=\"text-align: right;\">\n",
       "      <th></th>\n",
       "      <th>customer_id</th>\n",
       "      <th>customer_unique_id</th>\n",
       "      <th>customer_zip_code_prefix</th>\n",
       "      <th>customer_city</th>\n",
       "      <th>customer_state</th>\n",
       "    </tr>\n",
       "  </thead>\n",
       "  <tbody>\n",
       "    <tr>\n",
       "      <th>0</th>\n",
       "      <td>06b8999e2fba1a1fbc88172c00ba8bc7</td>\n",
       "      <td>861eff4711a542e4b93843c6dd7febb0</td>\n",
       "      <td>14409</td>\n",
       "      <td>franca</td>\n",
       "      <td>SP</td>\n",
       "    </tr>\n",
       "    <tr>\n",
       "      <th>1</th>\n",
       "      <td>18955e83d337fd6b2def6b18a428ac77</td>\n",
       "      <td>290c77bc529b7ac935b93aa66c333dc3</td>\n",
       "      <td>9790</td>\n",
       "      <td>sao bernardo do campo</td>\n",
       "      <td>SP</td>\n",
       "    </tr>\n",
       "    <tr>\n",
       "      <th>2</th>\n",
       "      <td>4e7b3e00288586ebd08712fdd0374a03</td>\n",
       "      <td>060e732b5b29e8181a18229c7b0b2b5e</td>\n",
       "      <td>1151</td>\n",
       "      <td>sao paulo</td>\n",
       "      <td>SP</td>\n",
       "    </tr>\n",
       "    <tr>\n",
       "      <th>3</th>\n",
       "      <td>b2b6027bc5c5109e529d4dc6358b12c3</td>\n",
       "      <td>259dac757896d24d7702b9acbbff3f3c</td>\n",
       "      <td>8775</td>\n",
       "      <td>mogi das cruzes</td>\n",
       "      <td>SP</td>\n",
       "    </tr>\n",
       "    <tr>\n",
       "      <th>4</th>\n",
       "      <td>4f2d8ab171c80ec8364f7c12e35b23ad</td>\n",
       "      <td>345ecd01c38d18a9036ed96c73b8d066</td>\n",
       "      <td>13056</td>\n",
       "      <td>campinas</td>\n",
       "      <td>SP</td>\n",
       "    </tr>\n",
       "  </tbody>\n",
       "</table>\n",
       "</div>"
      ],
      "text/plain": [
       "                        customer_id                customer_unique_id  \\\n",
       "0  06b8999e2fba1a1fbc88172c00ba8bc7  861eff4711a542e4b93843c6dd7febb0   \n",
       "1  18955e83d337fd6b2def6b18a428ac77  290c77bc529b7ac935b93aa66c333dc3   \n",
       "2  4e7b3e00288586ebd08712fdd0374a03  060e732b5b29e8181a18229c7b0b2b5e   \n",
       "3  b2b6027bc5c5109e529d4dc6358b12c3  259dac757896d24d7702b9acbbff3f3c   \n",
       "4  4f2d8ab171c80ec8364f7c12e35b23ad  345ecd01c38d18a9036ed96c73b8d066   \n",
       "\n",
       "   customer_zip_code_prefix          customer_city customer_state  \n",
       "0                     14409                 franca             SP  \n",
       "1                      9790  sao bernardo do campo             SP  \n",
       "2                      1151              sao paulo             SP  \n",
       "3                      8775        mogi das cruzes             SP  \n",
       "4                     13056               campinas             SP  "
      ]
     },
     "execution_count": 9,
     "metadata": {},
     "output_type": "execute_result"
    }
   ],
   "source": [
    "df_customers = pd.read_csv(\"https://raw.githubusercontent.com/Andresmup/recursos-analisis-datos/main/14_Datasets_Originales/ecommerce_customers_dataset.csv\")\n",
    "df_customers.head()"
   ]
  },
  {
   "cell_type": "code",
   "execution_count": 10,
   "id": "230f7b25-8393-4bc8-a5a6-426fff91c69f",
   "metadata": {},
   "outputs": [
    {
     "data": {
      "text/html": [
       "<div>\n",
       "<style scoped>\n",
       "    .dataframe tbody tr th:only-of-type {\n",
       "        vertical-align: middle;\n",
       "    }\n",
       "\n",
       "    .dataframe tbody tr th {\n",
       "        vertical-align: top;\n",
       "    }\n",
       "\n",
       "    .dataframe thead th {\n",
       "        text-align: right;\n",
       "    }\n",
       "</style>\n",
       "<table border=\"1\" class=\"dataframe\">\n",
       "  <thead>\n",
       "    <tr style=\"text-align: right;\">\n",
       "      <th></th>\n",
       "      <th>order_id</th>\n",
       "      <th>payment_sequential</th>\n",
       "      <th>payment_type</th>\n",
       "      <th>payment_installments</th>\n",
       "      <th>payment_value</th>\n",
       "    </tr>\n",
       "  </thead>\n",
       "  <tbody>\n",
       "    <tr>\n",
       "      <th>0</th>\n",
       "      <td>b81ef226f3fe1789b1e8b2acac839d17</td>\n",
       "      <td>1</td>\n",
       "      <td>credit_card</td>\n",
       "      <td>8</td>\n",
       "      <td>99.33</td>\n",
       "    </tr>\n",
       "    <tr>\n",
       "      <th>1</th>\n",
       "      <td>a9810da82917af2d9aefd1278f1dcfa0</td>\n",
       "      <td>1</td>\n",
       "      <td>credit_card</td>\n",
       "      <td>1</td>\n",
       "      <td>24.39</td>\n",
       "    </tr>\n",
       "    <tr>\n",
       "      <th>2</th>\n",
       "      <td>25e8ea4e93396b6fa0d3dd708e76c1bd</td>\n",
       "      <td>1</td>\n",
       "      <td>credit_card</td>\n",
       "      <td>1</td>\n",
       "      <td>65.71</td>\n",
       "    </tr>\n",
       "    <tr>\n",
       "      <th>3</th>\n",
       "      <td>ba78997921bbcdc1373bb41e913ab953</td>\n",
       "      <td>1</td>\n",
       "      <td>credit_card</td>\n",
       "      <td>8</td>\n",
       "      <td>107.78</td>\n",
       "    </tr>\n",
       "    <tr>\n",
       "      <th>4</th>\n",
       "      <td>42fdf880ba16b47b59251dd489d4441a</td>\n",
       "      <td>1</td>\n",
       "      <td>credit_card</td>\n",
       "      <td>2</td>\n",
       "      <td>128.45</td>\n",
       "    </tr>\n",
       "  </tbody>\n",
       "</table>\n",
       "</div>"
      ],
      "text/plain": [
       "                           order_id  payment_sequential payment_type  \\\n",
       "0  b81ef226f3fe1789b1e8b2acac839d17                   1  credit_card   \n",
       "1  a9810da82917af2d9aefd1278f1dcfa0                   1  credit_card   \n",
       "2  25e8ea4e93396b6fa0d3dd708e76c1bd                   1  credit_card   \n",
       "3  ba78997921bbcdc1373bb41e913ab953                   1  credit_card   \n",
       "4  42fdf880ba16b47b59251dd489d4441a                   1  credit_card   \n",
       "\n",
       "   payment_installments  payment_value  \n",
       "0                     8          99.33  \n",
       "1                     1          24.39  \n",
       "2                     1          65.71  \n",
       "3                     8         107.78  \n",
       "4                     2         128.45  "
      ]
     },
     "execution_count": 10,
     "metadata": {},
     "output_type": "execute_result"
    }
   ],
   "source": [
    "df_order_payments = pd.read_csv(\"https://raw.githubusercontent.com/Andresmup/recursos-analisis-datos/main/14_Datasets_Originales/ecommerce_order_payments_dataset.csv\")\n",
    "df_order_payments.head()"
   ]
  },
  {
   "cell_type": "code",
   "execution_count": 11,
   "id": "74835685-588f-4535-bc71-678f1d889ac4",
   "metadata": {},
   "outputs": [],
   "source": [
    "# defino funcion para saber como se compone cada uno de los dataFrame a analizar\n",
    "def datosDataFrame(df):\n",
    "    print(\"--------------------------------------------------\")\n",
    "    print(\"Tamaño del DataFrame:\")\n",
    "    print(df.shape)\n",
    "    print(\"--------------------------------------------------\")\n",
    "    # Guardo el resultado de df.info() en una variable antes de imprimirlo, para evitar que imprima None.\n",
    "    print(\"Análisis de tipo de datos:\")\n",
    "    df_info = df.info()\n",
    "    print(\"--------------------------------------------------\")\n",
    "    print(\"Recuento de nulos:\")\n",
    "    print(df.isnull().sum())\n",
    "    print(\"--------------------------------------------------\")\n",
    "    print(\"Recuento de duplicados:\")\n",
    "    print(df.duplicated().sum())\n",
    "    print(\"--------------------------------------------------\")\n"
   ]
  },
  {
   "cell_type": "markdown",
   "id": "d1d929cd-76c2-4fbe-8f63-45b799eacc37",
   "metadata": {},
   "source": [
    "una vez realizada mi funcion comienzo a ver como se componen cada uno de mis DataFrame"
   ]
  },
  {
   "cell_type": "code",
   "execution_count": 12,
   "id": "add1dbab-ee17-4c8c-a8b8-6fa3b3c8fff1",
   "metadata": {},
   "outputs": [
    {
     "name": "stdout",
     "output_type": "stream",
     "text": [
      "--------------------------------------------------\n",
      "Tamaño del DataFrame:\n",
      "(99441, 8)\n",
      "--------------------------------------------------\n",
      "Análisis de tipo de datos:\n",
      "<class 'pandas.core.frame.DataFrame'>\n",
      "RangeIndex: 99441 entries, 0 to 99440\n",
      "Data columns (total 8 columns):\n",
      " #   Column                         Non-Null Count  Dtype \n",
      "---  ------                         --------------  ----- \n",
      " 0   order_id                       99441 non-null  object\n",
      " 1   customer_id                    99441 non-null  object\n",
      " 2   order_status                   99441 non-null  object\n",
      " 3   order_purchase_timestamp       99441 non-null  object\n",
      " 4   order_approved_at              99281 non-null  object\n",
      " 5   order_delivered_carrier_date   97658 non-null  object\n",
      " 6   order_delivered_customer_date  96476 non-null  object\n",
      " 7   order_estimated_delivery_date  99441 non-null  object\n",
      "dtypes: object(8)\n",
      "memory usage: 6.1+ MB\n",
      "--------------------------------------------------\n",
      "Recuento de nulos:\n",
      "order_id                            0\n",
      "customer_id                         0\n",
      "order_status                        0\n",
      "order_purchase_timestamp            0\n",
      "order_approved_at                 160\n",
      "order_delivered_carrier_date     1783\n",
      "order_delivered_customer_date    2965\n",
      "order_estimated_delivery_date       0\n",
      "dtype: int64\n",
      "--------------------------------------------------\n",
      "Recuento de duplicados:\n",
      "0\n",
      "--------------------------------------------------\n"
     ]
    }
   ],
   "source": [
    "datosDataFrame(df_orders)"
   ]
  },
  {
   "cell_type": "code",
   "execution_count": 13,
   "id": "c6660039-81ec-4587-827b-db71324cbbad",
   "metadata": {},
   "outputs": [
    {
     "name": "stdout",
     "output_type": "stream",
     "text": [
      "--------------------------------------------------\n",
      "Tamaño del DataFrame:\n",
      "(112650, 7)\n",
      "--------------------------------------------------\n",
      "Análisis de tipo de datos:\n",
      "<class 'pandas.core.frame.DataFrame'>\n",
      "RangeIndex: 112650 entries, 0 to 112649\n",
      "Data columns (total 7 columns):\n",
      " #   Column               Non-Null Count   Dtype  \n",
      "---  ------               --------------   -----  \n",
      " 0   order_id             112650 non-null  object \n",
      " 1   order_item_id        112650 non-null  int64  \n",
      " 2   product_id           112650 non-null  object \n",
      " 3   seller_id            112650 non-null  object \n",
      " 4   shipping_limit_date  112650 non-null  object \n",
      " 5   price                112650 non-null  float64\n",
      " 6   freight_value        112650 non-null  float64\n",
      "dtypes: float64(2), int64(1), object(4)\n",
      "memory usage: 6.0+ MB\n",
      "--------------------------------------------------\n",
      "Recuento de nulos:\n",
      "order_id               0\n",
      "order_item_id          0\n",
      "product_id             0\n",
      "seller_id              0\n",
      "shipping_limit_date    0\n",
      "price                  0\n",
      "freight_value          0\n",
      "dtype: int64\n",
      "--------------------------------------------------\n",
      "Recuento de duplicados:\n",
      "0\n",
      "--------------------------------------------------\n"
     ]
    }
   ],
   "source": [
    "datosDataFrame(df_order_items)"
   ]
  },
  {
   "cell_type": "code",
   "execution_count": 14,
   "id": "21a8b6db-4a6d-4cb5-93ac-2ef81f332181",
   "metadata": {},
   "outputs": [
    {
     "name": "stdout",
     "output_type": "stream",
     "text": [
      "--------------------------------------------------\n",
      "Tamaño del DataFrame:\n",
      "(32951, 9)\n",
      "--------------------------------------------------\n",
      "Análisis de tipo de datos:\n",
      "<class 'pandas.core.frame.DataFrame'>\n",
      "RangeIndex: 32951 entries, 0 to 32950\n",
      "Data columns (total 9 columns):\n",
      " #   Column                      Non-Null Count  Dtype  \n",
      "---  ------                      --------------  -----  \n",
      " 0   product_id                  32951 non-null  object \n",
      " 1   product_category_name       32341 non-null  object \n",
      " 2   product_name_lenght         32341 non-null  float64\n",
      " 3   product_description_lenght  32341 non-null  float64\n",
      " 4   product_photos_qty          32341 non-null  float64\n",
      " 5   product_weight_g            32949 non-null  float64\n",
      " 6   product_length_cm           32949 non-null  float64\n",
      " 7   product_height_cm           32949 non-null  float64\n",
      " 8   product_width_cm            32949 non-null  float64\n",
      "dtypes: float64(7), object(2)\n",
      "memory usage: 2.3+ MB\n",
      "--------------------------------------------------\n",
      "Recuento de nulos:\n",
      "product_id                      0\n",
      "product_category_name         610\n",
      "product_name_lenght           610\n",
      "product_description_lenght    610\n",
      "product_photos_qty            610\n",
      "product_weight_g                2\n",
      "product_length_cm               2\n",
      "product_height_cm               2\n",
      "product_width_cm                2\n",
      "dtype: int64\n",
      "--------------------------------------------------\n",
      "Recuento de duplicados:\n",
      "0\n",
      "--------------------------------------------------\n"
     ]
    }
   ],
   "source": [
    "datosDataFrame(df_products)"
   ]
  },
  {
   "cell_type": "code",
   "execution_count": 15,
   "id": "10b1f628-72af-4cb0-a983-3bc1a4eebea3",
   "metadata": {},
   "outputs": [
    {
     "name": "stdout",
     "output_type": "stream",
     "text": [
      "--------------------------------------------------\n",
      "Tamaño del DataFrame:\n",
      "(99441, 5)\n",
      "--------------------------------------------------\n",
      "Análisis de tipo de datos:\n",
      "<class 'pandas.core.frame.DataFrame'>\n",
      "RangeIndex: 99441 entries, 0 to 99440\n",
      "Data columns (total 5 columns):\n",
      " #   Column                    Non-Null Count  Dtype \n",
      "---  ------                    --------------  ----- \n",
      " 0   customer_id               99441 non-null  object\n",
      " 1   customer_unique_id        99441 non-null  object\n",
      " 2   customer_zip_code_prefix  99441 non-null  int64 \n",
      " 3   customer_city             99441 non-null  object\n",
      " 4   customer_state            99441 non-null  object\n",
      "dtypes: int64(1), object(4)\n",
      "memory usage: 3.8+ MB\n",
      "--------------------------------------------------\n",
      "Recuento de nulos:\n",
      "customer_id                 0\n",
      "customer_unique_id          0\n",
      "customer_zip_code_prefix    0\n",
      "customer_city               0\n",
      "customer_state              0\n",
      "dtype: int64\n",
      "--------------------------------------------------\n",
      "Recuento de duplicados:\n",
      "0\n",
      "--------------------------------------------------\n"
     ]
    }
   ],
   "source": [
    "datosDataFrame(df_customers)"
   ]
  },
  {
   "cell_type": "code",
   "execution_count": 16,
   "id": "ab8ccad3-4193-43ac-a89b-783b25fbbc23",
   "metadata": {},
   "outputs": [
    {
     "name": "stdout",
     "output_type": "stream",
     "text": [
      "--------------------------------------------------\n",
      "Tamaño del DataFrame:\n",
      "(103886, 5)\n",
      "--------------------------------------------------\n",
      "Análisis de tipo de datos:\n",
      "<class 'pandas.core.frame.DataFrame'>\n",
      "RangeIndex: 103886 entries, 0 to 103885\n",
      "Data columns (total 5 columns):\n",
      " #   Column                Non-Null Count   Dtype  \n",
      "---  ------                --------------   -----  \n",
      " 0   order_id              103886 non-null  object \n",
      " 1   payment_sequential    103886 non-null  int64  \n",
      " 2   payment_type          103886 non-null  object \n",
      " 3   payment_installments  103886 non-null  int64  \n",
      " 4   payment_value         103886 non-null  float64\n",
      "dtypes: float64(1), int64(2), object(2)\n",
      "memory usage: 4.0+ MB\n",
      "--------------------------------------------------\n",
      "Recuento de nulos:\n",
      "order_id                0\n",
      "payment_sequential      0\n",
      "payment_type            0\n",
      "payment_installments    0\n",
      "payment_value           0\n",
      "dtype: int64\n",
      "--------------------------------------------------\n",
      "Recuento de duplicados:\n",
      "0\n",
      "--------------------------------------------------\n"
     ]
    }
   ],
   "source": [
    "datosDataFrame(df_order_payments)"
   ]
  },
  {
   "cell_type": "markdown",
   "id": "89e9cd7b-db17-43c1-81fd-fbc110b05d88",
   "metadata": {},
   "source": [
    "TRANSFORMACION DATAFRAMES\n",
    "Para asegurar que nuestro analisis no tenga problemas a futuro es importante transformar los tipos de datos, ademas de asegurarse que los datos sean homogeneos.\n",
    "\n",
    "En aquellos dataframe que hay nulos si la proporcion de nulos no es muy grande es factible eliminar dichas filas."
   ]
  },
  {
   "cell_type": "markdown",
   "id": "1c8511e0-b112-4bc1-9bc7-dc5c5c3c11f0",
   "metadata": {},
   "source": [
    "Funcion transformarFechas"
   ]
  },
  {
   "cell_type": "code",
   "execution_count": 17,
   "id": "4ddaa6c1-421d-4c4b-a4ce-dddddbbded18",
   "metadata": {},
   "outputs": [],
   "source": [
    "#Definimos nuestra función transformarFechas\n",
    "def transformarFechas(df, columnas_fechas): #Los parametros son el dataframe y la lista con las columnas a transformar\n",
    "    df[columnas_fechas] = df[columnas_fechas].apply(pd.to_datetime) #Transforma las columnas de columnas_fechas a datetime\n",
    "    return df\n",
    "     "
   ]
  },
  {
   "cell_type": "markdown",
   "id": "ceef1b03-0a6c-407b-a482-9b890022cf28",
   "metadata": {},
   "source": [
    "Funcion transformarString"
   ]
  },
  {
   "cell_type": "code",
   "execution_count": 18,
   "id": "79ac1ac2-ac14-47b1-abf7-71a520237c9f",
   "metadata": {},
   "outputs": [],
   "source": [
    "#Definimos nuestra función transformarString\n",
    "def transformarString(df, columnas_string): #Los parametros son el dataframe y la lista con las columnas a transformar\n",
    "    for columna in columnas_string: #Transforma las columnas en columnas_string a string\n",
    "        df[columna] = df[columna].astype(\"string\")\n",
    "    return df"
   ]
  },
  {
   "cell_type": "markdown",
   "id": "21603c68-453a-4f3f-97f7-1069e4314603",
   "metadata": {},
   "source": [
    "Funcion convertirMayusculas"
   ]
  },
  {
   "cell_type": "code",
   "execution_count": 19,
   "id": "ea4289eb-4fb3-4e10-9597-e96221b2e972",
   "metadata": {},
   "outputs": [],
   "source": [
    "#Definimos nuestra función convertirMayusculas\n",
    "def convertirMayusculas(df, columna): #Los parametros son el dataframe y la lista con las columna a transformar\n",
    "    df[columna] = df[columna].str.upper() # Convertir todos los valores de la columna a mayusculas\n",
    "    return df"
   ]
  },
  {
   "cell_type": "markdown",
   "id": "7df2638d-1ef1-4b31-ab7e-cd0595d4bef3",
   "metadata": {},
   "source": [
    "Funcion convertirMinusculas"
   ]
  },
  {
   "cell_type": "code",
   "execution_count": 20,
   "id": "9db2c52b-dfb5-4322-9663-a3e100576263",
   "metadata": {},
   "outputs": [],
   "source": [
    "#Definimos nuestra funcion convertirMinusculas\n",
    "def convertirMinusculas(df, columna): #Los parametros son el dataframe y la lista con las columna a transformar\n",
    "    df[columna] = df[columna].str.lower() # Convertir todos los valores de la columna a minúsculas\n",
    "    return df"
   ]
  },
  {
   "cell_type": "markdown",
   "id": "c340afff-8500-482b-b6b3-6980b101c859",
   "metadata": {},
   "source": [
    "Orders"
   ]
  },
  {
   "cell_type": "code",
   "execution_count": 21,
   "id": "de5fcefc-2646-4c2f-9f93-bb5efa46ea87",
   "metadata": {},
   "outputs": [
    {
     "name": "stdout",
     "output_type": "stream",
     "text": [
      "order_id                         0.000000\n",
      "customer_id                      0.000000\n",
      "order_status                     0.000000\n",
      "order_purchase_timestamp         0.000000\n",
      "order_approved_at                0.160899\n",
      "order_delivered_carrier_date     1.793023\n",
      "order_delivered_customer_date    2.981668\n",
      "order_estimated_delivery_date    0.000000\n",
      "dtype: float64\n"
     ]
    }
   ],
   "source": [
    "# Porcentaje de nulos en cada columna\n",
    "null_percentages_orders = (df_orders.isnull().sum() / len(df_orders)) * 100\n",
    "\n",
    "#Veamos cual es el % de nulos\n",
    "print(null_percentages_orders)\n",
    "     "
   ]
  },
  {
   "cell_type": "code",
   "execution_count": 22,
   "id": "70041540-b9f8-4994-a84c-f7db65fbf24c",
   "metadata": {},
   "outputs": [
    {
     "data": {
      "text/plain": [
       "order_id                         0\n",
       "customer_id                      0\n",
       "order_status                     0\n",
       "order_purchase_timestamp         0\n",
       "order_approved_at                0\n",
       "order_delivered_carrier_date     0\n",
       "order_delivered_customer_date    0\n",
       "order_estimated_delivery_date    0\n",
       "dtype: int64"
      ]
     },
     "execution_count": 22,
     "metadata": {},
     "output_type": "execute_result"
    }
   ],
   "source": [
    "# Filtramos las columnas con menos del 10% de valores nulos\n",
    "columns_to_keep_orders = null_percentages_orders[null_percentages_orders <= 10].index\n",
    "\n",
    "# Eliminamos las filas con nulos solo en las columnas seleccionadas\n",
    "df_orders.dropna(subset=columns_to_keep_orders, inplace=True)\n",
    "\n",
    "#Chequeo cantidad de null\n",
    "df_orders.isnull().sum()"
   ]
  },
  {
   "cell_type": "code",
   "execution_count": 23,
   "id": "38815e19-adc6-4b7e-95cf-e6de6724c22b",
   "metadata": {},
   "outputs": [],
   "source": [
    "# Lista de columnas que contienen fechas\n",
    "columnas_fechas_orders = ['order_purchase_timestamp', 'order_approved_at',\n",
    "                          'order_delivered_carrier_date', 'order_delivered_customer_date',\n",
    "                          'order_estimated_delivery_date']\n",
    "\n",
    "#Aplicamos nuestra funcion conversora de fechas\n",
    "df_orders = transformarFechas(df_orders, columnas_fechas_orders)"
   ]
  },
  {
   "cell_type": "code",
   "execution_count": 24,
   "id": "d43726af-4f2f-46b4-b281-11254e6db20d",
   "metadata": {},
   "outputs": [],
   "source": [
    "# Lista de columnas a transfomar en string\n",
    "columnas_string_orders = [\"order_id\",\"customer_id\",\"order_status\"]\n",
    "\n",
    "#Aplicamos nuestra funcion conversora de string\n",
    "df_orders = transformarString(df_orders, columnas_string_orders)"
   ]
  },
  {
   "cell_type": "code",
   "execution_count": 25,
   "id": "b33d195a-fa23-4544-a973-a0cf05dc9068",
   "metadata": {},
   "outputs": [
    {
     "name": "stdout",
     "output_type": "stream",
     "text": [
      "<class 'pandas.core.frame.DataFrame'>\n",
      "Index: 96461 entries, 0 to 99440\n",
      "Data columns (total 8 columns):\n",
      " #   Column                         Non-Null Count  Dtype         \n",
      "---  ------                         --------------  -----         \n",
      " 0   order_id                       96461 non-null  string        \n",
      " 1   customer_id                    96461 non-null  string        \n",
      " 2   order_status                   96461 non-null  string        \n",
      " 3   order_purchase_timestamp       96461 non-null  datetime64[ns]\n",
      " 4   order_approved_at              96461 non-null  datetime64[ns]\n",
      " 5   order_delivered_carrier_date   96461 non-null  datetime64[ns]\n",
      " 6   order_delivered_customer_date  96461 non-null  datetime64[ns]\n",
      " 7   order_estimated_delivery_date  96461 non-null  datetime64[ns]\n",
      "dtypes: datetime64[ns](5), string(3)\n",
      "memory usage: 6.6 MB\n"
     ]
    }
   ],
   "source": [
    "#Revisamos que los tipos de datos sean correctos\n",
    "df_orders.info()"
   ]
  },
  {
   "cell_type": "code",
   "execution_count": 26,
   "id": "42d491e7-b4e2-4bde-90cd-0ea8d60823d7",
   "metadata": {},
   "outputs": [],
   "source": [
    "#Aplicamos la conversion a minusculas\n",
    "df_orders = convertirMinusculas(df_orders, \"order_status\")"
   ]
  },
  {
   "cell_type": "markdown",
   "id": "aac6e867-04be-4525-9ffe-028e913bc0a5",
   "metadata": {},
   "source": [
    "Order items"
   ]
  },
  {
   "cell_type": "code",
   "execution_count": 27,
   "id": "53dc5636-db54-414d-b965-3434a2daf85f",
   "metadata": {},
   "outputs": [],
   "source": [
    "# Lista de columnas que contienen fechas\n",
    "columnas_fechas_order_items = ['shipping_limit_date']\n",
    "\n",
    "#Aplicamos nuestra funcion conversora de fechas\n",
    "df_order_items = transformarFechas(df_order_items, columnas_fechas_order_items)"
   ]
  },
  {
   "cell_type": "code",
   "execution_count": 28,
   "id": "18116a9a-24a7-42bb-8788-84ea2612799f",
   "metadata": {},
   "outputs": [],
   "source": [
    "# Lista de columnas a transfomar en string\n",
    "columnas_string_order_items = [\"order_id\",\"order_item_id\",\"product_id\",\"seller_id\"]\n",
    "\n",
    "#Aplicamos nuestra funcion conversora de string\n",
    "df_order_items = transformarString(df_order_items, columnas_string_order_items)"
   ]
  },
  {
   "cell_type": "markdown",
   "id": "0d4637f7-4460-42f3-aa91-c3058726db3d",
   "metadata": {},
   "source": [
    "Products"
   ]
  },
  {
   "cell_type": "code",
   "execution_count": 29,
   "id": "326a4351-e515-453a-9bda-57e663b52c02",
   "metadata": {},
   "outputs": [
    {
     "name": "stdout",
     "output_type": "stream",
     "text": [
      "product_id                    0.000000\n",
      "product_category_name         1.851234\n",
      "product_name_lenght           1.851234\n",
      "product_description_lenght    1.851234\n",
      "product_photos_qty            1.851234\n",
      "product_weight_g              0.006070\n",
      "product_length_cm             0.006070\n",
      "product_height_cm             0.006070\n",
      "product_width_cm              0.006070\n",
      "dtype: float64\n"
     ]
    }
   ],
   "source": [
    "# Porcentaje de nulos en cada columna\n",
    "null_percentages_products = (df_products.isnull().sum() / len(df_products)) * 100\n",
    "\n",
    "print(null_percentages_products)"
   ]
  },
  {
   "cell_type": "code",
   "execution_count": 30,
   "id": "eccef6ef-6464-4a64-a3c4-de53241a8dc3",
   "metadata": {},
   "outputs": [
    {
     "data": {
      "text/plain": [
       "product_id                    0\n",
       "product_category_name         0\n",
       "product_name_lenght           0\n",
       "product_description_lenght    0\n",
       "product_photos_qty            0\n",
       "product_weight_g              0\n",
       "product_length_cm             0\n",
       "product_height_cm             0\n",
       "product_width_cm              0\n",
       "dtype: int64"
      ]
     },
     "execution_count": 30,
     "metadata": {},
     "output_type": "execute_result"
    }
   ],
   "source": [
    "# Filtramos las columnas con menos del 10% de valores nulos\n",
    "columns_to_keep_products = null_percentages_products[null_percentages_products <= 10].index\n",
    "\n",
    "# Eliminamos las filas con nulos solo en las columnas seleccionadas\n",
    "df_products.dropna(subset=columns_to_keep_products, inplace=True)\n",
    "\n",
    "#Chequeo cantidad de null\n",
    "df_products.isnull().sum()"
   ]
  },
  {
   "cell_type": "code",
   "execution_count": 31,
   "id": "b9bb1805-69a4-4dcb-b34f-2472ba2a07a3",
   "metadata": {},
   "outputs": [],
   "source": [
    "# Lista de columnas a transfomar en string\n",
    "columnas_string_products = [\"product_id\",\"product_category_name\"]\n",
    "\n",
    "#Aplicamos nuestra funcion conversora de string\n",
    "df_products = transformarString(df_products, columnas_string_products)"
   ]
  },
  {
   "cell_type": "code",
   "execution_count": 32,
   "id": "340936f1-7448-4eee-b2a9-336228c0dce3",
   "metadata": {},
   "outputs": [
    {
     "name": "stdout",
     "output_type": "stream",
     "text": [
      "<class 'pandas.core.frame.DataFrame'>\n",
      "Index: 32340 entries, 0 to 32950\n",
      "Data columns (total 9 columns):\n",
      " #   Column                      Non-Null Count  Dtype  \n",
      "---  ------                      --------------  -----  \n",
      " 0   product_id                  32340 non-null  string \n",
      " 1   product_category_name       32340 non-null  string \n",
      " 2   product_name_lenght         32340 non-null  float64\n",
      " 3   product_description_lenght  32340 non-null  float64\n",
      " 4   product_photos_qty          32340 non-null  float64\n",
      " 5   product_weight_g            32340 non-null  float64\n",
      " 6   product_length_cm           32340 non-null  float64\n",
      " 7   product_height_cm           32340 non-null  float64\n",
      " 8   product_width_cm            32340 non-null  float64\n",
      "dtypes: float64(7), string(2)\n",
      "memory usage: 2.5 MB\n"
     ]
    }
   ],
   "source": [
    "#Revisamos que los tipos de datos sean correctos\n",
    "df_products.info()"
   ]
  },
  {
   "cell_type": "code",
   "execution_count": 33,
   "id": "c56301a2-1325-408a-85cb-ee4698ed0313",
   "metadata": {},
   "outputs": [],
   "source": [
    "#Aplicamos la conversion a minusculas\n",
    "df_products = convertirMinusculas(df_products, \"product_category_name\")"
   ]
  },
  {
   "cell_type": "markdown",
   "id": "013d7f56-e756-4da9-b7de-d1fae51d014a",
   "metadata": {},
   "source": [
    "Customers"
   ]
  },
  {
   "cell_type": "code",
   "execution_count": 34,
   "id": "e825082e-6a81-45ae-82b7-810e4256d762",
   "metadata": {},
   "outputs": [],
   "source": [
    "# Lista de columnas a transfomar en string\n",
    "columnas_string_customers = [\"customer_id\",\"customer_unique_id\",\"customer_zip_code_prefix\",\"customer_city\",\"customer_state\"]\n",
    "\n",
    "#Aplicamos nuestra funcion conversora de string\n",
    "df_customers = transformarString(df_customers, columnas_string_customers)"
   ]
  },
  {
   "cell_type": "code",
   "execution_count": 35,
   "id": "896bf999-243a-49b6-b61b-f58a975b8905",
   "metadata": {},
   "outputs": [
    {
     "name": "stdout",
     "output_type": "stream",
     "text": [
      "<class 'pandas.core.frame.DataFrame'>\n",
      "RangeIndex: 99441 entries, 0 to 99440\n",
      "Data columns (total 5 columns):\n",
      " #   Column                    Non-Null Count  Dtype \n",
      "---  ------                    --------------  ----- \n",
      " 0   customer_id               99441 non-null  string\n",
      " 1   customer_unique_id        99441 non-null  string\n",
      " 2   customer_zip_code_prefix  99441 non-null  string\n",
      " 3   customer_city             99441 non-null  string\n",
      " 4   customer_state            99441 non-null  string\n",
      "dtypes: string(5)\n",
      "memory usage: 3.8 MB\n"
     ]
    }
   ],
   "source": [
    "#Revisamos que los tipos de datos sean correctos\n",
    "df_customers.info()"
   ]
  },
  {
   "cell_type": "code",
   "execution_count": 36,
   "id": "fe9837a6-b3f2-4eb4-b728-96eca0a6b289",
   "metadata": {},
   "outputs": [],
   "source": [
    "#Aplicamos la conversion a minusculas\n",
    "df_customers = convertirMinusculas(df_customers, \"customer_city\")"
   ]
  },
  {
   "cell_type": "code",
   "execution_count": 37,
   "id": "65f76829-82dd-4805-b529-99839837f6e2",
   "metadata": {},
   "outputs": [],
   "source": [
    "#Aplicamos la conversion a mayusculas\n",
    "df_customers = convertirMayusculas(df_customers, \"customer_state\")"
   ]
  },
  {
   "cell_type": "markdown",
   "id": "80ad5d10-404b-49fd-b7e7-a0683625e28a",
   "metadata": {},
   "source": [
    "Payments"
   ]
  },
  {
   "cell_type": "code",
   "execution_count": 38,
   "id": "e11524b2-4cd7-412f-98dd-5dd0f280d68b",
   "metadata": {},
   "outputs": [],
   "source": [
    "# Lista de columnas a transfomar en string\n",
    "columnas_string_order_payments = [\"order_id\",\"payment_type\"]\n",
    "\n",
    "#Aplicamos nuestra funcion conversora de string\n",
    "df_order_payments = transformarString(df_order_payments, columnas_string_order_payments)"
   ]
  },
  {
   "cell_type": "code",
   "execution_count": 39,
   "id": "5905117e-68db-4357-8449-d5d4834d3af1",
   "metadata": {},
   "outputs": [],
   "source": [
    "#Aplicamos la conversion a minusculas\n",
    "df_order_payments = convertirMinusculas(df_order_payments, \"payment_type\")"
   ]
  },
  {
   "cell_type": "markdown",
   "id": "19b70eb7-0812-498b-8067-6fee102acea3",
   "metadata": {},
   "source": [
    "ANALISIS DATAFRAMES"
   ]
  },
  {
   "cell_type": "code",
   "execution_count": 40,
   "id": "7cc29120-9400-4dae-9820-7bb57bddce8d",
   "metadata": {},
   "outputs": [],
   "source": [
    "#Definimos una función para obtener insights relevantes de nuestros dataframes\n",
    "def analisisDataFrames(df): #Como parametro tenemos los dataframes\n",
    "  print(\"----------\")\n",
    "  print(\"Análisis variables cuantitativas\")\n",
    "  columnas_numericas = df.select_dtypes(include=['int', 'float']).columns #Extraemos las columnas numericas\n",
    "  if not columnas_numericas.empty: #Aplicamos un if en caso de que no tenga columnas numéricas el dataframe\n",
    "    print(df[columnas_numericas].describe()) #Usamos el describe para aquellas columnas cuantitativas\n",
    "  print(\"----------\")\n",
    "  print(\"----------\")\n",
    "  print(\"Análisis variables cualitativas\")\n",
    "  columnas_string = df.select_dtypes(include=['string']).columns #Extraemos las columnas string\n",
    "  if not columnas_string.empty: #Aplicamos un if en caso de que no tenga columnas del tipo string el dataframe\n",
    "    print(df[columnas_string].describe()) #Usamos el describe para aquellas columnas cualitativas"
   ]
  },
  {
   "cell_type": "markdown",
   "id": "d3476ba8-c132-4e4e-959a-5b8a8b87e84b",
   "metadata": {},
   "source": [
    "veamos que info nos arroja el df orders si aplicamos la funcion analisis_dataframe"
   ]
  },
  {
   "cell_type": "markdown",
   "id": "f8f65ee8-5ec7-4947-b851-237e533c5a10",
   "metadata": {},
   "source": [
    "Análisis de tendencias de ventas a lo largo del tiempo"
   ]
  },
  {
   "cell_type": "code",
   "execution_count": 41,
   "id": "93a1b1c7",
   "metadata": {},
   "outputs": [
    {
     "name": "stdout",
     "output_type": "stream",
     "text": [
      "Tendencias de ventas mensuales:\n",
      "order_purchase_timestamp\n",
      "2016-09-30       1\n",
      "2016-10-31     270\n",
      "2016-11-30       0\n",
      "2016-12-31       1\n",
      "2017-01-31     748\n",
      "2017-02-28    1641\n",
      "2017-03-31    2546\n",
      "2017-04-30    2303\n",
      "2017-05-31    3545\n",
      "2017-06-30    3135\n",
      "2017-07-31    3872\n",
      "2017-08-31    4193\n",
      "2017-09-30    4149\n",
      "2017-10-31    4478\n",
      "2017-11-30    7288\n",
      "2017-12-31    5513\n",
      "2018-01-31    7069\n",
      "2018-02-28    6556\n",
      "2018-03-31    7003\n",
      "2018-04-30    6798\n",
      "2018-05-31    6749\n",
      "2018-06-30    6096\n",
      "2018-07-31    6156\n",
      "2018-08-31    6351\n",
      "Freq: M, dtype: int64\n"
     ]
    }
   ],
   "source": [
    "\n",
    "# Ordenar el DataFrame por 'order_purchase_timestamp'\n",
    "df_orders = df_orders.sort_values(by='order_purchase_timestamp')\n",
    "\n",
    "# Calcular las tendencias de ventas mensuales\n",
    "monthly_sales = df_orders.set_index('order_purchase_timestamp').resample('M').size()\n",
    "\n",
    "print(\"Tendencias de ventas mensuales:\")\n",
    "print(monthly_sales)"
   ]
  },
  {
   "cell_type": "markdown",
   "id": "6d8ff944",
   "metadata": {},
   "source": [
    " Se observa cierta estacionalidad en las ventas, con picos en ciertos meses y valles en otros. Por ejemplo, parece haber un aumento en las ventas hacia finales de año, con picos notables en noviembre y diciembre. Esto sugiere que hay períodos específicos en los que la demanda de tus productos o servicios es más alta, lo que podría estar relacionado con días festivos, temporadas de regalos o promociones especiales."
   ]
  },
  {
   "cell_type": "code",
   "execution_count": 42,
   "id": "dc34bc9d-afba-4aaa-80cb-80740a6cee74",
   "metadata": {},
   "outputs": [
    {
     "name": "stdout",
     "output_type": "stream",
     "text": [
      "El mes que más se vende en este período es: November\n"
     ]
    }
   ],
   "source": [
    "# Agrupar las ventas por mes y calcular las ventas totales\n",
    "monthly_sales = df_orders.set_index('order_purchase_timestamp').resample('M').size()\n",
    "\n",
    "# Encontrar el mes con el mayor número de ventas\n",
    "max_month_sales = monthly_sales.idxmax()\n",
    "\n",
    "print(\"El mes que más se vende en este período es:\", max_month_sales.strftime('%B'))"
   ]
  },
  {
   "cell_type": "code",
   "execution_count": 43,
   "id": "74399e03-0e35-4030-88a8-e515626e739c",
   "metadata": {},
   "outputs": [
    {
     "name": "stdout",
     "output_type": "stream",
     "text": [
      "El producto más vendido en noviembre tiene un valor de : 59.9 reales\n"
     ]
    }
   ],
   "source": [
    "# que valor tiene el producto que mas se vende en Noviembre\n",
    "november_orders = df_orders[(df_orders['order_purchase_timestamp'].dt.month == 11)]\n",
    "\n",
    "# Fusionar los pedidos de noviembre con los detalles de los productos\n",
    "november_orders_details = pd.merge(november_orders, df_order_items, on='order_id')\n",
    "\n",
    "# Calcular las ventas totales de cada producto en noviembre\n",
    "product_sales_november = november_orders_details.groupby('price')['price'].sum()\n",
    "\n",
    "# Encontrar el producto más vendido en noviembre\n",
    "top_product_november = product_sales_november.idxmax()\n",
    "\n",
    "print(\"El producto más vendido en noviembre tiene un valor de :\", top_product_november,\"reales\")"
   ]
  },
  {
   "cell_type": "markdown",
   "id": "8f357e7d",
   "metadata": {},
   "source": [
    "El hecho de que un producto con un precio más bajo sea el más vendido en el mes con mayores ventas se puede deber a una demanda particularmente fuerte para productos más accesibles durante noviembre. Esto podría ser útil para ajustar estrategias de precios o promociones para aprovechar esta demanda."
   ]
  },
  {
   "cell_type": "code",
   "execution_count": 44,
   "id": "d3c8bda2-0a3e-4017-84d8-b5c048561a9e",
   "metadata": {},
   "outputs": [
    {
     "name": "stdout",
     "output_type": "stream",
     "text": [
      "Distribución de productos por categoría:\n",
      "product_category_name\n",
      "cama_mesa_banho                  3029\n",
      "esporte_lazer                    2867\n",
      "moveis_decoracao                 2657\n",
      "beleza_saude                     2444\n",
      "utilidades_domesticas            2335\n",
      "                                 ... \n",
      "fashion_roupa_infanto_juvenil       5\n",
      "casa_conforto_2                     5\n",
      "pc_gamer                            3\n",
      "seguros_e_servicos                  2\n",
      "cds_dvds_musicais                   1\n",
      "Name: count, Length: 73, dtype: Int64\n"
     ]
    }
   ],
   "source": [
    "#  cantidad de productos por categoría\n",
    "category_distribution = df_products['product_category_name'].value_counts()\n",
    "\n",
    "print(\"Distribución de productos por categoría:\")\n",
    "print(category_distribution)"
   ]
  },
  {
   "cell_type": "markdown",
   "id": "9ae125b7-5f4b-4509-9001-5177493d960f",
   "metadata": {},
   "source": [
    "\n",
    "\"La distribución de productos por categoría muestra una clara concentración en ciertas categorías, como 'cama_mesa_banho', 'esporte_lazer', 'moveis_decoracao', 'beleza_saude' y 'utilidades_domesticas', que representan un alto volumen de productos vendidos. Esto sugiere una fuerte demanda por productos relacionados con el hogar, el ocio, la decoración y el cuidado personal. Por otro lado, existen categorías con una menor representación en las ventas, como 'fashion_roupa_infanto_juvenil', 'casa_conforto_2', 'pc_gamer', 'seguros_e_servicos' y 'cds_dvds_musicais', que podrían ser nichos de mercado menos explorados o productos menos populares entre los clientes. Este insight destaca la importancia de comprender las preferencias del consumidor y ajustar la estrategia de ventas en consecuencia, centrándose en las categorías con mayor demanda para maximizar las oportunidades de venta y satisfacer las necesidades del mercado.\""
   ]
  },
  {
   "cell_type": "code",
   "execution_count": 45,
   "id": "f11cbd4b-77a3-48ad-9d83-0443f0378d15",
   "metadata": {},
   "outputs": [
    {
     "name": "stdout",
     "output_type": "stream",
     "text": [
      "Los estados que menos compran son:\n",
      "customer_state\n",
      "RR     45\n",
      "AP     67\n",
      "AC     77\n",
      "AM    143\n",
      "RO    240\n",
      "Name: customer_unique_id, dtype: int64\n"
     ]
    }
   ],
   "source": [
    "\n",
    "# Agrupar los datos por estado y contar el número de clientes únicos en cada estado\n",
    "state_customers_count = df_customers.groupby('customer_state')['customer_unique_id'].nunique()\n",
    "\n",
    "# Ordenar los resultados en orden ascendente\n",
    "state_customers_count_sorted = state_customers_count.sort_values()\n",
    "\n",
    "# Obtener los estados que menos compran (los primeros 5 estados con menos clientes únicos)\n",
    "states_with_least_customers = state_customers_count_sorted.head(5)\n",
    "\n",
    "print(\"Los estados que menos compran son:\")\n",
    "print(states_with_least_customers)"
   ]
  },
  {
   "cell_type": "code",
   "execution_count": 46,
   "id": "f6a2ec10-6e4b-4d4f-94a4-a7781b76b754",
   "metadata": {},
   "outputs": [
    {
     "name": "stdout",
     "output_type": "stream",
     "text": [
      "Los estados que más compran son:\n",
      "customer_state\n",
      "SP    40302\n",
      "RJ    12384\n",
      "MG    11259\n",
      "RS     5277\n",
      "PR     4882\n",
      "Name: customer_unique_id, dtype: int64\n"
     ]
    }
   ],
   "source": [
    "# Agrupar los datos por estado y contar el número de clientes únicos en cada estado\n",
    "state_customers_count = df_customers.groupby('customer_state')['customer_unique_id'].nunique()\n",
    "\n",
    "# Ordenar los resultados en orden descendente\n",
    "state_customers_count_sorted = state_customers_count.sort_values(ascending=False)\n",
    "\n",
    "# Obtener los estados que más compran (los primeros 5 estados con más clientes únicos)\n",
    "states_with_most_customers = state_customers_count_sorted.head(5)\n",
    "\n",
    "print(\"Los estados que más compran son:\")\n",
    "print(states_with_most_customers)"
   ]
  },
  {
   "cell_type": "markdown",
   "id": "4407b0b1-4351-4b87-b28d-7e404c0c2919",
   "metadata": {},
   "source": [
    "\n",
    "Estos informes proporcionan una visión interesante de la distribución geográfica de las ventas. Algunas observaciones sobre los estados que menos y más compran:\n",
    "\n",
    "Estados que menos compran:\n",
    "Los estados de RR (Roraima), AP (Amapá), AC (Acre), AM (Amazonas) y RO (Rondônia) muestran un menor número de compras en comparación con otros estados. Esto podría estar relacionado con factores como la densidad de población, el acceso a servicios de entrega y la actividad económica en esas regiones.\n",
    "Estados que más compran:\n",
    "Por otro lado, los estados de SP (São Paulo), RJ (Río de Janeiro), MG (Minas Gerais), RS (Río Grande do Sul) y PR (Paraná) muestran una mayor actividad de compra. Estos estados son conocidos por tener una mayor densidad de población, economías más desarrolladas y una infraestructura de comercio electrónico más establecida, lo que puede contribuir a un mayor número de compras.\n",
    "Estos informes podrían ser útiles para identificar áreas geográficas donde se pueden enfocar los esfuerzos de marketing y ventas para mejorar las ventas en los estados con menor actividad comercial, mientras se mantienen estrategias efectivas para satisfacer la demanda en los estados con mayor actividad come\n",
    "\n",
    "En resumen, la mayor cantidad de ventas se concentra en la región sureste de Brasil, mientras que la menor cantidad de ventas se observa en la región norte del país. Estas tendencias pueden influir en las estrategias de mercado y ventas para optimizar el rendimiento en cada región y satisfacer las necesidades únicas de los clientes en cada área.rcial."
   ]
  },
  {
   "cell_type": "code",
   "execution_count": 47,
   "id": "e878b979-a8c8-454c-8dcd-4dde9a05d101",
   "metadata": {},
   "outputs": [
    {
     "name": "stdout",
     "output_type": "stream",
     "text": [
      "--------------------------------------------------\n",
      "Tamaño del DataFrame:\n",
      "(103886, 5)\n",
      "--------------------------------------------------\n",
      "Análisis de tipo de datos:\n",
      "<class 'pandas.core.frame.DataFrame'>\n",
      "RangeIndex: 103886 entries, 0 to 103885\n",
      "Data columns (total 5 columns):\n",
      " #   Column                Non-Null Count   Dtype  \n",
      "---  ------                --------------   -----  \n",
      " 0   order_id              103886 non-null  string \n",
      " 1   payment_sequential    103886 non-null  int64  \n",
      " 2   payment_type          103886 non-null  string \n",
      " 3   payment_installments  103886 non-null  int64  \n",
      " 4   payment_value         103886 non-null  float64\n",
      "dtypes: float64(1), int64(2), string(2)\n",
      "memory usage: 4.0 MB\n",
      "--------------------------------------------------\n",
      "Recuento de nulos:\n",
      "order_id                0\n",
      "payment_sequential      0\n",
      "payment_type            0\n",
      "payment_installments    0\n",
      "payment_value           0\n",
      "dtype: int64\n",
      "--------------------------------------------------\n",
      "Recuento de duplicados:\n",
      "0\n",
      "--------------------------------------------------\n"
     ]
    }
   ],
   "source": [
    "datosDataFrame(df_order_payments)"
   ]
  },
  {
   "cell_type": "code",
   "execution_count": 48,
   "id": "050cbb0d-61e3-4ceb-9177-1c16c0854b3a",
   "metadata": {},
   "outputs": [
    {
     "name": "stdout",
     "output_type": "stream",
     "text": [
      "Distribución de métodos de pago:\n",
      "payment_type\n",
      "credit_card    0.739224\n",
      "boleto          0.19044\n",
      "voucher         0.05559\n",
      "debit_card     0.014718\n",
      "not_defined    0.000029\n",
      "Name: proportion, dtype: Float64\n",
      "\n",
      "Cantidad total de pagos realizados con cada método de pago:\n",
      "payment_type\n",
      "boleto          2869361.27\n",
      "credit_card    12542084.19\n",
      "debit_card       217989.79\n",
      "not_defined           0.00\n",
      "voucher          379436.87\n",
      "Name: payment_value, dtype: float64\n"
     ]
    }
   ],
   "source": [
    "payment_distribution = df_order_payments['payment_type'].value_counts(normalize=True)\n",
    "\n",
    "# Explorar la cantidad total de pagos realizados con cada método de pago\n",
    "total_payment_value = df_order_payments.groupby('payment_type')['payment_value'].sum()\n",
    "\n",
    "print(\"Distribución de métodos de pago:\")\n",
    "print(payment_distribution)\n",
    "print(\"\\nCantidad total de pagos realizados con cada método de pago:\")\n",
    "print(total_payment_value)"
   ]
  },
  {
   "cell_type": "code",
   "execution_count": 49,
   "id": "dcffbd6b-317f-437a-a82a-60636bd21032",
   "metadata": {},
   "outputs": [
    {
     "name": "stdout",
     "output_type": "stream",
     "text": [
      "Los vouchers representan aproximadamente el 2.37 % de las ventas totales.\n"
     ]
    }
   ],
   "source": [
    "# Filtrar los pagos realizados con vouchers\n",
    "voucher_payments = df_order_payments[df_order_payments['payment_type'] == 'voucher']\n",
    "\n",
    "# Calcular el valor total de los pagos realizados con vouchers\n",
    "total_voucher_payments = voucher_payments['payment_value'].sum()\n",
    "\n",
    "# Calcular el valor total de todas las ventas\n",
    "total_sales = df_order_payments['payment_value'].sum()\n",
    "\n",
    "# Calcular el porcentaje que representan los vouchers con respecto a las ventas totales\n",
    "percentage_of_sales = (total_voucher_payments / total_sales) * 100\n",
    "\n",
    "print(\"Los vouchers representan aproximadamente el\", round(percentage_of_sales, 2), \"% de las ventas totales.\")"
   ]
  },
  {
   "cell_type": "code",
   "execution_count": 50,
   "id": "aa138624-9369-45d7-949e-eec1aa54b984",
   "metadata": {},
   "outputs": [
    {
     "name": "stdout",
     "output_type": "stream",
     "text": [
      "Los boletos bancarios representan aproximadamente el 17.92 % de las ventas totales.\n"
     ]
    }
   ],
   "source": [
    "# Filtrar los pagos realizados con boleto bancario\n",
    "boleto_payments = df_order_payments[df_order_payments['payment_type'] == 'boleto']\n",
    "\n",
    "# Calcular el valor total de los pagos realizados con boleto bancario\n",
    "total_boleto_payments = boleto_payments['payment_value'].sum()\n",
    "\n",
    "# Calcular el porcentaje que representan los boletos bancarios con respecto a las ventas totales\n",
    "percentage_of_boleto_sales = (total_boleto_payments / total_sales) * 100\n",
    "\n",
    "print(\"Los boletos bancarios representan aproximadamente el\", round(percentage_of_boleto_sales, 2), \"% de las ventas totales.\")\n"
   ]
  },
  {
   "cell_type": "code",
   "execution_count": 51,
   "id": "beec8a2d-4a4e-431d-be8a-2eed77450b9c",
   "metadata": {},
   "outputs": [
    {
     "name": "stdout",
     "output_type": "stream",
     "text": [
      "Las tarjetas de crédito representan aproximadamente el 78.34 % de las ventas totales.\n"
     ]
    }
   ],
   "source": [
    "# Filtrar los pagos realizados con tarjeta de crédito\n",
    "credit_card_payments = df_order_payments[df_order_payments['payment_type'] == 'credit_card']\n",
    "\n",
    "# Calcular el valor total de los pagos realizados con tarjeta de crédito\n",
    "total_credit_card_payments = credit_card_payments['payment_value'].sum()\n",
    "\n",
    "# Calcular el porcentaje que representan las tarjetas de crédito con respecto a las ventas totales\n",
    "percentage_of_credit_card_sales = (total_credit_card_payments / total_sales) * 100\n",
    "\n",
    "print(\"Las tarjetas de crédito representan aproximadamente el\", round(percentage_of_credit_card_sales, 2), \"% de las ventas totales.\")\n"
   ]
  },
  {
   "cell_type": "code",
   "execution_count": 52,
   "id": "af5b67b3-005c-4e1e-89e9-454fb63e64a6",
   "metadata": {},
   "outputs": [
    {
     "name": "stdout",
     "output_type": "stream",
     "text": [
      "Las tarjetas de débito representan aproximadamente el 1.36 % de las ventas totales.\n"
     ]
    }
   ],
   "source": [
    "# Filtrar los pagos realizados con tarjeta de débito\n",
    "debit_card_payments = df_order_payments[df_order_payments['payment_type'] == 'debit_card']\n",
    "\n",
    "# Calcular el valor total de los pagos realizados con tarjeta de débito\n",
    "total_debit_card_payments = debit_card_payments['payment_value'].sum()\n",
    "\n",
    "# Calcular el porcentaje que representan las tarjetas de débito con respecto a las ventas totales\n",
    "percentage_of_debit_card_sales = (total_debit_card_payments / total_sales) * 100\n",
    "\n",
    "print(\"Las tarjetas de débito representan aproximadamente el\", round(percentage_of_debit_card_sales, 2), \"% de las ventas totales.\")\n"
   ]
  },
  {
   "cell_type": "markdown",
   "id": "83bc7af0-891f-430f-bdd2-d63681698340",
   "metadata": {},
   "source": [
    "\"Según los datos analizados, se observa una clara preferencia por el uso de tarjetas de crédito como método de pago en comparación con otros métodos disponibles. Las tarjetas de crédito representan la mayor parte de las ventas totales, aproximadamente el 78.34%, lo que sugiere una fuerte confianza del consumidor en este método de pago. Por otro lado, aunque las tarjetas de débito también son una opción común, representan solo el 1.36% de las ventas totales. Los boletos bancarios, aunque menos populares que las tarjetas de crédito, aún representan una parte significativa de las ventas totales, aproximadamente el 17.92%. Los vouchers, por su parte, representan la menor proporción de las ventas totales, con aproximadamente el 2.37%. Estos hallazgos destacan la importancia de ofrecer una variedad de métodos de pago para satisfacer las preferencias de los clientes y maximizar las oportunidades de venta.\"\n",
    "\n",
    "\n",
    "\n"
   ]
  },
  {
   "cell_type": "code",
   "execution_count": 53,
   "id": "83d42801-8e45-45b9-8001-1fd4301907ed",
   "metadata": {},
   "outputs": [
    {
     "name": "stdout",
     "output_type": "stream",
     "text": [
      "Porcentaje de clientes que compran solo una vez: 93.62234893052161\n",
      "Porcentaje de clientes que compran más de una vez: 3.0138474070051586\n"
     ]
    }
   ],
   "source": [
    "# Contamos cuántas veces aparece cada cliente en el DataFrame de pedidos\n",
    "order_count = df_customers['customer_unique_id'].value_counts()\n",
    "\n",
    "# Contamos cuántos clientes aparecen solo una vez y cuántos más de una vez\n",
    "one_time_customers = (order_count == 1).sum()  # Clientes que compran solo una vez\n",
    "repeat_customers = (order_count > 1).sum()  # Clientes que compran más de una vez\n",
    "\n",
    "# Calculamos los porcentajes\n",
    "total_customers = len(df_customers)\n",
    "percentage_one_time = (one_time_customers / total_customers) * 100\n",
    "percentage_repeat = (repeat_customers / total_customers) * 100\n",
    "\n",
    "print(\"Porcentaje de clientes que compran solo una vez:\", percentage_one_time)\n",
    "print(\"Porcentaje de clientes que compran más de una vez:\", percentage_repeat)"
   ]
  },
  {
   "cell_type": "markdown",
   "id": "8757956c",
   "metadata": {},
   "source": [
    "con respecto a este analisis sobre la retención de Clientes, Es fundamental entender por qué la mayoría de los clientes solo hacen una compra. Realizar encuestas de satisfacción, recopilar comentarios y analizar el comportamiento de compra podrían proporcionar información valiosa sobre cómo retener a los clientes y convertirlos en compradores recurrentes.\n",
    "En resumen, estos datos indican una oportunidad para mejorar la retención y fidelización de los clientes, lo que podría conducir a un aumento en las ventas y la rentabilidad a largo plazo."
   ]
  },
  {
   "cell_type": "code",
   "execution_count": 3,
   "id": "8d7edeb6",
   "metadata": {},
   "outputs": [],
   "source": [
    "# Crear la carpeta 'data' si no existe\n",
    "if not os.path.exists('data'):\n",
    "    os.makedirs('data')"
   ]
  },
  {
   "cell_type": "code",
   "execution_count": 54,
   "id": "6fc15293",
   "metadata": {},
   "outputs": [],
   "source": [
    "df_orders.to_csv(\"data/df_orders_limpio.csv\")"
   ]
  },
  {
   "cell_type": "code",
   "execution_count": 55,
   "id": "ef6dd033",
   "metadata": {},
   "outputs": [],
   "source": [
    "df_order_items.to_csv(\"data/df_order_items_limpio.csv\")"
   ]
  },
  {
   "cell_type": "code",
   "execution_count": 56,
   "id": "b5c7abf7",
   "metadata": {},
   "outputs": [],
   "source": [
    "df_products.to_csv(\"data/df_products_limpio.csv\")"
   ]
  },
  {
   "cell_type": "code",
   "execution_count": 57,
   "id": "4ad452cf",
   "metadata": {},
   "outputs": [],
   "source": [
    "df_customers.to_csv(\"data/df_customers_limpio.csv\")"
   ]
  },
  {
   "cell_type": "code",
   "execution_count": 58,
   "id": "ff33543a",
   "metadata": {},
   "outputs": [],
   "source": [
    "df_order_payments.to_csv(\"data/df_order_payments_limpio.csv\")"
   ]
  },
  {
   "cell_type": "code",
   "execution_count": null,
   "id": "91f9ce52",
   "metadata": {},
   "outputs": [],
   "source": []
  }
 ],
 "metadata": {
  "kernelspec": {
   "display_name": "Python 3 (ipykernel)",
   "language": "python",
   "name": "python3"
  },
  "language_info": {
   "codemirror_mode": {
    "name": "ipython",
    "version": 3
   },
   "file_extension": ".py",
   "mimetype": "text/x-python",
   "name": "python",
   "nbconvert_exporter": "python",
   "pygments_lexer": "ipython3",
   "version": "3.11.7"
  }
 },
 "nbformat": 4,
 "nbformat_minor": 5
}
