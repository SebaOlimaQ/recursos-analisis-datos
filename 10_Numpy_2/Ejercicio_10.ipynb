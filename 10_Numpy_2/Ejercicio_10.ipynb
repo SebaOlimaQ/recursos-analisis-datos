{
  "nbformat": 4,
  "nbformat_minor": 0,
  "metadata": {
    "colab": {
      "provenance": []
    },
    "kernelspec": {
      "name": "python3",
      "display_name": "Python 3"
    },
    "language_info": {
      "name": "python"
    }
  },
  "cells": [
    {
      "cell_type": "markdown",
      "source": [
        "#NUMPY\n",
        "##PARTE A\n",
        "###Ejercicio 1.0\n",
        "Importar los módulos necesarios"
      ],
      "metadata": {
        "id": "hqcAD4KjDAmS"
      }
    },
    {
      "cell_type": "code",
      "source": [
        "import numpy as np\n",
        "import math"
      ],
      "metadata": {
        "id": "Yrr3xTQvDOQw"
      },
      "execution_count": 1,
      "outputs": []
    },
    {
      "cell_type": "markdown",
      "source": [
        "##Ejercicio 1.1\n",
        "Calculemos el producto matricial, la matriz transpuesta y el determinante."
      ],
      "metadata": {
        "id": "Nxf5lJXVDZzP"
      }
    },
    {
      "cell_type": "code",
      "source": [
        "matrizA = np.array([[5,6],[7,8]])\n",
        "matrizB = np.array ([[8,9],[10,11]])"
      ],
      "metadata": {
        "id": "nakKcP1ODcHZ"
      },
      "execution_count": 2,
      "outputs": []
    },
    {
      "cell_type": "code",
      "source": [
        "producto_matricial = np.matmul(matrizA, matrizB)\n",
        "transpuesta = np.transpose(matrizA)\n",
        "determinante = np.linalg.det(matrizA)\n",
        "\n",
        "print (\"Producto matricial:\",\"\\n\", producto_matricial,\"\\n\\n\",\"transpuesta:\",\"\\n\",transpuesta,\"\\n\\n\",\"Determinante:\",\"\\n\",determinante)"
      ],
      "metadata": {
        "colab": {
          "base_uri": "https://localhost:8080/"
        },
        "id": "kdApJf9kEDjI",
        "outputId": "ddd118ff-f62e-4c87-ce3c-75ab3867f7f3"
      },
      "execution_count": 13,
      "outputs": [
        {
          "output_type": "stream",
          "name": "stdout",
          "text": [
            "Producto matricial: \n",
            " [[100 111]\n",
            " [136 151]] \n",
            "\n",
            " transpuesta: \n",
            " [[5 7]\n",
            " [6 8]] \n",
            "\n",
            " Determinante: \n",
            " -2.000000000000005\n"
          ]
        }
      ]
    },
    {
      "cell_type": "markdown",
      "source": [
        "##Ejercicio 1.2\n",
        "Numpy tiene una función especifica para resolver ecuaciones lineales"
      ],
      "metadata": {
        "id": "qO19Y-MrG1Ox"
      }
    },
    {
      "cell_type": "code",
      "source": [
        "coeficientes = np.array([[2, 3], [4, -1]])\n",
        "constantes = np.array([5, 2])\n",
        "#donde 2x + 3y = 5\n",
        "#  4x + (-1y) = 2\n",
        "\n",
        "solucion = np.linalg.solve(coeficientes, constantes)\n",
        "print(\"Solución del sistema de ecuaciones:\")\n",
        "print(\"x =\", solucion[0])\n",
        "print(\"y =\", solucion[1])"
      ],
      "metadata": {
        "colab": {
          "base_uri": "https://localhost:8080/"
        },
        "id": "rnWAR0l4G6HI",
        "outputId": "1aa20009-5b26-49ef-af6a-bb418e3257f8"
      },
      "execution_count": 22,
      "outputs": [
        {
          "output_type": "stream",
          "name": "stdout",
          "text": [
            "Solución del sistema de ecuaciones:\n",
            "x = 0.7857142857142857\n",
            "y = 1.1428571428571428\n"
          ]
        }
      ]
    },
    {
      "cell_type": "markdown",
      "source": [
        "La función np.linalg.solve resuelve este sistema de ecuaciones lineales, encontrando los valores de x y y que satisfacen ambas ecuaciones simultáneamente."
      ],
      "metadata": {
        "id": "a-IYSlsbPILT"
      }
    },
    {
      "cell_type": "markdown",
      "source": [
        "##Ejercicio 1.3\n",
        "Exploremos funciones para conocer las dimensiones de un array multidimensional"
      ],
      "metadata": {
        "id": "S2Od7d9FPpYL"
      }
    },
    {
      "cell_type": "code",
      "source": [
        "array_multidimensional = np.array([[[0, 1, 2, 3],[4, 5, 6, 7]],\n",
        "                                    [[0, 1, 2, 3],[4, 5, 6, 7]],\n",
        "                                     [[0 ,1 ,2, 3],[4, 5, 6, 7]]])"
      ],
      "metadata": {
        "id": "g-b6CnGXPrZa"
      },
      "execution_count": 23,
      "outputs": []
    },
    {
      "cell_type": "code",
      "source": [
        "array_multidimensional.ndim"
      ],
      "metadata": {
        "colab": {
          "base_uri": "https://localhost:8080/"
        },
        "id": "b8LXNV61Pvey",
        "outputId": "d7aea7d8-03e2-4398-ef74-3aeead623e0e"
      },
      "execution_count": 24,
      "outputs": [
        {
          "output_type": "execute_result",
          "data": {
            "text/plain": [
              "3"
            ]
          },
          "metadata": {},
          "execution_count": 24
        }
      ]
    },
    {
      "cell_type": "markdown",
      "source": [
        "##ndim\n",
        " es un atributo de los arrays de NumPy que devuelve el número de dimensiones del array. En otras palabras, indica cuántos ejes tiene el array."
      ],
      "metadata": {
        "id": "vQ-JVy48P8SS"
      }
    },
    {
      "cell_type": "code",
      "source": [
        "array_multidimensional.size"
      ],
      "metadata": {
        "colab": {
          "base_uri": "https://localhost:8080/"
        },
        "id": "e9JHf0GJQCZi",
        "outputId": "95be05c2-ba18-40f2-b6ef-0198c0165365"
      },
      "execution_count": 25,
      "outputs": [
        {
          "output_type": "execute_result",
          "data": {
            "text/plain": [
              "24"
            ]
          },
          "metadata": {},
          "execution_count": 25
        }
      ]
    },
    {
      "cell_type": "markdown",
      "source": [
        "\n",
        "##.size\n",
        "en NumPy devuelve el número total de elementos en el array. En otras palabras, indica el tamaño total del array contando todos los elementos."
      ],
      "metadata": {
        "id": "dR4BcQ5nQRLb"
      }
    },
    {
      "cell_type": "code",
      "source": [
        "array_multidimensional.shape"
      ],
      "metadata": {
        "colab": {
          "base_uri": "https://localhost:8080/"
        },
        "id": "LMCS6o1eQfwz",
        "outputId": "a76131b3-8b6c-40ff-d313-46dec3deae27"
      },
      "execution_count": 26,
      "outputs": [
        {
          "output_type": "execute_result",
          "data": {
            "text/plain": [
              "(3, 2, 4)"
            ]
          },
          "metadata": {},
          "execution_count": 26
        }
      ]
    },
    {
      "cell_type": "markdown",
      "source": [
        "##.shape\n",
        " en NumPy devuelve una tupla que describe la forma (shape) o la estructura del array. Esta tupla indica el número de elementos en cada dimensión del array.\n",
        "\n",
        " Por lo tanto, la tupla de forma (3, 2, 4) indica que hay 3 elementos en la primera dimensión, 2 elementos en la segunda dimensión y 4 elementos en la tercera dimensión."
      ],
      "metadata": {
        "id": "jxMg84ikQv3p"
      }
    },
    {
      "cell_type": "markdown",
      "source": [
        "##Ejercicio 1.4\n",
        "Veamos que posibilidades hay para indexar valores y separar un array"
      ],
      "metadata": {
        "id": "-9WN1STARVDT"
      }
    },
    {
      "cell_type": "code",
      "source": [
        "array_indexado = np.array([1, 2, 3, 4, 5, 6, 7])"
      ],
      "metadata": {
        "id": "UOcKSIduSHhT"
      },
      "execution_count": 27,
      "outputs": []
    },
    {
      "cell_type": "code",
      "source": [
        "\n",
        "array_indexado[0]"
      ],
      "metadata": {
        "colab": {
          "base_uri": "https://localhost:8080/"
        },
        "id": "UoCyQQQ_SL-L",
        "outputId": "d898e2c8-5380-4e00-929b-af6c35854345"
      },
      "execution_count": 28,
      "outputs": [
        {
          "output_type": "execute_result",
          "data": {
            "text/plain": [
              "1"
            ]
          },
          "metadata": {},
          "execution_count": 28
        }
      ]
    },
    {
      "cell_type": "code",
      "source": [
        "array_indexado[0:2]"
      ],
      "metadata": {
        "colab": {
          "base_uri": "https://localhost:8080/"
        },
        "id": "-dItkt5pSR9L",
        "outputId": "dcabe326-be12-48f8-cc89-e9257be5a36e"
      },
      "execution_count": 29,
      "outputs": [
        {
          "output_type": "execute_result",
          "data": {
            "text/plain": [
              "array([1, 2])"
            ]
          },
          "metadata": {},
          "execution_count": 29
        }
      ]
    },
    {
      "cell_type": "markdown",
      "source": [
        "que va del indice 0 hasta el indice 1 por que el indice 2 no es inclusivo"
      ],
      "metadata": {
        "id": "48t7ICe5SWEF"
      }
    },
    {
      "cell_type": "code",
      "source": [
        "array_indexado[4:]"
      ],
      "metadata": {
        "colab": {
          "base_uri": "https://localhost:8080/"
        },
        "id": "iNWQNarbSh8S",
        "outputId": "1039af5d-2b54-4890-febc-2842e5cdc081"
      },
      "execution_count": 30,
      "outputs": [
        {
          "output_type": "execute_result",
          "data": {
            "text/plain": [
              "array([5, 6, 7])"
            ]
          },
          "metadata": {},
          "execution_count": 30
        }
      ]
    },
    {
      "cell_type": "markdown",
      "source": [
        "que va desde el indice 4 hasta el ultimo indice del array"
      ],
      "metadata": {
        "id": "pCLUTwxsSo_t"
      }
    },
    {
      "cell_type": "markdown",
      "source": [
        "##Ejercicio 1.5\n",
        "Veamos como utilizar la funcion sort"
      ],
      "metadata": {
        "id": "nDdK56YaS6C7"
      }
    },
    {
      "cell_type": "code",
      "source": [
        "array_desordenado = np.array([3, 1, 5, 2, 4])\n",
        "\n",
        "array_ordenado = np.sort(array_desordenado)\n",
        "\n",
        "array_ordenado"
      ],
      "metadata": {
        "colab": {
          "base_uri": "https://localhost:8080/"
        },
        "id": "ZFgIphR3S9iM",
        "outputId": "ae8500fb-1766-4da1-9e6c-3d3ccf190f78"
      },
      "execution_count": 31,
      "outputs": [
        {
          "output_type": "execute_result",
          "data": {
            "text/plain": [
              "array([1, 2, 3, 4, 5])"
            ]
          },
          "metadata": {},
          "execution_count": 31
        }
      ]
    },
    {
      "cell_type": "markdown",
      "source": [
        "## sort\n",
        "ordena el array"
      ],
      "metadata": {
        "id": "vHrC5CVaTEVy"
      }
    },
    {
      "cell_type": "markdown",
      "source": [
        "##Ejericio 1.6\n",
        "Ademas de ordernar un array podemos invertir el orden de los valores"
      ],
      "metadata": {
        "id": "0h4hPbCXTJjU"
      }
    },
    {
      "cell_type": "code",
      "source": [
        "array_original = np.array([1, 2, 3, 4, 11, 12, 13, 14, 15, 5, 6, 7, 8])\n",
        "\n",
        "array_reverso = np.flip(array_original)\n",
        "array_reverso"
      ],
      "metadata": {
        "colab": {
          "base_uri": "https://localhost:8080/"
        },
        "id": "W5AQXrdETMlD",
        "outputId": "437ab142-8bff-49a7-81a2-faf08c3cf286"
      },
      "execution_count": 32,
      "outputs": [
        {
          "output_type": "execute_result",
          "data": {
            "text/plain": [
              "array([ 8,  7,  6,  5, 15, 14, 13, 12, 11,  4,  3,  2,  1])"
            ]
          },
          "metadata": {},
          "execution_count": 32
        }
      ]
    },
    {
      "cell_type": "markdown",
      "source": [
        "##flip\n",
        "invierte en un giro de 180° el orden de los indices del array"
      ],
      "metadata": {
        "id": "Cq57pYv9TVkE"
      }
    },
    {
      "cell_type": "markdown",
      "source": [],
      "metadata": {
        "id": "fOs8nCzITdKr"
      }
    },
    {
      "cell_type": "markdown",
      "source": [
        "##Ejercicio 1.7\n",
        "Crear un array con numeros aleatorios"
      ],
      "metadata": {
        "id": "tWSMref0TjeD"
      }
    },
    {
      "cell_type": "code",
      "source": [
        "rng = np.random.default_rng()"
      ],
      "metadata": {
        "id": "kqWfVrzATmkE"
      },
      "execution_count": 33,
      "outputs": []
    },
    {
      "cell_type": "code",
      "source": [
        "rng.random(3)"
      ],
      "metadata": {
        "colab": {
          "base_uri": "https://localhost:8080/"
        },
        "id": "vvHKD8bHTrd7",
        "outputId": "fa3ad656-a39a-4e95-e476-809e23ec02f6"
      },
      "execution_count": 34,
      "outputs": [
        {
          "output_type": "execute_result",
          "data": {
            "text/plain": [
              "array([0.49973665, 0.55105782, 0.34523242])"
            ]
          },
          "metadata": {},
          "execution_count": 34
        }
      ]
    },
    {
      "cell_type": "markdown",
      "source": [
        "##np.random\n",
        "default_rng es una función que te permite crear un generador de números aleatorios predeterminado en NumPy, que puede ser utilizado para generar secuencias de números aleatorios para diversas aplicaciones."
      ],
      "metadata": {
        "id": "F0XKexhFV5pB"
      }
    },
    {
      "cell_type": "code",
      "source": [
        "rng.integers(5, size=(2, 4))"
      ],
      "metadata": {
        "colab": {
          "base_uri": "https://localhost:8080/"
        },
        "id": "JDmWljWCWFTP",
        "outputId": "27972fc4-a761-4032-a69e-06449bb86d84"
      },
      "execution_count": 35,
      "outputs": [
        {
          "output_type": "execute_result",
          "data": {
            "text/plain": [
              "array([[4, 1, 3, 1],\n",
              "       [1, 3, 1, 3]])"
            ]
          },
          "metadata": {},
          "execution_count": 35
        }
      ]
    },
    {
      "cell_type": "markdown",
      "source": [
        "rng.integers(5, size=(2, 4)) es una función que genera una matriz de números enteros aleatorios entre 0 (inclusive) y 5 (exclusivo) con una forma de (2, 4). Aquí está la explicación detallada:\n",
        "\n",
        "rng: Es un objeto de generador de números aleatorios creado con np.random.default_rng(). Este objeto se utiliza para generar números aleatorios de diferentes distribuciones.\n",
        "\n",
        ".integers: Es un método del objeto de generador de números aleatorios (rng) que se utiliza para generar números enteros aleatorios dentro de un rango dado.\n",
        "\n",
        "5: Es el límite superior del rango de valores enteros aleatorios. En este caso, genera números enteros aleatorios entre 0 (inclusive) y 5 (exclusivo), lo que significa que los números generados estarán en el rango [0, 5).\n",
        "\n",
        "size=(2, 4): Es el tamaño o forma de la matriz que se va a generar. En este caso, se genera una matriz con 2 filas y 4 columnas.\n",
        "\n",
        "Por lo tanto, rng.integers(5, size=(2, 4)) generará una matriz de números enteros aleatorios con una forma de (2, 4), donde cada número estará en el rango de 0 a 4."
      ],
      "metadata": {
        "id": "Z5cTugi6WYpR"
      }
    },
    {
      "cell_type": "markdown",
      "source": [
        "##Ejercicio 1.8\n",
        "Contar valores unicos dentro de un array"
      ],
      "metadata": {
        "id": "XWT4TkJWWdS-"
      }
    },
    {
      "cell_type": "code",
      "source": [
        "array_repetidos = np.array([11, 11, 12, 13, 14, 15, 16, 17, 12, 13, 11, 14, 18, 19, 20, 11, 12, 13, 14, 15, 16, 17, 11, 14, 18, 19, 20])\n",
        "\n",
        "array_unicos= np.unique(array_repetidos)\n",
        "array_unicos"
      ],
      "metadata": {
        "colab": {
          "base_uri": "https://localhost:8080/"
        },
        "id": "gzDqf7fZWfRt",
        "outputId": "66982d18-529d-41d5-82fc-91a7fb3f29e9"
      },
      "execution_count": 36,
      "outputs": [
        {
          "output_type": "execute_result",
          "data": {
            "text/plain": [
              "array([11, 12, 13, 14, 15, 16, 17, 18, 19, 20])"
            ]
          },
          "metadata": {},
          "execution_count": 36
        }
      ]
    },
    {
      "cell_type": "markdown",
      "source": [
        "##unique\n",
        "filtra entre valores repetidos de un array y entrega valores unicos"
      ],
      "metadata": {
        "id": "8LWU_w76Wk07"
      }
    },
    {
      "cell_type": "markdown",
      "source": [
        "##Parte A\n",
        "Tenemos una función cúbica con la forma (3x^3-7x^2+6*x+9)"
      ],
      "metadata": {
        "id": "i-JmAIesW0Pc"
      }
    },
    {
      "cell_type": "code",
      "source": [
        "def mi_funcion(x):\n",
        "    return 3 * x**3 - 7 * x**2 + 6 * x + 9"
      ],
      "metadata": {
        "id": "rR0CvO7KW25l"
      },
      "execution_count": 37,
      "outputs": []
    },
    {
      "cell_type": "markdown",
      "source": [
        "##Ejercicio 2.1\n",
        "Calcular cuales serian los valores obtenidos al pasarle como argumentos los valores pares desde 0 a 20 incluyendo ambos. Guardar el resultado en un array."
      ],
      "metadata": {
        "id": "TBhCKyehW8ll"
      }
    },
    {
      "cell_type": "code",
      "source": [
        "lista_valores_x = []\n",
        "for i in range(0, 21, 2):\n",
        "    lista_valores_x.append(i)\n",
        "input_array = np.array(lista_valores_x)\n",
        "input_array"
      ],
      "metadata": {
        "colab": {
          "base_uri": "https://localhost:8080/"
        },
        "id": "u_rxOio9W-sU",
        "outputId": "65b0c7b1-835c-44df-b848-bbf5b8cb9c74"
      },
      "execution_count": 38,
      "outputs": [
        {
          "output_type": "execute_result",
          "data": {
            "text/plain": [
              "array([ 0,  2,  4,  6,  8, 10, 12, 14, 16, 18, 20])"
            ]
          },
          "metadata": {},
          "execution_count": 38
        }
      ]
    },
    {
      "cell_type": "markdown",
      "source": [
        "Inicialización de la lista: Se crea una lista vacía llamada lista_valores_x.\n",
        "\n",
        "Bucle for: Se utiliza un bucle for para iterar sobre los números pares desde 0 hasta 20 (ambos incluidos), con un paso de 2 en 2. Esto se logra con el rango range(0, 21, 2), donde el tercer argumento especifica el paso.\n",
        "\n",
        "Adición de valores a la lista: En cada iteración del bucle, el valor actual i, que es un número par, se agrega a la lista lista_valores_x utilizando el método append().\n",
        "\n",
        "Creación del array de NumPy: Después de que el bucle haya terminado de ejecutarse, se utiliza la función np.array() de NumPy para convertir la lista lista_valores_x en un array de NumPy. Este array contendrá todos los valores pares del 0 al 20, incluidos ambos.\n",
        "\n",
        "El resultado final es un array de NumPy llamado input_array que contiene los valores pares del 0 al 20, incluidos ambos."
      ],
      "metadata": {
        "id": "Gkpu_5PyXekH"
      }
    },
    {
      "cell_type": "code",
      "source": [
        "output_array = mi_funcion(input_array)\n",
        "output_array"
      ],
      "metadata": {
        "colab": {
          "base_uri": "https://localhost:8080/"
        },
        "id": "a1NQruKYXk6J",
        "outputId": "4c3c1866-19d7-4817-ef78-762794567475"
      },
      "execution_count": 39,
      "outputs": [
        {
          "output_type": "execute_result",
          "data": {
            "text/plain": [
              "array([    9,    17,   113,   441,  1145,  2369,  4257,  6953, 10601,\n",
              "       15345, 21329])"
            ]
          },
          "metadata": {},
          "execution_count": 39
        }
      ]
    },
    {
      "cell_type": "markdown",
      "source": [
        "Dado que mi_funcion toma un array x como entrada y aplica una serie de operaciones matemáticas a cada elemento del array, podemos inferir que output_array contendrá los resultados de aplicar estas operaciones a cada valor en input_array.\n",
        "\n",
        "Entonces, output_array contendrá los resultados de evaluar la expresión\n",
        "3\n",
        "�\n",
        "3\n",
        "−\n",
        "7\n",
        "�\n",
        "2\n",
        "+\n",
        "6\n",
        "�\n",
        "+\n",
        "9\n",
        "3x\n",
        "3\n",
        " −7x\n",
        "2\n",
        " +6x+9 para cada valor en input_array. Es decir, para cada valor x en input_array, output_array contendrá el resultado de calcular\n",
        "3\n",
        "�\n",
        "3\n",
        "−\n",
        "7\n",
        "�\n",
        "2\n",
        "+\n",
        "6\n",
        "�\n",
        "+\n",
        "9\n",
        "3x\n",
        "3\n",
        " −7x\n",
        "2\n",
        " +6x+9.\n",
        "\n",
        "Si ejecutas el código con input_array que contiene valores pares del 0 al 20 (incluyendo ambos), output_array contendrá los resultados de evaluar la función mi_funcion en cada uno de esos valores."
      ],
      "metadata": {
        "id": "392O47Y9YCps"
      }
    },
    {
      "cell_type": "markdown",
      "source": [
        "##Ejercicio 2.2\n",
        "Al array que obtuvimos en la sección anterior:\n",
        "\n",
        "Calcula la media de los números en el array que contiene los valores calculados.\n",
        "Calcula la desviación estándar de los números en el array calculado.\n",
        "Encuentra el valor máximo y su índice en el array calculado.\n",
        "Crea un nuevo array array_cuadrados que contenga el cuadrado de cada número en calculado.\n",
        "Crear un array con la suma acumulativa (a1, a1+a2, a1+a2+a3, .....) de los elementos en array_cuadrados.\n",
        "Crear un array con la raiz 5ta de cada valor de array_cuadrados (redondear a 2 decimales).\n",
        "Imprimir los resultados obtenidos."
      ],
      "metadata": {
        "id": "XCxd3jaAYImk"
      }
    },
    {
      "cell_type": "code",
      "source": [
        "media = np.mean(output_array)\n",
        "\n",
        "desviacion_estandar = np.std(output_array)\n",
        "\n",
        "valor_maximo = np.max(output_array)\n",
        "\n",
        "indice_maximo = np.argmax(output_array)\n",
        "\n",
        "array_cuadrados = np.square(output_array)\n",
        "\n",
        "suma_acumulativa_cuadrados = np.cumsum(array_cuadrados)\n",
        "\n",
        "array_raiz_quinta = np.power(array_cuadrados, 1/5).round(2)\n",
        "\n",
        "print(\"Media:\", media)\n",
        "print(\"Desviación Estándar:\", desviacion_estandar)\n",
        "print(\"Valor Máximo:\", valor_maximo)\n",
        "print(\"Índice del Valor Máximo:\", indice_maximo)\n",
        "print(\"Valores al Cuadrado:\", array_cuadrados)\n",
        "print(\"Array Suma Acumulativa de Valores al Cuadrado:\", suma_acumulativa_cuadrados)\n",
        "print(\"Array Resultado Raiz Quinta:\", array_raiz_quinta)"
      ],
      "metadata": {
        "colab": {
          "base_uri": "https://localhost:8080/"
        },
        "id": "1VBCh3PGYLu1",
        "outputId": "380cf87c-7d5c-4c3f-c2da-c1d692378f29"
      },
      "execution_count": 40,
      "outputs": [
        {
          "output_type": "stream",
          "name": "stdout",
          "text": [
            "Media: 5689.0\n",
            "Desviación Estándar: 6877.906658279102\n",
            "Valor Máximo: 21329\n",
            "Índice del Valor Máximo: 10\n",
            "Valores al Cuadrado: [       81       289     12769    194481   1311025   5612161  18122049\n",
            "  48344209 112381201 235469025 454926241]\n",
            "Array Suma Acumulativa de Valores al Cuadrado: [       81       370     13139    207620   1518645   7130806  25252855\n",
            "  73597064 185978265 421447290 876373531]\n",
            "Array Resultado Raiz Quinta: [ 2.41  3.11  6.63 11.42 16.73 22.38 28.29 34.42 40.75 47.25 53.9 ]\n"
          ]
        }
      ]
    },
    {
      "cell_type": "markdown",
      "source": [
        "media = np.mean(output_array): Calcula la media aritmética de los valores en output_array.\n",
        "\n",
        "desviacion_estandar = np.std(output_array): Calcula la desviación estándar de los valores en output_array.\n",
        "\n",
        "valor_maximo = np.max(output_array): Encuentra el valor máximo en output_array.\n",
        "\n",
        "indice_maximo = np.argmax(output_array): Encuentra el índice del valor máximo en output_array.\n",
        "\n",
        "array_cuadrados = np.square(output_array): Calcula el cuadrado de cada valor en output_array.\n",
        "\n",
        "suma_acumulativa_cuadrados = np.cumsum(array_cuadrados): Calcula la suma acumulativa de los valores en array_cuadrados.\n",
        "\n",
        "array_raiz_quinta = np.power(array_cuadrados, 1/5).round(2): Calcula la raíz quinta de cada valor en array_cuadrados y redondea los resultados a 2 decimales.\n",
        "\n",
        "Imprime los resultados de cada cálculo:\n",
        "\n",
        "La media aritmética.\n",
        "La desviación estándar.\n",
        "El valor máximo.\n",
        "El índice del valor máximo.\n",
        "Los valores de output_array al cuadrado.\n",
        "La suma acumulativa de los valores al cuadrado.\n",
        "Los valores de array_raiz_quinta.\n",
        "En resumen, este código realiza una serie de cálculos estadísticos y operaciones matemáticas sobre los valores en output_array y muestra los resultados."
      ],
      "metadata": {
        "id": "YTBZXWVTYiWe"
      }
    },
    {
      "cell_type": "markdown",
      "source": [
        "##Ejercicio 2.3\n",
        "Con los arrays que obtuvimos en la sección anterior:\n",
        "\n",
        "Calcular el producto escalar (o producto punto) entre los array output y el array raiz quinta.\n",
        "Crear un vector con los 3 ultimos valores del array input. Crear un segundo vector con los 3 primeros valores del array suma acumulativa de los cuadrados. Calcular el array que daria como resultado hacer el producto vectorial entre ambos."
      ],
      "metadata": {
        "id": "2dM0GqdeYlut"
      }
    },
    {
      "cell_type": "code",
      "source": [
        "resultado_producto_escalar = np.matmul(output_array,array_raiz_quinta).round(2)\n",
        "resultado_producto_escalar"
      ],
      "metadata": {
        "colab": {
          "base_uri": "https://localhost:8080/"
        },
        "id": "4ANBG2m7Yogc",
        "outputId": "f31b28f2-b80c-42be-cc61-e0d622071c14"
      },
      "execution_count": 41,
      "outputs": [
        {
          "output_type": "execute_result",
          "data": {
            "text/plain": [
              "2744461.93"
            ]
          },
          "metadata": {},
          "execution_count": 41
        }
      ]
    },
    {
      "cell_type": "code",
      "source": [
        "vector1 = input_array[-3:]\n",
        "vector2 = suma_acumulativa_cuadrados[:3]\n",
        "resultado_producto_vectorial = np.cross(vector1,vector2)\n",
        "resultado_producto_vectorial"
      ],
      "metadata": {
        "colab": {
          "base_uri": "https://localhost:8080/"
        },
        "id": "UCGYdhoHYsim",
        "outputId": "f9965037-0831-4e6c-dd43-54d072819cf6"
      },
      "execution_count": 42,
      "outputs": [
        {
          "output_type": "execute_result",
          "data": {
            "text/plain": [
              "array([ 229102, -208604,    4462])"
            ]
          },
          "metadata": {},
          "execution_count": 42
        }
      ]
    },
    {
      "cell_type": "markdown",
      "source": [
        "resultado_producto_escalar = np.matmul(output_array, array_raiz_quinta).round(2): Este código calcula el producto escalar entre output_array y array_raiz_quinta, redondeando el resultado a 2 decimales.\n",
        "\n",
        " El producto escalar es una operación entre dos vectores que produce un único escalar. En este caso, output_array y array_raiz_quinta deben tener la misma longitud para que el producto escalar pueda ser calculado.\n",
        "\n",
        "vector1 = input_array[-3:]: Aquí se seleccionan los últimos tres elementos de input_array utilizando la indexación negativa. Es decir, se toman los elementos empezando desde el tercer elemento contando desde el final hasta el último.\n",
        "\n",
        "vector2 = suma_acumulativa_cuadrados[:3]: En este caso, se seleccionan los primeros tres elementos de suma_acumulativa_cuadrados utilizando la indexación positiva. Es decir, se toman los tres primeros elementos de la lista.\n",
        "\n",
        "resultado_producto_vectorial = np.cross(vector1, vector2): Este código calcula el producto vectorial entre vector1 y vector2. El producto vectorial es una operación entre dos vectores que produce un nuevo vector perpendicular a los vectores originales. El resultado es un vector tridimensional en el espacio euclidiano."
      ],
      "metadata": {
        "id": "Z5lclFu1Y-0F"
      }
    }
  ]
}